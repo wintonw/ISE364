{
 "cells": [
  {
   "cell_type": "code",
   "execution_count": 1,
   "metadata": {},
   "outputs": [],
   "source": [
    "import pandas as pd\n",
    "import numpy as np\n",
    "import matplotlib.pyplot as plt\n",
    "import seaborn as sns\n",
    "from sklearn.preprocessing import OneHotEncoder\n",
    "from sklearn.model_selection import train_test_split\n",
    "from sklearn.preprocessing import MinMaxScaler\n",
    "from tensorflow.keras.models import Sequential\n",
    "from tensorflow.keras.layers import Dense, Activation, Dropout\n",
    "from tensorflow.keras.callbacks import EarlyStopping\n",
    "from sklearn.metrics import classification_report, confusion_matrix, accuracy_score"
   ]
  },
  {
   "cell_type": "markdown",
   "metadata": {},
   "source": [
    "### Read, formate the data, and train using the base model with sigmoid as activation function"
   ]
  },
  {
   "cell_type": "code",
   "execution_count": 2,
   "metadata": {},
   "outputs": [],
   "source": [
    "df = pd.read_csv('data.csv', usecols=[*range(0,12)], names=[0, 1, 2, 3, 4, 5, 6, 7, 8, 9, 10, 11])\n",
    "# cols\n",
    "columns = [*range(0, 12)]\n",
    "categorical_columns = [1, 3, 5, 6, 7]\n",
    "# if data is categorical, transform them\n",
    "df_ohe = df.copy()\n",
    "for index, i in enumerate(columns):\n",
    "    if index in categorical_columns:\n",
    "        ohe = OneHotEncoder()\n",
    "        feature_arr = ohe.fit_transform(df[[index]]).toarray()\n",
    "        feature_label = [str(index) + \"_\" + str(k)\n",
    "                         for k in range(feature_arr.shape[1])]\n",
    "        feature = pd.DataFrame(feature_arr, columns=feature_label)\n",
    "        # drop the last col\n",
    "        # feature = feature.iloc[:, :-1]\n",
    "        df_ohe = pd.concat([df_ohe, feature], axis=1)\n",
    "        df_ohe.drop(index, axis=1, inplace=True)\n",
    "\n",
    "# set up X, y\n",
    "X = df_ohe.drop(11, axis=1).values\n",
    "y = df_ohe[11].values\n",
    "# split the data\n",
    "X_train, X_test, y_train, y_test = train_test_split(\n",
    "    X, y, test_size=0.3, random_state=12)"
   ]
  },
  {
   "cell_type": "code",
   "execution_count": 3,
   "metadata": {},
   "outputs": [
    {
     "name": "stdout",
     "output_type": "stream",
     "text": [
      "Epoch 00455: early stopping\n",
      "WARNING:tensorflow:From <ipython-input-3-624356fa7a90>:33: Sequential.predict_classes (from tensorflow.python.keras.engine.sequential) is deprecated and will be removed after 2021-01-01.\n",
      "Instructions for updating:\n",
      "Please use instead:* `np.argmax(model.predict(x), axis=-1)`,   if your model does multi-class classification   (e.g. if it uses a `softmax` last-layer activation).* `(model.predict(x) > 0.5).astype(\"int32\")`,   if your model does binary classification   (e.g. if it uses a `sigmoid` last-layer activation).\n",
      "[[2171   97]\n",
      " [ 416  316]]\n",
      "              precision    recall  f1-score   support\n",
      "\n",
      "           0       0.84      0.96      0.89      2268\n",
      "           1       0.77      0.43      0.55       732\n",
      "\n",
      "    accuracy                           0.83      3000\n",
      "   macro avg       0.80      0.69      0.72      3000\n",
      "weighted avg       0.82      0.83      0.81      3000\n",
      "\n",
      "accuracy_score 0.829\n"
     ]
    },
    {
     "data": {
      "image/png": "[encoded data removed]",
      "text/plain": [
       "<Figure size 432x288 with 1 Axes>"
      ]
     },
     "metadata": {
      "needs_background": "light"
     },
     "output_type": "display_data"
    }
   ],
   "source": [
    "# scale the data\n",
    "scaler = MinMaxScaler()\n",
    "scaler.fit(X_train)\n",
    "X_train = scaler.transform(X_train)\n",
    "X_test = scaler.transform(X_test)\n",
    "\n",
    "# model set up\n",
    "early_stop = EarlyStopping(\n",
    "    monitor='val_loss', mode='min', patience=50, verbose=1)\n",
    "\n",
    "\n",
    "model = Sequential()\n",
    "model.add(Dense(units=50, activation='sigmoid'))\n",
    "model.add(Dropout(0.5))\n",
    "\n",
    "model.add(Dense(units=25, activation='sigmoid'))\n",
    "model.add(Dropout(0.5))\n",
    "model.add(Dense(units=1, activation='sigmoid'))\n",
    "# loss for binary\n",
    "model.compile(loss='binary_crossentropy',\n",
    "              optimizer='adam', metrics=['accuracy'],)\n",
    "\n",
    "# fit\n",
    "model.fit(x=X_train, y=y_train, epochs=1000, validation_data=(\n",
    "    X_test, y_test), verbose=0, callbacks=early_stop)\n",
    "\n",
    "# plot\n",
    "model_loss = pd.DataFrame(model.history.history)\n",
    "model_loss.plot().figure.savefig('base_sigmoid.png')\n",
    "\n",
    "\n",
    "# metrics\n",
    "predictions = model.predict_classes(X_test)\n",
    "print(confusion_matrix(y_test, predictions))\n",
    "print(classification_report(y_test, predictions))\n",
    "print(\"accuracy_score\", accuracy_score(y_test, predictions))"
   ]
  },
  {
   "cell_type": "markdown",
   "metadata": {},
   "source": [
    "### Read and format the data from new.csv"
   ]
  },
  {
   "cell_type": "code",
   "execution_count": 4,
   "metadata": {},
   "outputs": [],
   "source": [
    "df_new = pd.read_csv('new.csv', usecols=[*range(0,11)], names=[0, 1, 2, 3, 4, 5, 6, 7, 8, 9, 10])"
   ]
  },
  {
   "cell_type": "code",
   "execution_count": 5,
   "metadata": {},
   "outputs": [],
   "source": [
    "columns = [*range(0, 11)]\n",
    "df_ohe_new = df_new.copy()\n",
    "for index, i in enumerate(columns):\n",
    "    if index in categorical_columns:\n",
    "        ohe = OneHotEncoder()\n",
    "        feature_arr = ohe.fit_transform(df_new[[index]]).toarray()\n",
    "        feature_label = [str(index) + \"_\" + str(k)\n",
    "                         for k in range(feature_arr.shape[1])]\n",
    "        feature = pd.DataFrame(feature_arr, columns=feature_label)\n",
    "        # drop the last col\n",
    "        # feature = feature.iloc[:, :-1]\n",
    "        df_ohe_new = pd.concat([df_ohe_new, feature], axis=1)\n",
    "        df_ohe_new.drop(index, axis=1, inplace=True)\n",
    "        \n",
    "        \n",
    "# scale the data\n",
    "X_new = scaler.transform(df_ohe_new.values)"
   ]
  },
  {
   "cell_type": "code",
   "execution_count": 6,
   "metadata": {},
   "outputs": [],
   "source": [
    "# make predictions\n",
    "new_predictions = model.predict_classes(X_new)"
   ]
  },
  {
   "cell_type": "code",
   "execution_count": 7,
   "metadata": {
    "scrolled": true
   },
   "outputs": [
    {
     "data": {
      "text/plain": [
       "0    853\n",
       "1    147\n",
       "dtype: int64"
      ]
     },
     "execution_count": 7,
     "metadata": {},
     "output_type": "execute_result"
    }
   ],
   "source": [
    "# check value counts of the new_predictions\n",
    "pd.Series(new_predictions[:,0]).value_counts()"
   ]
  },
  {
   "cell_type": "code",
   "execution_count": 8,
   "metadata": {},
   "outputs": [],
   "source": [
    "df_new = pd.concat([df_new, pd.Series(new_predictions[:,0], name=11)], axis=1)"
   ]
  },
  {
   "cell_type": "code",
   "execution_count": 9,
   "metadata": {},
   "outputs": [],
   "source": [
    "df_new.to_csv('predictions.csv')"
   ]
  }
 ],
 "metadata": {
  "kernelspec": {
   "display_name": "Python 3",
   "language": "python",
   "name": "python3"
  },
  "language_info": {
   "codemirror_mode": {
    "name": "ipython",
    "version": 3
   },
   "file_extension": ".py",
   "mimetype": "text/x-python",
   "name": "python",
   "nbconvert_exporter": "python",
   "pygments_lexer": "ipython3",
   "version": "3.8.5"
  }
 },
 "nbformat": 4,
 "nbformat_minor": 4
}
