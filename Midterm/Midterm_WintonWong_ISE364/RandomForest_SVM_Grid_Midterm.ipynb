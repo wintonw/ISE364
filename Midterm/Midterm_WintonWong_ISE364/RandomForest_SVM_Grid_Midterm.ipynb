{
  "nbformat": 4,
  "nbformat_minor": 0,
  "metadata": {
    "colab": {
      "name": "RandomForest_SVM_Grid_Midterm.ipynb",
      "provenance": [],
      "collapsed_sections": [
        "R9cN9df2vphM"
      ]
    },
    "kernelspec": {
      "name": "python3",
      "display_name": "Python 3"
    }
  },
  "cells": [
    {
      "cell_type": "markdown",
      "metadata": {
        "id": "heyQ1ZXcvnAk"
      },
      "source": [
        "# Random Forest"
      ]
    },
    {
      "cell_type": "code",
      "metadata": {
        "id": "Gjr6vKxrpmvx"
      },
      "source": [
        "from sklearn.metrics import classification_report, confusion_matrix\n",
        "from sklearn.ensemble import RandomForestClassifier\n",
        "from sklearn.model_selection import RandomizedSearchCV\n",
        "import numpy as np\n",
        "import pandas as pd\n",
        "import matplotlib.pyplot as plt\n",
        "import seaborn as sns\n",
        "from sklearn.model_selection import train_test_split"
      ],
      "execution_count": 1,
      "outputs": []
    },
    {
      "cell_type": "code",
      "metadata": {
        "id": "4LH3hyASqiEa"
      },
      "source": [
        "def penaltyScore(cm):\n",
        "    return 50*cm[0][1] + 10*cm[1][0]\n",
        "\n",
        "\n",
        "df = pd.read_csv(\n",
        "    'https://github.com/wintonw/ISE364/raw/master/Midterm/project_data.csv')\n",
        "dfObs = pd.read_csv(\n",
        "    'https://github.com/wintonw/ISE364/raw/master/Midterm/new_obs.csv')\n",
        "\n",
        "# V0 to binary\n",
        "V0 = pd.get_dummies(df['V0'], drop_first=True)\n",
        "df.drop(['V0'], axis=1, inplace=True)\n",
        "df = pd.concat([df, V0], axis=1)\n",
        "\n",
        "\n",
        "# split the data\n",
        "X = df.drop('target', axis=1)\n",
        "y = df.target\n",
        "X_train, X_Test, y_train, y_test = train_test_split(\n",
        "    X, y, test_size=0.3, random_state=12)"
      ],
      "execution_count": 4,
      "outputs": []
    },
    {
      "cell_type": "code",
      "metadata": {
        "colab": {
          "base_uri": "https://localhost:8080/"
        },
        "id": "UbMM1N5jp1tm",
        "outputId": "ab10318e-cc81-4dab-c86d-1f2d31b859ea"
      },
      "source": [
        "# Number of trees in random forest\n",
        "n_estimators = [int(x) for x in np.linspace(start = 200, stop = 2000, num = 10)]\n",
        "# Number of features to consider at every split\n",
        "max_features = ['auto', 'sqrt']\n",
        "# Maximum number of levels in tree\n",
        "max_depth = [int(x) for x in np.linspace(10, 110, num = 11)]\n",
        "max_depth.append(None)\n",
        "# Minimum number of samples required to split a node\n",
        "min_samples_split = [2, 5, 10]\n",
        "# Minimum number of samples required at each leaf node\n",
        "min_samples_leaf = [1, 2, 4]\n",
        "# Method of selecting samples for training each tree\n",
        "bootstrap = [True, False]\n",
        "# Create the random grid\n",
        "random_grid = {'n_estimators': n_estimators,\n",
        "               'max_features': max_features,\n",
        "               'max_depth': max_depth,\n",
        "               'min_samples_split': min_samples_split,\n",
        "               'min_samples_leaf': min_samples_leaf,\n",
        "               'bootstrap': bootstrap}\n",
        "print(random_grid)"
      ],
      "execution_count": 20,
      "outputs": [
        {
          "output_type": "stream",
          "text": [
            "{'n_estimators': [200, 400, 600, 800, 1000, 1200, 1400, 1600, 1800, 2000], 'max_features': ['auto', 'sqrt'], 'max_depth': [10, 20, 30, 40, 50, 60, 70, 80, 90, 100, 110, None], 'min_samples_split': [2, 5, 10], 'min_samples_leaf': [1, 2, 4], 'bootstrap': [True, False]}\n"
          ],
          "name": "stdout"
        }
      ]
    },
    {
      "cell_type": "code",
      "metadata": {
        "colab": {
          "base_uri": "https://localhost:8080/"
        },
        "id": "m3fCQxu-qXo0",
        "outputId": "13855b16-c270-4f49-9f7e-7c3c59623a40"
      },
      "source": [
        "# Use the random grid to search for best hyperparameters\n",
        "# First create the base model to tune\n",
        "rf = RandomForestClassifier()\n",
        "# Random search of parameters, using 3 fold cross validation, \n",
        "# search across 100 different combinations, and use all available cores\n",
        "rf_random = RandomizedSearchCV(estimator = rf, param_distributions = random_grid, refit=True, verbose=3, random_state=12, n_jobs = -1)\n",
        "# Fit the random search model\n",
        "rf_random.fit(X_train, y_train)"
      ],
      "execution_count": 27,
      "outputs": [
        {
          "output_type": "stream",
          "text": [
            "Fitting 5 folds for each of 10 candidates, totalling 50 fits\n"
          ],
          "name": "stdout"
        },
        {
          "output_type": "stream",
          "text": [
            "[Parallel(n_jobs=-1)]: Using backend LokyBackend with 2 concurrent workers.\n",
            "[Parallel(n_jobs=-1)]: Done  28 tasks      | elapsed:  2.8min\n",
            "[Parallel(n_jobs=-1)]: Done  50 out of  50 | elapsed:  5.7min finished\n"
          ],
          "name": "stderr"
        },
        {
          "output_type": "execute_result",
          "data": {
            "text/plain": [
              "RandomizedSearchCV(cv=None, error_score=nan,\n",
              "                   estimator=RandomForestClassifier(bootstrap=True,\n",
              "                                                    ccp_alpha=0.0,\n",
              "                                                    class_weight=None,\n",
              "                                                    criterion='gini',\n",
              "                                                    max_depth=None,\n",
              "                                                    max_features='auto',\n",
              "                                                    max_leaf_nodes=None,\n",
              "                                                    max_samples=None,\n",
              "                                                    min_impurity_decrease=0.0,\n",
              "                                                    min_impurity_split=None,\n",
              "                                                    min_samples_leaf=1,\n",
              "                                                    min_samples_split=2,\n",
              "                                                    min_weight_fraction_leaf=0.0,\n",
              "                                                    n_estimators=100,\n",
              "                                                    n_j...\n",
              "                   param_distributions={'bootstrap': [True, False],\n",
              "                                        'max_depth': [10, 20, 30, 40, 50, 60,\n",
              "                                                      70, 80, 90, 100, 110,\n",
              "                                                      None],\n",
              "                                        'max_features': ['auto', 'sqrt'],\n",
              "                                        'min_samples_leaf': [1, 2, 4],\n",
              "                                        'min_samples_split': [2, 5, 10],\n",
              "                                        'n_estimators': [200, 400, 600, 800,\n",
              "                                                         1000, 1200, 1400, 1600,\n",
              "                                                         1800, 2000]},\n",
              "                   pre_dispatch='2*n_jobs', random_state=12, refit=True,\n",
              "                   return_train_score=False, scoring=None, verbose=3)"
            ]
          },
          "metadata": {
            "tags": []
          },
          "execution_count": 27
        }
      ]
    },
    {
      "cell_type": "code",
      "metadata": {
        "colab": {
          "base_uri": "https://localhost:8080/"
        },
        "id": "lGDtmxk7q4T9",
        "outputId": "aebbb49a-8ecc-4111-876c-1a3dc4323f64"
      },
      "source": [
        "print(rf_random.best_params_)"
      ],
      "execution_count": 28,
      "outputs": [
        {
          "output_type": "stream",
          "text": [
            "{'n_estimators': 1800, 'min_samples_split': 2, 'min_samples_leaf': 1, 'max_features': 'sqrt', 'max_depth': 20, 'bootstrap': True}\n"
          ],
          "name": "stdout"
        }
      ]
    },
    {
      "cell_type": "code",
      "metadata": {
        "colab": {
          "base_uri": "https://localhost:8080/"
        },
        "id": "3bIbeWbarOSm",
        "outputId": "b2c0f5f0-7d2b-481e-c7f3-170e83eb061d"
      },
      "source": [
        "predictions = rf_random.predict(X_Test)\n",
        "cm = confusion_matrix(y_test, predictions)\n",
        "print(cm)\n",
        "print(classification_report(y_test, predictions))\n",
        "\n",
        "print(penaltyScore(cm))"
      ],
      "execution_count": 29,
      "outputs": [
        {
          "output_type": "stream",
          "text": [
            "[[ 137  196]\n",
            " [  34 1283]]\n",
            "              precision    recall  f1-score   support\n",
            "\n",
            "           0       0.80      0.41      0.54       333\n",
            "           1       0.87      0.97      0.92      1317\n",
            "\n",
            "    accuracy                           0.86      1650\n",
            "   macro avg       0.83      0.69      0.73      1650\n",
            "weighted avg       0.85      0.86      0.84      1650\n",
            "\n",
            "10140\n"
          ],
          "name": "stdout"
        }
      ]
    },
    {
      "cell_type": "markdown",
      "metadata": {
        "id": "mnDMhd6mxBCc"
      },
      "source": [
        "# Random Forest More Runs"
      ]
    },
    {
      "cell_type": "code",
      "metadata": {
        "colab": {
          "base_uri": "https://localhost:8080/"
        },
        "id": "J5XLUizYxAgs",
        "outputId": "15d1a606-54dd-4c84-d9be-7faddd80b10f"
      },
      "source": [
        "# Use the random grid to search for best hyperparameters\n",
        "# First create the base model to tune\n",
        "rf = RandomForestClassifier()\n",
        "# Random search of parameters, using 3 fold cross validation, \n",
        "# search across 100 different combinations, and use all available cores\n",
        "rf_random_more = RandomizedSearchCV(estimator = rf, param_distributions = random_grid, n_iter = 50, cv = 3, verbose=2, random_state=42, n_jobs = -1)\n",
        "# Fit the random search model\n",
        "rf_random_more.fit(X_train, y_train)"
      ],
      "execution_count": 16,
      "outputs": [
        {
          "output_type": "stream",
          "text": [
            "Fitting 3 folds for each of 50 candidates, totalling 150 fits\n"
          ],
          "name": "stdout"
        },
        {
          "output_type": "stream",
          "text": [
            "[Parallel(n_jobs=-1)]: Using backend LokyBackend with 2 concurrent workers.\n",
            "[Parallel(n_jobs=-1)]: Done  37 tasks      | elapsed:  3.2min\n",
            "[Parallel(n_jobs=-1)]: Done 150 out of 150 | elapsed: 12.1min finished\n"
          ],
          "name": "stderr"
        },
        {
          "output_type": "execute_result",
          "data": {
            "text/plain": [
              "RandomizedSearchCV(cv=3, error_score=nan,\n",
              "                   estimator=RandomForestClassifier(bootstrap=True,\n",
              "                                                    ccp_alpha=0.0,\n",
              "                                                    class_weight=None,\n",
              "                                                    criterion='gini',\n",
              "                                                    max_depth=None,\n",
              "                                                    max_features='auto',\n",
              "                                                    max_leaf_nodes=None,\n",
              "                                                    max_samples=None,\n",
              "                                                    min_impurity_decrease=0.0,\n",
              "                                                    min_impurity_split=None,\n",
              "                                                    min_samples_leaf=1,\n",
              "                                                    min_samples_split=2,\n",
              "                                                    min_weight_fraction_leaf=0.0,\n",
              "                                                    n_estimators=100,\n",
              "                                                    n_jobs...\n",
              "                   param_distributions={'bootstrap': [True, False],\n",
              "                                        'max_depth': [10, 20, 30, 40, 50, 60,\n",
              "                                                      70, 80, 90, 100, 110,\n",
              "                                                      None],\n",
              "                                        'max_features': ['auto', 'sqrt'],\n",
              "                                        'min_samples_leaf': [1, 2, 4],\n",
              "                                        'min_samples_split': [2, 5, 10],\n",
              "                                        'n_estimators': [200, 400, 600, 800,\n",
              "                                                         1000, 1200, 1400, 1600,\n",
              "                                                         1800, 2000]},\n",
              "                   pre_dispatch='2*n_jobs', random_state=42, refit=True,\n",
              "                   return_train_score=False, scoring=None, verbose=2)"
            ]
          },
          "metadata": {
            "tags": []
          },
          "execution_count": 16
        }
      ]
    },
    {
      "cell_type": "code",
      "metadata": {
        "colab": {
          "base_uri": "https://localhost:8080/"
        },
        "id": "DlxqwRa0xLzK",
        "outputId": "40709c3f-e87d-459b-d60a-654752c90bb0"
      },
      "source": [
        "predictions = rf_random_more.predict(X_Test)\n",
        "cm = confusion_matrix(y_test, predictions)\n",
        "print(cm)\n",
        "print(classification_report(y_test, predictions))\n",
        "\n",
        "print(penaltyScore(cm))"
      ],
      "execution_count": 15,
      "outputs": [
        {
          "output_type": "stream",
          "text": [
            "[[ 138  195]\n",
            " [  31 1286]]\n",
            "              precision    recall  f1-score   support\n",
            "\n",
            "           0       0.82      0.41      0.55       333\n",
            "           1       0.87      0.98      0.92      1317\n",
            "\n",
            "    accuracy                           0.86      1650\n",
            "   macro avg       0.84      0.70      0.73      1650\n",
            "weighted avg       0.86      0.86      0.84      1650\n",
            "\n",
            "10060\n"
          ],
          "name": "stdout"
        }
      ]
    },
    {
      "cell_type": "markdown",
      "metadata": {
        "id": "R9cN9df2vphM"
      },
      "source": [
        "# SVM"
      ]
    },
    {
      "cell_type": "code",
      "metadata": {
        "colab": {
          "base_uri": "https://localhost:8080/"
        },
        "id": "GjN8vtwUvt6i",
        "outputId": "97069cf7-a4f9-4b17-80cb-c5ad30f9fa5c"
      },
      "source": [
        "from sklearn.metrics import classification_report, confusion_matrix\n",
        "from sklearn.model_selection import GridSearchCV\n",
        "from sklearn.model_selection import train_test_split\n",
        "from sklearn.svm import SVC\n",
        "import numpy as np\n",
        "import pandas as pd\n",
        "import matplotlib.pyplot as plt\n",
        "import seaborn as sns\n",
        "\n",
        "\n",
        "def penaltyScore(cm):\n",
        "    return 50*cm[0][1] + 10*cm[1][0]\n",
        "\n",
        "\n",
        "df = pd.read_csv(\n",
        "    'https://github.com/wintonw/ISE364/raw/master/Midterm/project_data.csv')\n",
        "dfObs = pd.read_csv(\n",
        "    'https://github.com/wintonw/ISE364/raw/master/Midterm/new_obs.csv')\n",
        "\n",
        "# V0 to binary\n",
        "V0 = pd.get_dummies(df['V0'], drop_first=True)\n",
        "df.drop(['V0'], axis=1, inplace=True)\n",
        "df = pd.concat([df, V0], axis=1)\n",
        "\n",
        "\n",
        "# split the data\n",
        "X = df.drop('target', axis=1)\n",
        "y = df.target\n",
        "X_train, X_Test, y_train, y_test = train_test_split(\n",
        "    X, y, test_size=0.3, random_state=12)\n",
        "\n",
        "\n",
        "param_grid = {'C': [0.1, 10, 100, 1000, 50], 'gamma': [\n",
        "    1, 0.1, 0.01, 0.001, 0.0001, 0.005], 'kernel': ['rbf']}\n",
        "grid = GridSearchCV(SVC(), param_grid, refit=True, verbose=3)\n",
        "grid.fit(X_train, y_train)"
      ],
      "execution_count": 12,
      "outputs": [
        {
          "output_type": "stream",
          "text": [
            "Fitting 5 folds for each of 30 candidates, totalling 150 fits\n",
            "[CV] C=0.1, gamma=1, kernel=rbf ......................................\n"
          ],
          "name": "stdout"
        },
        {
          "output_type": "stream",
          "text": [
            "[Parallel(n_jobs=1)]: Using backend SequentialBackend with 1 concurrent workers.\n"
          ],
          "name": "stderr"
        },
        {
          "output_type": "stream",
          "text": [
            "[CV] .......... C=0.1, gamma=1, kernel=rbf, score=0.795, total=   0.6s\n",
            "[CV] C=0.1, gamma=1, kernel=rbf ......................................\n"
          ],
          "name": "stdout"
        },
        {
          "output_type": "stream",
          "text": [
            "[Parallel(n_jobs=1)]: Done   1 out of   1 | elapsed:    0.6s remaining:    0.0s\n"
          ],
          "name": "stderr"
        },
        {
          "output_type": "stream",
          "text": [
            "[CV] .......... C=0.1, gamma=1, kernel=rbf, score=0.795, total=   0.6s\n",
            "[CV] C=0.1, gamma=1, kernel=rbf ......................................\n"
          ],
          "name": "stdout"
        },
        {
          "output_type": "stream",
          "text": [
            "[Parallel(n_jobs=1)]: Done   2 out of   2 | elapsed:    1.1s remaining:    0.0s\n"
          ],
          "name": "stderr"
        },
        {
          "output_type": "stream",
          "text": [
            "[CV] .......... C=0.1, gamma=1, kernel=rbf, score=0.795, total=   0.6s\n",
            "[CV] C=0.1, gamma=1, kernel=rbf ......................................\n",
            "[CV] .......... C=0.1, gamma=1, kernel=rbf, score=0.795, total=   0.6s\n",
            "[CV] C=0.1, gamma=1, kernel=rbf ......................................\n",
            "[CV] .......... C=0.1, gamma=1, kernel=rbf, score=0.795, total=   0.5s\n",
            "[CV] C=0.1, gamma=0.1, kernel=rbf ....................................\n",
            "[CV] ........ C=0.1, gamma=0.1, kernel=rbf, score=0.795, total=   0.6s\n",
            "[CV] C=0.1, gamma=0.1, kernel=rbf ....................................\n",
            "[CV] ........ C=0.1, gamma=0.1, kernel=rbf, score=0.795, total=   0.6s\n",
            "[CV] C=0.1, gamma=0.1, kernel=rbf ....................................\n",
            "[CV] ........ C=0.1, gamma=0.1, kernel=rbf, score=0.795, total=   0.6s\n",
            "[CV] C=0.1, gamma=0.1, kernel=rbf ....................................\n",
            "[CV] ........ C=0.1, gamma=0.1, kernel=rbf, score=0.795, total=   0.6s\n",
            "[CV] C=0.1, gamma=0.1, kernel=rbf ....................................\n",
            "[CV] ........ C=0.1, gamma=0.1, kernel=rbf, score=0.795, total=   0.6s\n",
            "[CV] C=0.1, gamma=0.01, kernel=rbf ...................................\n",
            "[CV] ....... C=0.1, gamma=0.01, kernel=rbf, score=0.795, total=   0.4s\n",
            "[CV] C=0.1, gamma=0.01, kernel=rbf ...................................\n",
            "[CV] ....... C=0.1, gamma=0.01, kernel=rbf, score=0.795, total=   0.4s\n",
            "[CV] C=0.1, gamma=0.01, kernel=rbf ...................................\n",
            "[CV] ....... C=0.1, gamma=0.01, kernel=rbf, score=0.795, total=   0.4s\n",
            "[CV] C=0.1, gamma=0.01, kernel=rbf ...................................\n",
            "[CV] ....... C=0.1, gamma=0.01, kernel=rbf, score=0.795, total=   0.4s\n",
            "[CV] C=0.1, gamma=0.01, kernel=rbf ...................................\n",
            "[CV] ....... C=0.1, gamma=0.01, kernel=rbf, score=0.795, total=   0.4s\n",
            "[CV] C=0.1, gamma=0.001, kernel=rbf ..................................\n",
            "[CV] ...... C=0.1, gamma=0.001, kernel=rbf, score=0.795, total=   0.4s\n",
            "[CV] C=0.1, gamma=0.001, kernel=rbf ..................................\n",
            "[CV] ...... C=0.1, gamma=0.001, kernel=rbf, score=0.795, total=   0.3s\n",
            "[CV] C=0.1, gamma=0.001, kernel=rbf ..................................\n",
            "[CV] ...... C=0.1, gamma=0.001, kernel=rbf, score=0.795, total=   0.4s\n",
            "[CV] C=0.1, gamma=0.001, kernel=rbf ..................................\n",
            "[CV] ...... C=0.1, gamma=0.001, kernel=rbf, score=0.795, total=   0.4s\n",
            "[CV] C=0.1, gamma=0.001, kernel=rbf ..................................\n",
            "[CV] ...... C=0.1, gamma=0.001, kernel=rbf, score=0.795, total=   0.4s\n",
            "[CV] C=0.1, gamma=0.0001, kernel=rbf .................................\n",
            "[CV] ..... C=0.1, gamma=0.0001, kernel=rbf, score=0.795, total=   0.3s\n",
            "[CV] C=0.1, gamma=0.0001, kernel=rbf .................................\n",
            "[CV] ..... C=0.1, gamma=0.0001, kernel=rbf, score=0.795, total=   0.3s\n",
            "[CV] C=0.1, gamma=0.0001, kernel=rbf .................................\n",
            "[CV] ..... C=0.1, gamma=0.0001, kernel=rbf, score=0.795, total=   0.3s\n",
            "[CV] C=0.1, gamma=0.0001, kernel=rbf .................................\n",
            "[CV] ..... C=0.1, gamma=0.0001, kernel=rbf, score=0.795, total=   0.3s\n",
            "[CV] C=0.1, gamma=0.0001, kernel=rbf .................................\n",
            "[CV] ..... C=0.1, gamma=0.0001, kernel=rbf, score=0.795, total=   0.3s\n",
            "[CV] C=0.1, gamma=0.005, kernel=rbf ..................................\n",
            "[CV] ...... C=0.1, gamma=0.005, kernel=rbf, score=0.795, total=   0.4s\n",
            "[CV] C=0.1, gamma=0.005, kernel=rbf ..................................\n",
            "[CV] ...... C=0.1, gamma=0.005, kernel=rbf, score=0.795, total=   0.4s\n",
            "[CV] C=0.1, gamma=0.005, kernel=rbf ..................................\n",
            "[CV] ...... C=0.1, gamma=0.005, kernel=rbf, score=0.795, total=   0.4s\n",
            "[CV] C=0.1, gamma=0.005, kernel=rbf ..................................\n",
            "[CV] ...... C=0.1, gamma=0.005, kernel=rbf, score=0.795, total=   0.4s\n",
            "[CV] C=0.1, gamma=0.005, kernel=rbf ..................................\n",
            "[CV] ...... C=0.1, gamma=0.005, kernel=rbf, score=0.795, total=   0.4s\n",
            "[CV] C=10, gamma=1, kernel=rbf .......................................\n",
            "[CV] ........... C=10, gamma=1, kernel=rbf, score=0.829, total=   0.6s\n",
            "[CV] C=10, gamma=1, kernel=rbf .......................................\n",
            "[CV] ........... C=10, gamma=1, kernel=rbf, score=0.822, total=   0.6s\n",
            "[CV] C=10, gamma=1, kernel=rbf .......................................\n",
            "[CV] ........... C=10, gamma=1, kernel=rbf, score=0.831, total=   0.6s\n",
            "[CV] C=10, gamma=1, kernel=rbf .......................................\n",
            "[CV] ........... C=10, gamma=1, kernel=rbf, score=0.830, total=   0.6s\n",
            "[CV] C=10, gamma=1, kernel=rbf .......................................\n",
            "[CV] ........... C=10, gamma=1, kernel=rbf, score=0.815, total=   0.6s\n",
            "[CV] C=10, gamma=0.1, kernel=rbf .....................................\n",
            "[CV] ......... C=10, gamma=0.1, kernel=rbf, score=0.794, total=   0.8s\n",
            "[CV] C=10, gamma=0.1, kernel=rbf .....................................\n",
            "[CV] ......... C=10, gamma=0.1, kernel=rbf, score=0.775, total=   0.7s\n",
            "[CV] C=10, gamma=0.1, kernel=rbf .....................................\n",
            "[CV] ......... C=10, gamma=0.1, kernel=rbf, score=0.789, total=   0.7s\n",
            "[CV] C=10, gamma=0.1, kernel=rbf .....................................\n",
            "[CV] ......... C=10, gamma=0.1, kernel=rbf, score=0.783, total=   0.7s\n",
            "[CV] C=10, gamma=0.1, kernel=rbf .....................................\n",
            "[CV] ......... C=10, gamma=0.1, kernel=rbf, score=0.804, total=   0.7s\n",
            "[CV] C=10, gamma=0.01, kernel=rbf ....................................\n",
            "[CV] ........ C=10, gamma=0.01, kernel=rbf, score=0.782, total=   0.4s\n",
            "[CV] C=10, gamma=0.01, kernel=rbf ....................................\n",
            "[CV] ........ C=10, gamma=0.01, kernel=rbf, score=0.801, total=   0.5s\n",
            "[CV] C=10, gamma=0.01, kernel=rbf ....................................\n",
            "[CV] ........ C=10, gamma=0.01, kernel=rbf, score=0.809, total=   0.5s\n",
            "[CV] C=10, gamma=0.01, kernel=rbf ....................................\n",
            "[CV] ........ C=10, gamma=0.01, kernel=rbf, score=0.811, total=   0.5s\n",
            "[CV] C=10, gamma=0.01, kernel=rbf ....................................\n",
            "[CV] ........ C=10, gamma=0.01, kernel=rbf, score=0.801, total=   0.5s\n",
            "[CV] C=10, gamma=0.001, kernel=rbf ...................................\n",
            "[CV] ....... C=10, gamma=0.001, kernel=rbf, score=0.796, total=   0.7s\n",
            "[CV] C=10, gamma=0.001, kernel=rbf ...................................\n",
            "[CV] ....... C=10, gamma=0.001, kernel=rbf, score=0.794, total=   0.7s\n",
            "[CV] C=10, gamma=0.001, kernel=rbf ...................................\n",
            "[CV] ....... C=10, gamma=0.001, kernel=rbf, score=0.792, total=   0.9s\n",
            "[CV] C=10, gamma=0.001, kernel=rbf ...................................\n",
            "[CV] ....... C=10, gamma=0.001, kernel=rbf, score=0.795, total=   0.7s\n",
            "[CV] C=10, gamma=0.001, kernel=rbf ...................................\n",
            "[CV] ....... C=10, gamma=0.001, kernel=rbf, score=0.793, total=   0.7s\n",
            "[CV] C=10, gamma=0.0001, kernel=rbf ..................................\n",
            "[CV] ...... C=10, gamma=0.0001, kernel=rbf, score=0.795, total=   1.0s\n",
            "[CV] C=10, gamma=0.0001, kernel=rbf ..................................\n",
            "[CV] ...... C=10, gamma=0.0001, kernel=rbf, score=0.795, total=   0.9s\n",
            "[CV] C=10, gamma=0.0001, kernel=rbf ..................................\n",
            "[CV] ...... C=10, gamma=0.0001, kernel=rbf, score=0.795, total=   1.1s\n",
            "[CV] C=10, gamma=0.0001, kernel=rbf ..................................\n",
            "[CV] ...... C=10, gamma=0.0001, kernel=rbf, score=0.795, total=   1.2s\n",
            "[CV] C=10, gamma=0.0001, kernel=rbf ..................................\n",
            "[CV] ...... C=10, gamma=0.0001, kernel=rbf, score=0.795, total=   1.0s\n",
            "[CV] C=10, gamma=0.005, kernel=rbf ...................................\n",
            "[CV] ....... C=10, gamma=0.005, kernel=rbf, score=0.797, total=   0.5s\n",
            "[CV] C=10, gamma=0.005, kernel=rbf ...................................\n",
            "[CV] ....... C=10, gamma=0.005, kernel=rbf, score=0.800, total=   0.5s\n",
            "[CV] C=10, gamma=0.005, kernel=rbf ...................................\n",
            "[CV] ....... C=10, gamma=0.005, kernel=rbf, score=0.805, total=   0.5s\n",
            "[CV] C=10, gamma=0.005, kernel=rbf ...................................\n",
            "[CV] ....... C=10, gamma=0.005, kernel=rbf, score=0.810, total=   0.5s\n",
            "[CV] C=10, gamma=0.005, kernel=rbf ...................................\n",
            "[CV] ....... C=10, gamma=0.005, kernel=rbf, score=0.798, total=   0.5s\n",
            "[CV] C=100, gamma=1, kernel=rbf ......................................\n",
            "[CV] .......... C=100, gamma=1, kernel=rbf, score=0.829, total=   0.6s\n",
            "[CV] C=100, gamma=1, kernel=rbf ......................................\n",
            "[CV] .......... C=100, gamma=1, kernel=rbf, score=0.822, total=   0.6s\n",
            "[CV] C=100, gamma=1, kernel=rbf ......................................\n",
            "[CV] .......... C=100, gamma=1, kernel=rbf, score=0.831, total=   0.6s\n",
            "[CV] C=100, gamma=1, kernel=rbf ......................................\n",
            "[CV] .......... C=100, gamma=1, kernel=rbf, score=0.830, total=   0.6s\n",
            "[CV] C=100, gamma=1, kernel=rbf ......................................\n",
            "[CV] .......... C=100, gamma=1, kernel=rbf, score=0.815, total=   0.6s\n",
            "[CV] C=100, gamma=0.1, kernel=rbf ....................................\n",
            "[CV] ........ C=100, gamma=0.1, kernel=rbf, score=0.788, total=   0.7s\n",
            "[CV] C=100, gamma=0.1, kernel=rbf ....................................\n",
            "[CV] ........ C=100, gamma=0.1, kernel=rbf, score=0.768, total=   0.8s\n",
            "[CV] C=100, gamma=0.1, kernel=rbf ....................................\n",
            "[CV] ........ C=100, gamma=0.1, kernel=rbf, score=0.784, total=   0.7s\n",
            "[CV] C=100, gamma=0.1, kernel=rbf ....................................\n",
            "[CV] ........ C=100, gamma=0.1, kernel=rbf, score=0.780, total=   0.7s\n",
            "[CV] C=100, gamma=0.1, kernel=rbf ....................................\n",
            "[CV] ........ C=100, gamma=0.1, kernel=rbf, score=0.789, total=   0.7s\n",
            "[CV] C=100, gamma=0.01, kernel=rbf ...................................\n",
            "[CV] ....... C=100, gamma=0.01, kernel=rbf, score=0.766, total=   0.9s\n",
            "[CV] C=100, gamma=0.01, kernel=rbf ...................................\n",
            "[CV] ....... C=100, gamma=0.01, kernel=rbf, score=0.760, total=   0.8s\n",
            "[CV] C=100, gamma=0.01, kernel=rbf ...................................\n",
            "[CV] ....... C=100, gamma=0.01, kernel=rbf, score=0.797, total=   0.9s\n",
            "[CV] C=100, gamma=0.01, kernel=rbf ...................................\n",
            "[CV] ....... C=100, gamma=0.01, kernel=rbf, score=0.788, total=   0.8s\n",
            "[CV] C=100, gamma=0.01, kernel=rbf ...................................\n",
            "[CV] ....... C=100, gamma=0.01, kernel=rbf, score=0.785, total=   0.8s\n",
            "[CV] C=100, gamma=0.001, kernel=rbf ..................................\n",
            "[CV] ...... C=100, gamma=0.001, kernel=rbf, score=0.796, total=   1.0s\n",
            "[CV] C=100, gamma=0.001, kernel=rbf ..................................\n",
            "[CV] ...... C=100, gamma=0.001, kernel=rbf, score=0.791, total=   1.0s\n",
            "[CV] C=100, gamma=0.001, kernel=rbf ..................................\n",
            "[CV] ...... C=100, gamma=0.001, kernel=rbf, score=0.796, total=   1.3s\n",
            "[CV] C=100, gamma=0.001, kernel=rbf ..................................\n",
            "[CV] ...... C=100, gamma=0.001, kernel=rbf, score=0.797, total=   0.9s\n",
            "[CV] C=100, gamma=0.001, kernel=rbf ..................................\n",
            "[CV] ...... C=100, gamma=0.001, kernel=rbf, score=0.798, total=   0.9s\n",
            "[CV] C=100, gamma=0.0001, kernel=rbf .................................\n",
            "[CV] ..... C=100, gamma=0.0001, kernel=rbf, score=0.795, total=   1.7s\n",
            "[CV] C=100, gamma=0.0001, kernel=rbf .................................\n",
            "[CV] ..... C=100, gamma=0.0001, kernel=rbf, score=0.795, total=   1.8s\n",
            "[CV] C=100, gamma=0.0001, kernel=rbf .................................\n",
            "[CV] ..... C=100, gamma=0.0001, kernel=rbf, score=0.793, total=   3.5s\n",
            "[CV] C=100, gamma=0.0001, kernel=rbf .................................\n",
            "[CV] ..... C=100, gamma=0.0001, kernel=rbf, score=0.795, total=   3.2s\n",
            "[CV] C=100, gamma=0.0001, kernel=rbf .................................\n",
            "[CV] ..... C=100, gamma=0.0001, kernel=rbf, score=0.795, total=   2.1s\n",
            "[CV] C=100, gamma=0.005, kernel=rbf ..................................\n",
            "[CV] ...... C=100, gamma=0.005, kernel=rbf, score=0.765, total=   0.9s\n",
            "[CV] C=100, gamma=0.005, kernel=rbf ..................................\n",
            "[CV] ...... C=100, gamma=0.005, kernel=rbf, score=0.786, total=   1.0s\n",
            "[CV] C=100, gamma=0.005, kernel=rbf ..................................\n",
            "[CV] ...... C=100, gamma=0.005, kernel=rbf, score=0.814, total=   1.0s\n",
            "[CV] C=100, gamma=0.005, kernel=rbf ..................................\n",
            "[CV] ...... C=100, gamma=0.005, kernel=rbf, score=0.796, total=   0.9s\n",
            "[CV] C=100, gamma=0.005, kernel=rbf ..................................\n",
            "[CV] ...... C=100, gamma=0.005, kernel=rbf, score=0.805, total=   0.9s\n",
            "[CV] C=1000, gamma=1, kernel=rbf .....................................\n",
            "[CV] ......... C=1000, gamma=1, kernel=rbf, score=0.829, total=   0.6s\n",
            "[CV] C=1000, gamma=1, kernel=rbf .....................................\n",
            "[CV] ......... C=1000, gamma=1, kernel=rbf, score=0.822, total=   0.6s\n",
            "[CV] C=1000, gamma=1, kernel=rbf .....................................\n",
            "[CV] ......... C=1000, gamma=1, kernel=rbf, score=0.831, total=   0.6s\n",
            "[CV] C=1000, gamma=1, kernel=rbf .....................................\n",
            "[CV] ......... C=1000, gamma=1, kernel=rbf, score=0.830, total=   0.6s\n",
            "[CV] C=1000, gamma=1, kernel=rbf .....................................\n",
            "[CV] ......... C=1000, gamma=1, kernel=rbf, score=0.815, total=   0.6s\n",
            "[CV] C=1000, gamma=0.1, kernel=rbf ...................................\n",
            "[CV] ....... C=1000, gamma=0.1, kernel=rbf, score=0.787, total=   0.7s\n",
            "[CV] C=1000, gamma=0.1, kernel=rbf ...................................\n",
            "[CV] ....... C=1000, gamma=0.1, kernel=rbf, score=0.770, total=   0.7s\n",
            "[CV] C=1000, gamma=0.1, kernel=rbf ...................................\n",
            "[CV] ....... C=1000, gamma=0.1, kernel=rbf, score=0.785, total=   0.7s\n",
            "[CV] C=1000, gamma=0.1, kernel=rbf ...................................\n",
            "[CV] ....... C=1000, gamma=0.1, kernel=rbf, score=0.780, total=   0.7s\n",
            "[CV] C=1000, gamma=0.1, kernel=rbf ...................................\n",
            "[CV] ....... C=1000, gamma=0.1, kernel=rbf, score=0.789, total=   0.7s\n",
            "[CV] C=1000, gamma=0.01, kernel=rbf ..................................\n",
            "[CV] ...... C=1000, gamma=0.01, kernel=rbf, score=0.757, total=   2.8s\n",
            "[CV] C=1000, gamma=0.01, kernel=rbf ..................................\n",
            "[CV] ...... C=1000, gamma=0.01, kernel=rbf, score=0.732, total=   2.3s\n",
            "[CV] C=1000, gamma=0.01, kernel=rbf ..................................\n",
            "[CV] ...... C=1000, gamma=0.01, kernel=rbf, score=0.784, total=   2.8s\n",
            "[CV] C=1000, gamma=0.01, kernel=rbf ..................................\n",
            "[CV] ...... C=1000, gamma=0.01, kernel=rbf, score=0.784, total=   2.7s\n",
            "[CV] C=1000, gamma=0.01, kernel=rbf ..................................\n",
            "[CV] ...... C=1000, gamma=0.01, kernel=rbf, score=0.759, total=   2.7s\n",
            "[CV] C=1000, gamma=0.001, kernel=rbf .................................\n",
            "[CV] ..... C=1000, gamma=0.001, kernel=rbf, score=0.792, total=   3.4s\n",
            "[CV] C=1000, gamma=0.001, kernel=rbf .................................\n",
            "[CV] ..... C=1000, gamma=0.001, kernel=rbf, score=0.795, total=   3.4s\n",
            "[CV] C=1000, gamma=0.001, kernel=rbf .................................\n",
            "[CV] ..... C=1000, gamma=0.001, kernel=rbf, score=0.809, total=   3.5s\n",
            "[CV] C=1000, gamma=0.001, kernel=rbf .................................\n",
            "[CV] ..... C=1000, gamma=0.001, kernel=rbf, score=0.813, total=   2.9s\n",
            "[CV] C=1000, gamma=0.001, kernel=rbf .................................\n",
            "[CV] ..... C=1000, gamma=0.001, kernel=rbf, score=0.802, total=   3.4s\n",
            "[CV] C=1000, gamma=0.0001, kernel=rbf ................................\n",
            "[CV] .... C=1000, gamma=0.0001, kernel=rbf, score=0.795, total=   2.9s\n",
            "[CV] C=1000, gamma=0.0001, kernel=rbf ................................\n",
            "[CV] .... C=1000, gamma=0.0001, kernel=rbf, score=0.795, total=   3.0s\n",
            "[CV] C=1000, gamma=0.0001, kernel=rbf ................................\n",
            "[CV] .... C=1000, gamma=0.0001, kernel=rbf, score=0.793, total=   5.2s\n",
            "[CV] C=1000, gamma=0.0001, kernel=rbf ................................\n",
            "[CV] .... C=1000, gamma=0.0001, kernel=rbf, score=0.795, total=   5.5s\n",
            "[CV] C=1000, gamma=0.0001, kernel=rbf ................................\n",
            "[CV] .... C=1000, gamma=0.0001, kernel=rbf, score=0.795, total=   3.6s\n",
            "[CV] C=1000, gamma=0.005, kernel=rbf .................................\n",
            "[CV] ..... C=1000, gamma=0.005, kernel=rbf, score=0.738, total=   3.5s\n",
            "[CV] C=1000, gamma=0.005, kernel=rbf .................................\n",
            "[CV] ..... C=1000, gamma=0.005, kernel=rbf, score=0.768, total=   4.9s\n",
            "[CV] C=1000, gamma=0.005, kernel=rbf .................................\n",
            "[CV] ..... C=1000, gamma=0.005, kernel=rbf, score=0.819, total=   5.5s\n",
            "[CV] C=1000, gamma=0.005, kernel=rbf .................................\n",
            "[CV] ..... C=1000, gamma=0.005, kernel=rbf, score=0.784, total=   4.8s\n",
            "[CV] C=1000, gamma=0.005, kernel=rbf .................................\n",
            "[CV] ..... C=1000, gamma=0.005, kernel=rbf, score=0.796, total=   3.7s\n",
            "[CV] C=50, gamma=1, kernel=rbf .......................................\n",
            "[CV] ........... C=50, gamma=1, kernel=rbf, score=0.829, total=   0.6s\n",
            "[CV] C=50, gamma=1, kernel=rbf .......................................\n",
            "[CV] ........... C=50, gamma=1, kernel=rbf, score=0.822, total=   0.6s\n",
            "[CV] C=50, gamma=1, kernel=rbf .......................................\n",
            "[CV] ........... C=50, gamma=1, kernel=rbf, score=0.831, total=   0.6s\n",
            "[CV] C=50, gamma=1, kernel=rbf .......................................\n",
            "[CV] ........... C=50, gamma=1, kernel=rbf, score=0.830, total=   0.6s\n",
            "[CV] C=50, gamma=1, kernel=rbf .......................................\n",
            "[CV] ........... C=50, gamma=1, kernel=rbf, score=0.815, total=   0.6s\n",
            "[CV] C=50, gamma=0.1, kernel=rbf .....................................\n",
            "[CV] ......... C=50, gamma=0.1, kernel=rbf, score=0.788, total=   0.7s\n",
            "[CV] C=50, gamma=0.1, kernel=rbf .....................................\n",
            "[CV] ......... C=50, gamma=0.1, kernel=rbf, score=0.766, total=   0.7s\n",
            "[CV] C=50, gamma=0.1, kernel=rbf .....................................\n",
            "[CV] ......... C=50, gamma=0.1, kernel=rbf, score=0.785, total=   0.7s\n",
            "[CV] C=50, gamma=0.1, kernel=rbf .....................................\n",
            "[CV] ......... C=50, gamma=0.1, kernel=rbf, score=0.780, total=   0.7s\n",
            "[CV] C=50, gamma=0.1, kernel=rbf .....................................\n",
            "[CV] ......... C=50, gamma=0.1, kernel=rbf, score=0.793, total=   0.7s\n",
            "[CV] C=50, gamma=0.01, kernel=rbf ....................................\n",
            "[CV] ........ C=50, gamma=0.01, kernel=rbf, score=0.755, total=   0.7s\n",
            "[CV] C=50, gamma=0.01, kernel=rbf ....................................\n",
            "[CV] ........ C=50, gamma=0.01, kernel=rbf, score=0.770, total=   0.7s\n",
            "[CV] C=50, gamma=0.01, kernel=rbf ....................................\n",
            "[CV] ........ C=50, gamma=0.01, kernel=rbf, score=0.801, total=   0.7s\n",
            "[CV] C=50, gamma=0.01, kernel=rbf ....................................\n",
            "[CV] ........ C=50, gamma=0.01, kernel=rbf, score=0.789, total=   0.7s\n",
            "[CV] C=50, gamma=0.01, kernel=rbf ....................................\n",
            "[CV] ........ C=50, gamma=0.01, kernel=rbf, score=0.798, total=   0.7s\n",
            "[CV] C=50, gamma=0.001, kernel=rbf ...................................\n",
            "[CV] ....... C=50, gamma=0.001, kernel=rbf, score=0.794, total=   0.8s\n",
            "[CV] C=50, gamma=0.001, kernel=rbf ...................................\n",
            "[CV] ....... C=50, gamma=0.001, kernel=rbf, score=0.795, total=   0.9s\n",
            "[CV] C=50, gamma=0.001, kernel=rbf ...................................\n",
            "[CV] ....... C=50, gamma=0.001, kernel=rbf, score=0.791, total=   1.1s\n",
            "[CV] C=50, gamma=0.001, kernel=rbf ...................................\n",
            "[CV] ....... C=50, gamma=0.001, kernel=rbf, score=0.793, total=   0.8s\n",
            "[CV] C=50, gamma=0.001, kernel=rbf ...................................\n",
            "[CV] ....... C=50, gamma=0.001, kernel=rbf, score=0.796, total=   0.8s\n",
            "[CV] C=50, gamma=0.0001, kernel=rbf ..................................\n",
            "[CV] ...... C=50, gamma=0.0001, kernel=rbf, score=0.795, total=   1.5s\n",
            "[CV] C=50, gamma=0.0001, kernel=rbf ..................................\n",
            "[CV] ...... C=50, gamma=0.0001, kernel=rbf, score=0.795, total=   1.5s\n",
            "[CV] C=50, gamma=0.0001, kernel=rbf ..................................\n",
            "[CV] ...... C=50, gamma=0.0001, kernel=rbf, score=0.795, total=   2.0s\n",
            "[CV] C=50, gamma=0.0001, kernel=rbf ..................................\n",
            "[CV] ...... C=50, gamma=0.0001, kernel=rbf, score=0.795, total=   2.6s\n",
            "[CV] C=50, gamma=0.0001, kernel=rbf ..................................\n",
            "[CV] ...... C=50, gamma=0.0001, kernel=rbf, score=0.795, total=   1.8s\n",
            "[CV] C=50, gamma=0.005, kernel=rbf ...................................\n",
            "[CV] ....... C=50, gamma=0.005, kernel=rbf, score=0.769, total=   0.7s\n",
            "[CV] C=50, gamma=0.005, kernel=rbf ...................................\n",
            "[CV] ....... C=50, gamma=0.005, kernel=rbf, score=0.792, total=   0.7s\n",
            "[CV] C=50, gamma=0.005, kernel=rbf ...................................\n",
            "[CV] ....... C=50, gamma=0.005, kernel=rbf, score=0.818, total=   0.7s\n",
            "[CV] C=50, gamma=0.005, kernel=rbf ...................................\n",
            "[CV] ....... C=50, gamma=0.005, kernel=rbf, score=0.804, total=   0.7s\n",
            "[CV] C=50, gamma=0.005, kernel=rbf ...................................\n",
            "[CV] ....... C=50, gamma=0.005, kernel=rbf, score=0.798, total=   0.7s\n"
          ],
          "name": "stdout"
        },
        {
          "output_type": "stream",
          "text": [
            "[Parallel(n_jobs=1)]: Done 150 out of 150 | elapsed:  2.9min finished\n"
          ],
          "name": "stderr"
        },
        {
          "output_type": "execute_result",
          "data": {
            "text/plain": [
              "GridSearchCV(cv=None, error_score=nan,\n",
              "             estimator=SVC(C=1.0, break_ties=False, cache_size=200,\n",
              "                           class_weight=None, coef0=0.0,\n",
              "                           decision_function_shape='ovr', degree=3,\n",
              "                           gamma='scale', kernel='rbf', max_iter=-1,\n",
              "                           probability=False, random_state=None, shrinking=True,\n",
              "                           tol=0.001, verbose=False),\n",
              "             iid='deprecated', n_jobs=None,\n",
              "             param_grid={'C': [0.1, 10, 100, 1000, 50],\n",
              "                         'gamma': [1, 0.1, 0.01, 0.001, 0.0001, 0.005],\n",
              "                         'kernel': ['rbf']},\n",
              "             pre_dispatch='2*n_jobs', refit=True, return_train_score=False,\n",
              "             scoring=None, verbose=3)"
            ]
          },
          "metadata": {
            "tags": []
          },
          "execution_count": 12
        }
      ]
    },
    {
      "cell_type": "code",
      "metadata": {
        "colab": {
          "base_uri": "https://localhost:8080/"
        },
        "id": "y8n9_UExv5sT",
        "outputId": "b5cb1a26-432d-4b1c-8619-e6fe7e0fb13d"
      },
      "source": [
        "print(grid.best_params_)\n",
        "grid_predictions = grid.predict(X_Test)\n",
        "cm = confusion_matrix(y_test, grid_predictions)\n",
        "print(cm)\n",
        "print(classification_report(y_test, grid_predictions))\n",
        "\n",
        "print(penaltyScore(cm))"
      ],
      "execution_count": 13,
      "outputs": [
        {
          "output_type": "stream",
          "text": [
            "{'C': 10, 'gamma': 1, 'kernel': 'rbf'}\n",
            "[[  78  255]\n",
            " [   6 1311]]\n",
            "              precision    recall  f1-score   support\n",
            "\n",
            "           0       0.93      0.23      0.37       333\n",
            "           1       0.84      1.00      0.91      1317\n",
            "\n",
            "    accuracy                           0.84      1650\n",
            "   macro avg       0.88      0.61      0.64      1650\n",
            "weighted avg       0.86      0.84      0.80      1650\n",
            "\n",
            "12810\n"
          ],
          "name": "stdout"
        }
      ]
    },
    {
      "cell_type": "code",
      "metadata": {
        "id": "MIAhHuSZCKSx"
      },
      "source": [
        ""
      ],
      "execution_count": null,
      "outputs": []
    },
    {
      "cell_type": "markdown",
      "metadata": {
        "id": "9q-ZggY2COmS"
      },
      "source": [
        ""
      ]
    }
  ]
}