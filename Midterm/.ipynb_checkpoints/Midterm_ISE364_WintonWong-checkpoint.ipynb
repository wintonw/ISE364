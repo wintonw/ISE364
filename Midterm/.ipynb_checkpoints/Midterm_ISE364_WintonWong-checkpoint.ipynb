{
  "nbformat": 4,
  "nbformat_minor": 0,
  "metadata": {
    "colab": {
      "name": "Midterm_ISE364_WintonWong.ipynb",
      "provenance": [],
      "collapsed_sections": [
        "pzgU70sSpse3",
        "R4Q3K3zkm6by",
        "1qA1V5bbnP_P",
        "8dChRtp2ndnk",
        "rqrgd06BnnQU",
        "qufpIxXon7oR",
        "fRXuEVgzrRqH"
      ]
    },
    "kernelspec": {
      "name": "python3",
      "display_name": "Python 3"
    }
  },
  "cells": [
    {
      "cell_type": "code",
      "metadata": {
        "id": "Ghd-gaenmdcc"
      },
      "source": [
        "from sklearn.metrics import classification_report, confusion_matrix\n",
        "from sklearn.model_selection import GridSearchCV\n",
        "from sklearn.model_selection import train_test_split\n",
        "from sklearn.svm import SVC\n",
        "import numpy as np\n",
        "import pandas as pd\n",
        "import matplotlib.pyplot as plt\n",
        "import seaborn as sns"
      ],
      "execution_count": 1,
      "outputs": []
    },
    {
      "cell_type": "markdown",
      "metadata": {
        "id": "pzgU70sSpse3"
      },
      "source": [
        "#### Get the training data"
      ]
    },
    {
      "cell_type": "code",
      "metadata": {
        "id": "BwndI5ZNmszo"
      },
      "source": [
        "# training data\n",
        "df = pd.read_csv(\n",
        "    'https://github.com/wintonw/ISE364/raw/master/Midterm/project_data.csv')"
      ],
      "execution_count": 2,
      "outputs": []
    },
    {
      "cell_type": "markdown",
      "metadata": {
        "id": "R4Q3K3zkm6by"
      },
      "source": [
        "#### Exploratory Data Analysis"
      ]
    },
    {
      "cell_type": "code",
      "metadata": {
        "id": "oQrpMp62mxt3",
        "outputId": "e8a22b4f-8627-4a42-c145-b8db77ee78a1",
        "colab": {
          "base_uri": "https://localhost:8080/",
          "height": 204
        }
      },
      "source": [
        "df.head()"
      ],
      "execution_count": 3,
      "outputs": [
        {
          "output_type": "execute_result",
          "data": {
            "text/html": [
              "<div>\n",
              "<style scoped>\n",
              "    .dataframe tbody tr th:only-of-type {\n",
              "        vertical-align: middle;\n",
              "    }\n",
              "\n",
              "    .dataframe tbody tr th {\n",
              "        vertical-align: top;\n",
              "    }\n",
              "\n",
              "    .dataframe thead th {\n",
              "        text-align: right;\n",
              "    }\n",
              "</style>\n",
              "<table border=\"1\" class=\"dataframe\">\n",
              "  <thead>\n",
              "    <tr style=\"text-align: right;\">\n",
              "      <th></th>\n",
              "      <th>V0</th>\n",
              "      <th>V1</th>\n",
              "      <th>V2</th>\n",
              "      <th>V3</th>\n",
              "      <th>V4</th>\n",
              "      <th>V5</th>\n",
              "      <th>V6</th>\n",
              "      <th>V7</th>\n",
              "      <th>V8</th>\n",
              "      <th>V9</th>\n",
              "      <th>V10</th>\n",
              "      <th>V11</th>\n",
              "      <th>target</th>\n",
              "    </tr>\n",
              "  </thead>\n",
              "  <tbody>\n",
              "    <tr>\n",
              "      <th>0</th>\n",
              "      <td>A</td>\n",
              "      <td>6.8</td>\n",
              "      <td>0.63</td>\n",
              "      <td>0.04</td>\n",
              "      <td>1.30</td>\n",
              "      <td>0.058</td>\n",
              "      <td>25.0</td>\n",
              "      <td>133.0</td>\n",
              "      <td>0.99271</td>\n",
              "      <td>3.17</td>\n",
              "      <td>0.39</td>\n",
              "      <td>10.2</td>\n",
              "      <td>0</td>\n",
              "    </tr>\n",
              "    <tr>\n",
              "      <th>1</th>\n",
              "      <td>A</td>\n",
              "      <td>7.2</td>\n",
              "      <td>0.19</td>\n",
              "      <td>0.31</td>\n",
              "      <td>6.30</td>\n",
              "      <td>0.034</td>\n",
              "      <td>17.0</td>\n",
              "      <td>103.0</td>\n",
              "      <td>0.99305</td>\n",
              "      <td>3.15</td>\n",
              "      <td>0.52</td>\n",
              "      <td>11.4</td>\n",
              "      <td>0</td>\n",
              "    </tr>\n",
              "    <tr>\n",
              "      <th>2</th>\n",
              "      <td>A</td>\n",
              "      <td>6.5</td>\n",
              "      <td>0.36</td>\n",
              "      <td>0.31</td>\n",
              "      <td>13.55</td>\n",
              "      <td>0.053</td>\n",
              "      <td>20.0</td>\n",
              "      <td>113.0</td>\n",
              "      <td>0.99544</td>\n",
              "      <td>3.20</td>\n",
              "      <td>0.56</td>\n",
              "      <td>11.0</td>\n",
              "      <td>1</td>\n",
              "    </tr>\n",
              "    <tr>\n",
              "      <th>3</th>\n",
              "      <td>A</td>\n",
              "      <td>6.0</td>\n",
              "      <td>0.39</td>\n",
              "      <td>0.26</td>\n",
              "      <td>2.70</td>\n",
              "      <td>0.038</td>\n",
              "      <td>39.0</td>\n",
              "      <td>187.0</td>\n",
              "      <td>0.99325</td>\n",
              "      <td>3.41</td>\n",
              "      <td>0.50</td>\n",
              "      <td>10.8</td>\n",
              "      <td>1</td>\n",
              "    </tr>\n",
              "    <tr>\n",
              "      <th>4</th>\n",
              "      <td>A</td>\n",
              "      <td>6.2</td>\n",
              "      <td>0.36</td>\n",
              "      <td>0.45</td>\n",
              "      <td>10.40</td>\n",
              "      <td>0.060</td>\n",
              "      <td>22.0</td>\n",
              "      <td>184.0</td>\n",
              "      <td>0.99711</td>\n",
              "      <td>3.31</td>\n",
              "      <td>0.56</td>\n",
              "      <td>9.8</td>\n",
              "      <td>1</td>\n",
              "    </tr>\n",
              "  </tbody>\n",
              "</table>\n",
              "</div>"
            ],
            "text/plain": [
              "  V0   V1    V2    V3     V4     V5  ...     V7       V8    V9   V10   V11  target\n",
              "0  A  6.8  0.63  0.04   1.30  0.058  ...  133.0  0.99271  3.17  0.39  10.2       0\n",
              "1  A  7.2  0.19  0.31   6.30  0.034  ...  103.0  0.99305  3.15  0.52  11.4       0\n",
              "2  A  6.5  0.36  0.31  13.55  0.053  ...  113.0  0.99544  3.20  0.56  11.0       1\n",
              "3  A  6.0  0.39  0.26   2.70  0.038  ...  187.0  0.99325  3.41  0.50  10.8       1\n",
              "4  A  6.2  0.36  0.45  10.40  0.060  ...  184.0  0.99711  3.31  0.56   9.8       1\n",
              "\n",
              "[5 rows x 13 columns]"
            ]
          },
          "metadata": {
            "tags": []
          },
          "execution_count": 3
        }
      ]
    },
    {
      "cell_type": "code",
      "metadata": {
        "id": "4r0ZhSrqm9Xu",
        "outputId": "b74e854b-d1d9-43a8-9412-931eb9973af0",
        "colab": {
          "base_uri": "https://localhost:8080/",
          "height": 297
        }
      },
      "source": [
        "df.describe()"
      ],
      "execution_count": 4,
      "outputs": [
        {
          "output_type": "execute_result",
          "data": {
            "text/html": [
              "<div>\n",
              "<style scoped>\n",
              "    .dataframe tbody tr th:only-of-type {\n",
              "        vertical-align: middle;\n",
              "    }\n",
              "\n",
              "    .dataframe tbody tr th {\n",
              "        vertical-align: top;\n",
              "    }\n",
              "\n",
              "    .dataframe thead th {\n",
              "        text-align: right;\n",
              "    }\n",
              "</style>\n",
              "<table border=\"1\" class=\"dataframe\">\n",
              "  <thead>\n",
              "    <tr style=\"text-align: right;\">\n",
              "      <th></th>\n",
              "      <th>V1</th>\n",
              "      <th>V2</th>\n",
              "      <th>V3</th>\n",
              "      <th>V4</th>\n",
              "      <th>V5</th>\n",
              "      <th>V6</th>\n",
              "      <th>V7</th>\n",
              "      <th>V8</th>\n",
              "      <th>V9</th>\n",
              "      <th>V10</th>\n",
              "      <th>V11</th>\n",
              "      <th>target</th>\n",
              "    </tr>\n",
              "  </thead>\n",
              "  <tbody>\n",
              "    <tr>\n",
              "      <th>count</th>\n",
              "      <td>5497.000000</td>\n",
              "      <td>5497.000000</td>\n",
              "      <td>5497.000000</td>\n",
              "      <td>5497.000000</td>\n",
              "      <td>5497.000000</td>\n",
              "      <td>5497.000000</td>\n",
              "      <td>5497.000000</td>\n",
              "      <td>5497.000000</td>\n",
              "      <td>5497.000000</td>\n",
              "      <td>5497.000000</td>\n",
              "      <td>5497.000000</td>\n",
              "      <td>5497.000000</td>\n",
              "    </tr>\n",
              "    <tr>\n",
              "      <th>mean</th>\n",
              "      <td>7.219893</td>\n",
              "      <td>0.341168</td>\n",
              "      <td>0.318972</td>\n",
              "      <td>5.458959</td>\n",
              "      <td>0.056343</td>\n",
              "      <td>30.575678</td>\n",
              "      <td>116.016009</td>\n",
              "      <td>0.994745</td>\n",
              "      <td>3.218374</td>\n",
              "      <td>0.532176</td>\n",
              "      <td>10.470840</td>\n",
              "      <td>0.795707</td>\n",
              "    </tr>\n",
              "    <tr>\n",
              "      <th>std</th>\n",
              "      <td>1.292492</td>\n",
              "      <td>0.164918</td>\n",
              "      <td>0.146604</td>\n",
              "      <td>4.787672</td>\n",
              "      <td>0.035012</td>\n",
              "      <td>17.852840</td>\n",
              "      <td>56.923871</td>\n",
              "      <td>0.002995</td>\n",
              "      <td>0.160303</td>\n",
              "      <td>0.149103</td>\n",
              "      <td>1.185713</td>\n",
              "      <td>0.403221</td>\n",
              "    </tr>\n",
              "    <tr>\n",
              "      <th>min</th>\n",
              "      <td>3.800000</td>\n",
              "      <td>0.080000</td>\n",
              "      <td>0.000000</td>\n",
              "      <td>0.600000</td>\n",
              "      <td>0.009000</td>\n",
              "      <td>1.000000</td>\n",
              "      <td>6.000000</td>\n",
              "      <td>0.987110</td>\n",
              "      <td>2.720000</td>\n",
              "      <td>0.220000</td>\n",
              "      <td>8.000000</td>\n",
              "      <td>0.000000</td>\n",
              "    </tr>\n",
              "    <tr>\n",
              "      <th>25%</th>\n",
              "      <td>6.400000</td>\n",
              "      <td>0.230000</td>\n",
              "      <td>0.250000</td>\n",
              "      <td>1.800000</td>\n",
              "      <td>0.038000</td>\n",
              "      <td>17.000000</td>\n",
              "      <td>77.000000</td>\n",
              "      <td>0.992400</td>\n",
              "      <td>3.110000</td>\n",
              "      <td>0.430000</td>\n",
              "      <td>9.500000</td>\n",
              "      <td>1.000000</td>\n",
              "    </tr>\n",
              "    <tr>\n",
              "      <th>50%</th>\n",
              "      <td>7.000000</td>\n",
              "      <td>0.290000</td>\n",
              "      <td>0.310000</td>\n",
              "      <td>3.000000</td>\n",
              "      <td>0.047000</td>\n",
              "      <td>29.000000</td>\n",
              "      <td>119.000000</td>\n",
              "      <td>0.994940</td>\n",
              "      <td>3.210000</td>\n",
              "      <td>0.510000</td>\n",
              "      <td>10.300000</td>\n",
              "      <td>1.000000</td>\n",
              "    </tr>\n",
              "    <tr>\n",
              "      <th>75%</th>\n",
              "      <td>7.700000</td>\n",
              "      <td>0.410000</td>\n",
              "      <td>0.400000</td>\n",
              "      <td>8.100000</td>\n",
              "      <td>0.066000</td>\n",
              "      <td>41.000000</td>\n",
              "      <td>156.000000</td>\n",
              "      <td>0.997000</td>\n",
              "      <td>3.320000</td>\n",
              "      <td>0.600000</td>\n",
              "      <td>11.300000</td>\n",
              "      <td>1.000000</td>\n",
              "    </tr>\n",
              "    <tr>\n",
              "      <th>max</th>\n",
              "      <td>15.900000</td>\n",
              "      <td>1.330000</td>\n",
              "      <td>1.660000</td>\n",
              "      <td>65.800000</td>\n",
              "      <td>0.611000</td>\n",
              "      <td>289.000000</td>\n",
              "      <td>440.000000</td>\n",
              "      <td>1.038980</td>\n",
              "      <td>4.010000</td>\n",
              "      <td>2.000000</td>\n",
              "      <td>14.900000</td>\n",
              "      <td>1.000000</td>\n",
              "    </tr>\n",
              "  </tbody>\n",
              "</table>\n",
              "</div>"
            ],
            "text/plain": [
              "                V1           V2  ...          V11       target\n",
              "count  5497.000000  5497.000000  ...  5497.000000  5497.000000\n",
              "mean      7.219893     0.341168  ...    10.470840     0.795707\n",
              "std       1.292492     0.164918  ...     1.185713     0.403221\n",
              "min       3.800000     0.080000  ...     8.000000     0.000000\n",
              "25%       6.400000     0.230000  ...     9.500000     1.000000\n",
              "50%       7.000000     0.290000  ...    10.300000     1.000000\n",
              "75%       7.700000     0.410000  ...    11.300000     1.000000\n",
              "max      15.900000     1.330000  ...    14.900000     1.000000\n",
              "\n",
              "[8 rows x 12 columns]"
            ]
          },
          "metadata": {
            "tags": []
          },
          "execution_count": 4
        }
      ]
    },
    {
      "cell_type": "code",
      "metadata": {
        "id": "ffy_XDgDm_Y8",
        "outputId": "f449cc96-29bf-4327-a8b8-96373083100e",
        "colab": {
          "base_uri": "https://localhost:8080/"
        }
      },
      "source": [
        "df.info()"
      ],
      "execution_count": 5,
      "outputs": [
        {
          "output_type": "stream",
          "text": [
            "<class 'pandas.core.frame.DataFrame'>\n",
            "RangeIndex: 5497 entries, 0 to 5496\n",
            "Data columns (total 13 columns):\n",
            " #   Column  Non-Null Count  Dtype  \n",
            "---  ------  --------------  -----  \n",
            " 0   V0      5497 non-null   object \n",
            " 1   V1      5497 non-null   float64\n",
            " 2   V2      5497 non-null   float64\n",
            " 3   V3      5497 non-null   float64\n",
            " 4   V4      5497 non-null   float64\n",
            " 5   V5      5497 non-null   float64\n",
            " 6   V6      5497 non-null   float64\n",
            " 7   V7      5497 non-null   float64\n",
            " 8   V8      5497 non-null   float64\n",
            " 9   V9      5497 non-null   float64\n",
            " 10  V10     5497 non-null   float64\n",
            " 11  V11     5497 non-null   float64\n",
            " 12  target  5497 non-null   int64  \n",
            "dtypes: float64(11), int64(1), object(1)\n",
            "memory usage: 558.4+ KB\n"
          ],
          "name": "stdout"
        }
      ]
    },
    {
      "cell_type": "code",
      "metadata": {
        "id": "I4vJp7rMoYjW"
      },
      "source": [
        "sns.pairplot(df)"
      ],
      "execution_count": null,
      "outputs": []
    },
    {
      "cell_type": "code",
      "metadata": {
        "id": "g-VBfuiVnUgj",
        "outputId": "2c0653f5-94f5-44ab-ed79-7209c7d9cd2b",
        "colab": {
          "base_uri": "https://localhost:8080/"
        }
      },
      "source": [
        "df['target'].unique()"
      ],
      "execution_count": 8,
      "outputs": [
        {
          "output_type": "execute_result",
          "data": {
            "text/plain": [
              "array([0, 1])"
            ]
          },
          "metadata": {
            "tags": []
          },
          "execution_count": 8
        }
      ]
    },
    {
      "cell_type": "code",
      "metadata": {
        "id": "km00qEwwnVEC",
        "outputId": "6191b993-14bc-44f8-80d1-ab2e83029459",
        "colab": {
          "base_uri": "https://localhost:8080/"
        }
      },
      "source": [
        "df['V0'].unique()"
      ],
      "execution_count": 7,
      "outputs": [
        {
          "output_type": "execute_result",
          "data": {
            "text/plain": [
              "array(['A', 'B'], dtype=object)"
            ]
          },
          "metadata": {
            "tags": []
          },
          "execution_count": 7
        }
      ]
    },
    {
      "cell_type": "markdown",
      "metadata": {
        "id": "_XKVl_FMnFDb"
      },
      "source": [
        "**No nulls, but V0 will need to be transformed into numbers**"
      ]
    },
    {
      "cell_type": "markdown",
      "metadata": {
        "id": "1qA1V5bbnP_P"
      },
      "source": [
        "#### Clean up data"
      ]
    },
    {
      "cell_type": "code",
      "metadata": {
        "id": "BZ9FmdWgnBYo"
      },
      "source": [
        "# V0 to binary\n",
        "V0 = pd.get_dummies(df['V0'], drop_first=True)\n",
        "df.drop(['V0'], axis=1, inplace=True)\n",
        "df = pd.concat([df, V0], axis=1)"
      ],
      "execution_count": 9,
      "outputs": []
    },
    {
      "cell_type": "markdown",
      "metadata": {
        "id": "8dChRtp2ndnk"
      },
      "source": [
        "#### Train Test Split"
      ]
    },
    {
      "cell_type": "code",
      "metadata": {
        "id": "7S033EkpnfZ7"
      },
      "source": [
        "X = df.drop('target', axis=1)\n",
        "y = df.target\n",
        "X_train, X_Test, y_train, y_test = train_test_split(\n",
        "    X, y, test_size=0.3, random_state=12)"
      ],
      "execution_count": 10,
      "outputs": []
    },
    {
      "cell_type": "markdown",
      "metadata": {
        "id": "rqrgd06BnnQU"
      },
      "source": [
        "### Train a Support Vector Machine Classifier Model (SVM), in grid"
      ]
    },
    {
      "cell_type": "markdown",
      "metadata": {
        "id": "qufpIxXon7oR"
      },
      "source": [
        "#### Set up train, with custom parameters "
      ]
    },
    {
      "cell_type": "code",
      "metadata": {
        "id": "AHnvvv98nmxd",
        "outputId": "bac42a66-bdfc-459c-89fd-3864156e761a",
        "colab": {
          "base_uri": "https://localhost:8080/"
        }
      },
      "source": [
        "param_grid = {'C':[0.1, 10, 100, 1000, 50], 'gamma':[1, 0.1, 0.01, 0.001, 0.0001, 0.005], 'kernel':['rbf']}\n",
        "grid = GridSearchCV(SVC(), param_grid, refit=True, verbose=3)\n",
        "grid.fit(X_train, y_train)"
      ],
      "execution_count": 11,
      "outputs": [
        {
          "output_type": "stream",
          "text": [
            "Fitting 5 folds for each of 30 candidates, totalling 150 fits\n",
            "[CV] C=0.1, gamma=1, kernel=rbf ......................................\n"
          ],
          "name": "stdout"
        },
        {
          "output_type": "stream",
          "text": [
            "[Parallel(n_jobs=1)]: Using backend SequentialBackend with 1 concurrent workers.\n"
          ],
          "name": "stderr"
        },
        {
          "output_type": "stream",
          "text": [
            "[CV] .......... C=0.1, gamma=1, kernel=rbf, score=0.795, total=   0.6s\n",
            "[CV] C=0.1, gamma=1, kernel=rbf ......................................\n"
          ],
          "name": "stdout"
        },
        {
          "output_type": "stream",
          "text": [
            "[Parallel(n_jobs=1)]: Done   1 out of   1 | elapsed:    0.6s remaining:    0.0s\n"
          ],
          "name": "stderr"
        },
        {
          "output_type": "stream",
          "text": [
            "[CV] .......... C=0.1, gamma=1, kernel=rbf, score=0.795, total=   0.6s\n",
            "[CV] C=0.1, gamma=1, kernel=rbf ......................................\n"
          ],
          "name": "stdout"
        },
        {
          "output_type": "stream",
          "text": [
            "[Parallel(n_jobs=1)]: Done   2 out of   2 | elapsed:    1.1s remaining:    0.0s\n"
          ],
          "name": "stderr"
        },
        {
          "output_type": "stream",
          "text": [
            "[CV] .......... C=0.1, gamma=1, kernel=rbf, score=0.795, total=   0.6s\n",
            "[CV] C=0.1, gamma=1, kernel=rbf ......................................\n",
            "[CV] .......... C=0.1, gamma=1, kernel=rbf, score=0.795, total=   0.5s\n",
            "[CV] C=0.1, gamma=1, kernel=rbf ......................................\n",
            "[CV] .......... C=0.1, gamma=1, kernel=rbf, score=0.795, total=   0.6s\n",
            "[CV] C=0.1, gamma=0.1, kernel=rbf ....................................\n",
            "[CV] ........ C=0.1, gamma=0.1, kernel=rbf, score=0.795, total=   0.6s\n",
            "[CV] C=0.1, gamma=0.1, kernel=rbf ....................................\n",
            "[CV] ........ C=0.1, gamma=0.1, kernel=rbf, score=0.795, total=   0.6s\n",
            "[CV] C=0.1, gamma=0.1, kernel=rbf ....................................\n",
            "[CV] ........ C=0.1, gamma=0.1, kernel=rbf, score=0.795, total=   0.6s\n",
            "[CV] C=0.1, gamma=0.1, kernel=rbf ....................................\n",
            "[CV] ........ C=0.1, gamma=0.1, kernel=rbf, score=0.795, total=   0.6s\n",
            "[CV] C=0.1, gamma=0.1, kernel=rbf ....................................\n",
            "[CV] ........ C=0.1, gamma=0.1, kernel=rbf, score=0.795, total=   0.6s\n",
            "[CV] C=0.1, gamma=0.01, kernel=rbf ...................................\n",
            "[CV] ....... C=0.1, gamma=0.01, kernel=rbf, score=0.795, total=   0.4s\n",
            "[CV] C=0.1, gamma=0.01, kernel=rbf ...................................\n",
            "[CV] ....... C=0.1, gamma=0.01, kernel=rbf, score=0.795, total=   0.4s\n",
            "[CV] C=0.1, gamma=0.01, kernel=rbf ...................................\n",
            "[CV] ....... C=0.1, gamma=0.01, kernel=rbf, score=0.795, total=   0.4s\n",
            "[CV] C=0.1, gamma=0.01, kernel=rbf ...................................\n",
            "[CV] ....... C=0.1, gamma=0.01, kernel=rbf, score=0.795, total=   0.4s\n",
            "[CV] C=0.1, gamma=0.01, kernel=rbf ...................................\n",
            "[CV] ....... C=0.1, gamma=0.01, kernel=rbf, score=0.795, total=   0.4s\n",
            "[CV] C=0.1, gamma=0.001, kernel=rbf ..................................\n",
            "[CV] ...... C=0.1, gamma=0.001, kernel=rbf, score=0.795, total=   0.4s\n",
            "[CV] C=0.1, gamma=0.001, kernel=rbf ..................................\n",
            "[CV] ...... C=0.1, gamma=0.001, kernel=rbf, score=0.795, total=   0.4s\n",
            "[CV] C=0.1, gamma=0.001, kernel=rbf ..................................\n",
            "[CV] ...... C=0.1, gamma=0.001, kernel=rbf, score=0.795, total=   0.4s\n",
            "[CV] C=0.1, gamma=0.001, kernel=rbf ..................................\n",
            "[CV] ...... C=0.1, gamma=0.001, kernel=rbf, score=0.795, total=   0.4s\n",
            "[CV] C=0.1, gamma=0.001, kernel=rbf ..................................\n",
            "[CV] ...... C=0.1, gamma=0.001, kernel=rbf, score=0.795, total=   0.4s\n",
            "[CV] C=0.1, gamma=0.0001, kernel=rbf .................................\n",
            "[CV] ..... C=0.1, gamma=0.0001, kernel=rbf, score=0.795, total=   0.3s\n",
            "[CV] C=0.1, gamma=0.0001, kernel=rbf .................................\n",
            "[CV] ..... C=0.1, gamma=0.0001, kernel=rbf, score=0.795, total=   0.3s\n",
            "[CV] C=0.1, gamma=0.0001, kernel=rbf .................................\n",
            "[CV] ..... C=0.1, gamma=0.0001, kernel=rbf, score=0.795, total=   0.3s\n",
            "[CV] C=0.1, gamma=0.0001, kernel=rbf .................................\n",
            "[CV] ..... C=0.1, gamma=0.0001, kernel=rbf, score=0.795, total=   0.3s\n",
            "[CV] C=0.1, gamma=0.0001, kernel=rbf .................................\n",
            "[CV] ..... C=0.1, gamma=0.0001, kernel=rbf, score=0.795, total=   0.3s\n",
            "[CV] C=0.1, gamma=0.005, kernel=rbf ..................................\n",
            "[CV] ...... C=0.1, gamma=0.005, kernel=rbf, score=0.795, total=   0.4s\n",
            "[CV] C=0.1, gamma=0.005, kernel=rbf ..................................\n",
            "[CV] ...... C=0.1, gamma=0.005, kernel=rbf, score=0.795, total=   0.4s\n",
            "[CV] C=0.1, gamma=0.005, kernel=rbf ..................................\n",
            "[CV] ...... C=0.1, gamma=0.005, kernel=rbf, score=0.795, total=   0.4s\n",
            "[CV] C=0.1, gamma=0.005, kernel=rbf ..................................\n",
            "[CV] ...... C=0.1, gamma=0.005, kernel=rbf, score=0.795, total=   0.4s\n",
            "[CV] C=0.1, gamma=0.005, kernel=rbf ..................................\n",
            "[CV] ...... C=0.1, gamma=0.005, kernel=rbf, score=0.795, total=   0.4s\n",
            "[CV] C=10, gamma=1, kernel=rbf .......................................\n",
            "[CV] ........... C=10, gamma=1, kernel=rbf, score=0.829, total=   0.6s\n",
            "[CV] C=10, gamma=1, kernel=rbf .......................................\n",
            "[CV] ........... C=10, gamma=1, kernel=rbf, score=0.822, total=   0.6s\n",
            "[CV] C=10, gamma=1, kernel=rbf .......................................\n",
            "[CV] ........... C=10, gamma=1, kernel=rbf, score=0.831, total=   0.6s\n",
            "[CV] C=10, gamma=1, kernel=rbf .......................................\n",
            "[CV] ........... C=10, gamma=1, kernel=rbf, score=0.830, total=   0.6s\n",
            "[CV] C=10, gamma=1, kernel=rbf .......................................\n",
            "[CV] ........... C=10, gamma=1, kernel=rbf, score=0.815, total=   0.6s\n",
            "[CV] C=10, gamma=0.1, kernel=rbf .....................................\n",
            "[CV] ......... C=10, gamma=0.1, kernel=rbf, score=0.794, total=   0.8s\n",
            "[CV] C=10, gamma=0.1, kernel=rbf .....................................\n",
            "[CV] ......... C=10, gamma=0.1, kernel=rbf, score=0.775, total=   0.7s\n",
            "[CV] C=10, gamma=0.1, kernel=rbf .....................................\n",
            "[CV] ......... C=10, gamma=0.1, kernel=rbf, score=0.789, total=   0.7s\n",
            "[CV] C=10, gamma=0.1, kernel=rbf .....................................\n",
            "[CV] ......... C=10, gamma=0.1, kernel=rbf, score=0.783, total=   0.7s\n",
            "[CV] C=10, gamma=0.1, kernel=rbf .....................................\n",
            "[CV] ......... C=10, gamma=0.1, kernel=rbf, score=0.804, total=   0.7s\n",
            "[CV] C=10, gamma=0.01, kernel=rbf ....................................\n",
            "[CV] ........ C=10, gamma=0.01, kernel=rbf, score=0.782, total=   0.4s\n",
            "[CV] C=10, gamma=0.01, kernel=rbf ....................................\n",
            "[CV] ........ C=10, gamma=0.01, kernel=rbf, score=0.801, total=   0.5s\n",
            "[CV] C=10, gamma=0.01, kernel=rbf ....................................\n",
            "[CV] ........ C=10, gamma=0.01, kernel=rbf, score=0.809, total=   0.5s\n",
            "[CV] C=10, gamma=0.01, kernel=rbf ....................................\n",
            "[CV] ........ C=10, gamma=0.01, kernel=rbf, score=0.811, total=   0.5s\n",
            "[CV] C=10, gamma=0.01, kernel=rbf ....................................\n",
            "[CV] ........ C=10, gamma=0.01, kernel=rbf, score=0.801, total=   0.5s\n",
            "[CV] C=10, gamma=0.001, kernel=rbf ...................................\n",
            "[CV] ....... C=10, gamma=0.001, kernel=rbf, score=0.796, total=   0.7s\n",
            "[CV] C=10, gamma=0.001, kernel=rbf ...................................\n",
            "[CV] ....... C=10, gamma=0.001, kernel=rbf, score=0.794, total=   0.8s\n",
            "[CV] C=10, gamma=0.001, kernel=rbf ...................................\n",
            "[CV] ....... C=10, gamma=0.001, kernel=rbf, score=0.792, total=   0.9s\n",
            "[CV] C=10, gamma=0.001, kernel=rbf ...................................\n",
            "[CV] ....... C=10, gamma=0.001, kernel=rbf, score=0.795, total=   0.7s\n",
            "[CV] C=10, gamma=0.001, kernel=rbf ...................................\n",
            "[CV] ....... C=10, gamma=0.001, kernel=rbf, score=0.793, total=   0.7s\n",
            "[CV] C=10, gamma=0.0001, kernel=rbf ..................................\n",
            "[CV] ...... C=10, gamma=0.0001, kernel=rbf, score=0.795, total=   1.0s\n",
            "[CV] C=10, gamma=0.0001, kernel=rbf ..................................\n",
            "[CV] ...... C=10, gamma=0.0001, kernel=rbf, score=0.795, total=   0.9s\n",
            "[CV] C=10, gamma=0.0001, kernel=rbf ..................................\n",
            "[CV] ...... C=10, gamma=0.0001, kernel=rbf, score=0.795, total=   1.1s\n",
            "[CV] C=10, gamma=0.0001, kernel=rbf ..................................\n",
            "[CV] ...... C=10, gamma=0.0001, kernel=rbf, score=0.795, total=   1.2s\n",
            "[CV] C=10, gamma=0.0001, kernel=rbf ..................................\n",
            "[CV] ...... C=10, gamma=0.0001, kernel=rbf, score=0.795, total=   1.0s\n",
            "[CV] C=10, gamma=0.005, kernel=rbf ...................................\n",
            "[CV] ....... C=10, gamma=0.005, kernel=rbf, score=0.797, total=   0.5s\n",
            "[CV] C=10, gamma=0.005, kernel=rbf ...................................\n",
            "[CV] ....... C=10, gamma=0.005, kernel=rbf, score=0.800, total=   0.5s\n",
            "[CV] C=10, gamma=0.005, kernel=rbf ...................................\n",
            "[CV] ....... C=10, gamma=0.005, kernel=rbf, score=0.805, total=   0.5s\n",
            "[CV] C=10, gamma=0.005, kernel=rbf ...................................\n",
            "[CV] ....... C=10, gamma=0.005, kernel=rbf, score=0.810, total=   0.5s\n",
            "[CV] C=10, gamma=0.005, kernel=rbf ...................................\n",
            "[CV] ....... C=10, gamma=0.005, kernel=rbf, score=0.798, total=   0.5s\n",
            "[CV] C=100, gamma=1, kernel=rbf ......................................\n",
            "[CV] .......... C=100, gamma=1, kernel=rbf, score=0.829, total=   0.6s\n",
            "[CV] C=100, gamma=1, kernel=rbf ......................................\n",
            "[CV] .......... C=100, gamma=1, kernel=rbf, score=0.822, total=   0.6s\n",
            "[CV] C=100, gamma=1, kernel=rbf ......................................\n",
            "[CV] .......... C=100, gamma=1, kernel=rbf, score=0.831, total=   0.6s\n",
            "[CV] C=100, gamma=1, kernel=rbf ......................................\n",
            "[CV] .......... C=100, gamma=1, kernel=rbf, score=0.830, total=   0.6s\n",
            "[CV] C=100, gamma=1, kernel=rbf ......................................\n",
            "[CV] .......... C=100, gamma=1, kernel=rbf, score=0.815, total=   0.6s\n",
            "[CV] C=100, gamma=0.1, kernel=rbf ....................................\n",
            "[CV] ........ C=100, gamma=0.1, kernel=rbf, score=0.788, total=   0.7s\n",
            "[CV] C=100, gamma=0.1, kernel=rbf ....................................\n",
            "[CV] ........ C=100, gamma=0.1, kernel=rbf, score=0.768, total=   0.8s\n",
            "[CV] C=100, gamma=0.1, kernel=rbf ....................................\n",
            "[CV] ........ C=100, gamma=0.1, kernel=rbf, score=0.784, total=   0.7s\n",
            "[CV] C=100, gamma=0.1, kernel=rbf ....................................\n",
            "[CV] ........ C=100, gamma=0.1, kernel=rbf, score=0.780, total=   0.7s\n",
            "[CV] C=100, gamma=0.1, kernel=rbf ....................................\n",
            "[CV] ........ C=100, gamma=0.1, kernel=rbf, score=0.789, total=   0.7s\n",
            "[CV] C=100, gamma=0.01, kernel=rbf ...................................\n",
            "[CV] ....... C=100, gamma=0.01, kernel=rbf, score=0.766, total=   0.9s\n",
            "[CV] C=100, gamma=0.01, kernel=rbf ...................................\n",
            "[CV] ....... C=100, gamma=0.01, kernel=rbf, score=0.760, total=   0.8s\n",
            "[CV] C=100, gamma=0.01, kernel=rbf ...................................\n",
            "[CV] ....... C=100, gamma=0.01, kernel=rbf, score=0.797, total=   0.9s\n",
            "[CV] C=100, gamma=0.01, kernel=rbf ...................................\n",
            "[CV] ....... C=100, gamma=0.01, kernel=rbf, score=0.788, total=   0.8s\n",
            "[CV] C=100, gamma=0.01, kernel=rbf ...................................\n",
            "[CV] ....... C=100, gamma=0.01, kernel=rbf, score=0.785, total=   0.8s\n",
            "[CV] C=100, gamma=0.001, kernel=rbf ..................................\n",
            "[CV] ...... C=100, gamma=0.001, kernel=rbf, score=0.796, total=   1.0s\n",
            "[CV] C=100, gamma=0.001, kernel=rbf ..................................\n",
            "[CV] ...... C=100, gamma=0.001, kernel=rbf, score=0.791, total=   1.0s\n",
            "[CV] C=100, gamma=0.001, kernel=rbf ..................................\n",
            "[CV] ...... C=100, gamma=0.001, kernel=rbf, score=0.796, total=   1.3s\n",
            "[CV] C=100, gamma=0.001, kernel=rbf ..................................\n",
            "[CV] ...... C=100, gamma=0.001, kernel=rbf, score=0.797, total=   0.9s\n",
            "[CV] C=100, gamma=0.001, kernel=rbf ..................................\n",
            "[CV] ...... C=100, gamma=0.001, kernel=rbf, score=0.798, total=   0.9s\n",
            "[CV] C=100, gamma=0.0001, kernel=rbf .................................\n",
            "[CV] ..... C=100, gamma=0.0001, kernel=rbf, score=0.795, total=   1.7s\n",
            "[CV] C=100, gamma=0.0001, kernel=rbf .................................\n",
            "[CV] ..... C=100, gamma=0.0001, kernel=rbf, score=0.795, total=   1.8s\n",
            "[CV] C=100, gamma=0.0001, kernel=rbf .................................\n",
            "[CV] ..... C=100, gamma=0.0001, kernel=rbf, score=0.793, total=   3.5s\n",
            "[CV] C=100, gamma=0.0001, kernel=rbf .................................\n",
            "[CV] ..... C=100, gamma=0.0001, kernel=rbf, score=0.795, total=   3.3s\n",
            "[CV] C=100, gamma=0.0001, kernel=rbf .................................\n",
            "[CV] ..... C=100, gamma=0.0001, kernel=rbf, score=0.795, total=   2.1s\n",
            "[CV] C=100, gamma=0.005, kernel=rbf ..................................\n",
            "[CV] ...... C=100, gamma=0.005, kernel=rbf, score=0.765, total=   0.9s\n",
            "[CV] C=100, gamma=0.005, kernel=rbf ..................................\n",
            "[CV] ...... C=100, gamma=0.005, kernel=rbf, score=0.786, total=   1.0s\n",
            "[CV] C=100, gamma=0.005, kernel=rbf ..................................\n",
            "[CV] ...... C=100, gamma=0.005, kernel=rbf, score=0.814, total=   1.0s\n",
            "[CV] C=100, gamma=0.005, kernel=rbf ..................................\n",
            "[CV] ...... C=100, gamma=0.005, kernel=rbf, score=0.796, total=   0.9s\n",
            "[CV] C=100, gamma=0.005, kernel=rbf ..................................\n",
            "[CV] ...... C=100, gamma=0.005, kernel=rbf, score=0.805, total=   0.9s\n",
            "[CV] C=1000, gamma=1, kernel=rbf .....................................\n",
            "[CV] ......... C=1000, gamma=1, kernel=rbf, score=0.829, total=   0.6s\n",
            "[CV] C=1000, gamma=1, kernel=rbf .....................................\n",
            "[CV] ......... C=1000, gamma=1, kernel=rbf, score=0.822, total=   0.6s\n",
            "[CV] C=1000, gamma=1, kernel=rbf .....................................\n",
            "[CV] ......... C=1000, gamma=1, kernel=rbf, score=0.831, total=   0.6s\n",
            "[CV] C=1000, gamma=1, kernel=rbf .....................................\n",
            "[CV] ......... C=1000, gamma=1, kernel=rbf, score=0.830, total=   0.6s\n",
            "[CV] C=1000, gamma=1, kernel=rbf .....................................\n",
            "[CV] ......... C=1000, gamma=1, kernel=rbf, score=0.815, total=   0.6s\n",
            "[CV] C=1000, gamma=0.1, kernel=rbf ...................................\n",
            "[CV] ....... C=1000, gamma=0.1, kernel=rbf, score=0.787, total=   0.7s\n",
            "[CV] C=1000, gamma=0.1, kernel=rbf ...................................\n",
            "[CV] ....... C=1000, gamma=0.1, kernel=rbf, score=0.770, total=   0.7s\n",
            "[CV] C=1000, gamma=0.1, kernel=rbf ...................................\n",
            "[CV] ....... C=1000, gamma=0.1, kernel=rbf, score=0.785, total=   0.7s\n",
            "[CV] C=1000, gamma=0.1, kernel=rbf ...................................\n",
            "[CV] ....... C=1000, gamma=0.1, kernel=rbf, score=0.780, total=   0.7s\n",
            "[CV] C=1000, gamma=0.1, kernel=rbf ...................................\n",
            "[CV] ....... C=1000, gamma=0.1, kernel=rbf, score=0.789, total=   0.7s\n",
            "[CV] C=1000, gamma=0.01, kernel=rbf ..................................\n",
            "[CV] ...... C=1000, gamma=0.01, kernel=rbf, score=0.757, total=   2.8s\n",
            "[CV] C=1000, gamma=0.01, kernel=rbf ..................................\n",
            "[CV] ...... C=1000, gamma=0.01, kernel=rbf, score=0.732, total=   2.3s\n",
            "[CV] C=1000, gamma=0.01, kernel=rbf ..................................\n",
            "[CV] ...... C=1000, gamma=0.01, kernel=rbf, score=0.784, total=   2.8s\n",
            "[CV] C=1000, gamma=0.01, kernel=rbf ..................................\n",
            "[CV] ...... C=1000, gamma=0.01, kernel=rbf, score=0.784, total=   2.7s\n",
            "[CV] C=1000, gamma=0.01, kernel=rbf ..................................\n",
            "[CV] ...... C=1000, gamma=0.01, kernel=rbf, score=0.759, total=   2.7s\n",
            "[CV] C=1000, gamma=0.001, kernel=rbf .................................\n",
            "[CV] ..... C=1000, gamma=0.001, kernel=rbf, score=0.792, total=   3.4s\n",
            "[CV] C=1000, gamma=0.001, kernel=rbf .................................\n",
            "[CV] ..... C=1000, gamma=0.001, kernel=rbf, score=0.795, total=   3.4s\n",
            "[CV] C=1000, gamma=0.001, kernel=rbf .................................\n",
            "[CV] ..... C=1000, gamma=0.001, kernel=rbf, score=0.809, total=   3.6s\n",
            "[CV] C=1000, gamma=0.001, kernel=rbf .................................\n",
            "[CV] ..... C=1000, gamma=0.001, kernel=rbf, score=0.813, total=   2.9s\n",
            "[CV] C=1000, gamma=0.001, kernel=rbf .................................\n",
            "[CV] ..... C=1000, gamma=0.001, kernel=rbf, score=0.802, total=   3.4s\n",
            "[CV] C=1000, gamma=0.0001, kernel=rbf ................................\n",
            "[CV] .... C=1000, gamma=0.0001, kernel=rbf, score=0.795, total=   2.9s\n",
            "[CV] C=1000, gamma=0.0001, kernel=rbf ................................\n",
            "[CV] .... C=1000, gamma=0.0001, kernel=rbf, score=0.795, total=   3.0s\n",
            "[CV] C=1000, gamma=0.0001, kernel=rbf ................................\n",
            "[CV] .... C=1000, gamma=0.0001, kernel=rbf, score=0.793, total=   5.2s\n",
            "[CV] C=1000, gamma=0.0001, kernel=rbf ................................\n",
            "[CV] .... C=1000, gamma=0.0001, kernel=rbf, score=0.795, total=   5.5s\n",
            "[CV] C=1000, gamma=0.0001, kernel=rbf ................................\n",
            "[CV] .... C=1000, gamma=0.0001, kernel=rbf, score=0.795, total=   3.6s\n",
            "[CV] C=1000, gamma=0.005, kernel=rbf .................................\n",
            "[CV] ..... C=1000, gamma=0.005, kernel=rbf, score=0.738, total=   3.5s\n",
            "[CV] C=1000, gamma=0.005, kernel=rbf .................................\n",
            "[CV] ..... C=1000, gamma=0.005, kernel=rbf, score=0.768, total=   3.6s\n",
            "[CV] C=1000, gamma=0.005, kernel=rbf .................................\n",
            "[CV] ..... C=1000, gamma=0.005, kernel=rbf, score=0.819, total=   3.5s\n",
            "[CV] C=1000, gamma=0.005, kernel=rbf .................................\n",
            "[CV] ..... C=1000, gamma=0.005, kernel=rbf, score=0.784, total=   3.4s\n",
            "[CV] C=1000, gamma=0.005, kernel=rbf .................................\n",
            "[CV] ..... C=1000, gamma=0.005, kernel=rbf, score=0.796, total=   3.7s\n",
            "[CV] C=50, gamma=1, kernel=rbf .......................................\n",
            "[CV] ........... C=50, gamma=1, kernel=rbf, score=0.829, total=   0.6s\n",
            "[CV] C=50, gamma=1, kernel=rbf .......................................\n",
            "[CV] ........... C=50, gamma=1, kernel=rbf, score=0.822, total=   0.6s\n",
            "[CV] C=50, gamma=1, kernel=rbf .......................................\n",
            "[CV] ........... C=50, gamma=1, kernel=rbf, score=0.831, total=   0.6s\n",
            "[CV] C=50, gamma=1, kernel=rbf .......................................\n",
            "[CV] ........... C=50, gamma=1, kernel=rbf, score=0.830, total=   0.6s\n",
            "[CV] C=50, gamma=1, kernel=rbf .......................................\n",
            "[CV] ........... C=50, gamma=1, kernel=rbf, score=0.815, total=   0.6s\n",
            "[CV] C=50, gamma=0.1, kernel=rbf .....................................\n",
            "[CV] ......... C=50, gamma=0.1, kernel=rbf, score=0.788, total=   0.7s\n",
            "[CV] C=50, gamma=0.1, kernel=rbf .....................................\n",
            "[CV] ......... C=50, gamma=0.1, kernel=rbf, score=0.766, total=   0.7s\n",
            "[CV] C=50, gamma=0.1, kernel=rbf .....................................\n",
            "[CV] ......... C=50, gamma=0.1, kernel=rbf, score=0.785, total=   0.7s\n",
            "[CV] C=50, gamma=0.1, kernel=rbf .....................................\n",
            "[CV] ......... C=50, gamma=0.1, kernel=rbf, score=0.780, total=   0.7s\n",
            "[CV] C=50, gamma=0.1, kernel=rbf .....................................\n",
            "[CV] ......... C=50, gamma=0.1, kernel=rbf, score=0.793, total=   0.7s\n",
            "[CV] C=50, gamma=0.01, kernel=rbf ....................................\n",
            "[CV] ........ C=50, gamma=0.01, kernel=rbf, score=0.755, total=   0.7s\n",
            "[CV] C=50, gamma=0.01, kernel=rbf ....................................\n",
            "[CV] ........ C=50, gamma=0.01, kernel=rbf, score=0.770, total=   0.6s\n",
            "[CV] C=50, gamma=0.01, kernel=rbf ....................................\n",
            "[CV] ........ C=50, gamma=0.01, kernel=rbf, score=0.801, total=   0.7s\n",
            "[CV] C=50, gamma=0.01, kernel=rbf ....................................\n",
            "[CV] ........ C=50, gamma=0.01, kernel=rbf, score=0.789, total=   0.7s\n",
            "[CV] C=50, gamma=0.01, kernel=rbf ....................................\n",
            "[CV] ........ C=50, gamma=0.01, kernel=rbf, score=0.798, total=   0.7s\n",
            "[CV] C=50, gamma=0.001, kernel=rbf ...................................\n",
            "[CV] ....... C=50, gamma=0.001, kernel=rbf, score=0.794, total=   0.8s\n",
            "[CV] C=50, gamma=0.001, kernel=rbf ...................................\n",
            "[CV] ....... C=50, gamma=0.001, kernel=rbf, score=0.795, total=   0.9s\n",
            "[CV] C=50, gamma=0.001, kernel=rbf ...................................\n",
            "[CV] ....... C=50, gamma=0.001, kernel=rbf, score=0.791, total=   1.1s\n",
            "[CV] C=50, gamma=0.001, kernel=rbf ...................................\n",
            "[CV] ....... C=50, gamma=0.001, kernel=rbf, score=0.793, total=   0.8s\n",
            "[CV] C=50, gamma=0.001, kernel=rbf ...................................\n",
            "[CV] ....... C=50, gamma=0.001, kernel=rbf, score=0.796, total=   0.8s\n",
            "[CV] C=50, gamma=0.0001, kernel=rbf ..................................\n",
            "[CV] ...... C=50, gamma=0.0001, kernel=rbf, score=0.795, total=   1.5s\n",
            "[CV] C=50, gamma=0.0001, kernel=rbf ..................................\n",
            "[CV] ...... C=50, gamma=0.0001, kernel=rbf, score=0.795, total=   1.5s\n",
            "[CV] C=50, gamma=0.0001, kernel=rbf ..................................\n",
            "[CV] ...... C=50, gamma=0.0001, kernel=rbf, score=0.795, total=   2.1s\n",
            "[CV] C=50, gamma=0.0001, kernel=rbf ..................................\n",
            "[CV] ...... C=50, gamma=0.0001, kernel=rbf, score=0.795, total=   2.6s\n",
            "[CV] C=50, gamma=0.0001, kernel=rbf ..................................\n",
            "[CV] ...... C=50, gamma=0.0001, kernel=rbf, score=0.795, total=   1.8s\n",
            "[CV] C=50, gamma=0.005, kernel=rbf ...................................\n",
            "[CV] ....... C=50, gamma=0.005, kernel=rbf, score=0.769, total=   0.7s\n",
            "[CV] C=50, gamma=0.005, kernel=rbf ...................................\n",
            "[CV] ....... C=50, gamma=0.005, kernel=rbf, score=0.792, total=   0.7s\n",
            "[CV] C=50, gamma=0.005, kernel=rbf ...................................\n",
            "[CV] ....... C=50, gamma=0.005, kernel=rbf, score=0.818, total=   0.7s\n",
            "[CV] C=50, gamma=0.005, kernel=rbf ...................................\n",
            "[CV] ....... C=50, gamma=0.005, kernel=rbf, score=0.804, total=   0.7s\n",
            "[CV] C=50, gamma=0.005, kernel=rbf ...................................\n",
            "[CV] ....... C=50, gamma=0.005, kernel=rbf, score=0.798, total=   0.7s\n"
          ],
          "name": "stdout"
        },
        {
          "output_type": "stream",
          "text": [
            "[Parallel(n_jobs=1)]: Done 150 out of 150 | elapsed:  2.8min finished\n"
          ],
          "name": "stderr"
        },
        {
          "output_type": "execute_result",
          "data": {
            "text/plain": [
              "GridSearchCV(cv=None, error_score=nan,\n",
              "             estimator=SVC(C=1.0, break_ties=False, cache_size=200,\n",
              "                           class_weight=None, coef0=0.0,\n",
              "                           decision_function_shape='ovr', degree=3,\n",
              "                           gamma='scale', kernel='rbf', max_iter=-1,\n",
              "                           probability=False, random_state=None, shrinking=True,\n",
              "                           tol=0.001, verbose=False),\n",
              "             iid='deprecated', n_jobs=None,\n",
              "             param_grid={'C': [0.1, 10, 100, 1000, 50],\n",
              "                         'gamma': [1, 0.1, 0.01, 0.001, 0.0001, 0.005],\n",
              "                         'kernel': ['rbf']},\n",
              "             pre_dispatch='2*n_jobs', refit=True, return_train_score=False,\n",
              "             scoring=None, verbose=3)"
            ]
          },
          "metadata": {
            "tags": []
          },
          "execution_count": 11
        }
      ]
    },
    {
      "cell_type": "markdown",
      "metadata": {
        "id": "jEfbE-WDoB54"
      },
      "source": [
        "#### Model Evaluation"
      ]
    },
    {
      "cell_type": "code",
      "metadata": {
        "id": "6xyc6p6jn5Iu",
        "outputId": "2680ca17-0d78-4d29-c160-a45d8c381a97",
        "colab": {
          "base_uri": "https://localhost:8080/"
        }
      },
      "source": [
        "print(grid.best_params_)\n",
        "grid_predictions = grid.predict(X_Test)\n",
        "print(confusion_matrix(y_test, grid_predictions))\n",
        "print(classification_report(y_test, grid_predictions))"
      ],
      "execution_count": 13,
      "outputs": [
        {
          "output_type": "stream",
          "text": [
            "{'C': 10, 'gamma': 1, 'kernel': 'rbf'}\n",
            "[[  78  255]\n",
            " [   6 1311]]\n",
            "              precision    recall  f1-score   support\n",
            "\n",
            "           0       0.93      0.23      0.37       333\n",
            "           1       0.84      1.00      0.91      1317\n",
            "\n",
            "    accuracy                           0.84      1650\n",
            "   macro avg       0.88      0.61      0.64      1650\n",
            "weighted avg       0.86      0.84      0.80      1650\n",
            "\n"
          ],
          "name": "stdout"
        }
      ]
    },
    {
      "cell_type": "markdown",
      "metadata": {
        "id": "BfVCvkpzqmVN"
      },
      "source": [
        "**This is not prefect but it's not bad**"
      ]
    },
    {
      "cell_type": "markdown",
      "metadata": {
        "id": "A7q8MqMNoIWs"
      },
      "source": [
        "### Unbalance Cases"
      ]
    },
    {
      "cell_type": "markdown",
      "metadata": {
        "id": "PUyWNVW8oM0Q"
      },
      "source": [
        "#### Treat it as underbalanced"
      ]
    },
    {
      "cell_type": "code",
      "metadata": {
        "id": "R-TuFnmOoMT2"
      },
      "source": [
        "from imblearn.under_sampling import RandomUnderSampler"
      ],
      "execution_count": 14,
      "outputs": []
    },
    {
      "cell_type": "code",
      "metadata": {
        "id": "yxZGmLA5okn2",
        "outputId": "c6dd6e91-67b5-4d4a-8524-54d4b30318b8",
        "colab": {
          "base_uri": "https://localhost:8080/"
        }
      },
      "source": [
        "rus = RandomUnderSampler(random_state=12)\n",
        "X_resample, y_resample = rus.fit_sample(X_train, y_train)"
      ],
      "execution_count": 15,
      "outputs": [
        {
          "output_type": "stream",
          "text": [
            "/usr/local/lib/python3.6/dist-packages/sklearn/utils/deprecation.py:87: FutureWarning: Function safe_indexing is deprecated; safe_indexing is deprecated in version 0.22 and will be removed in version 0.24.\n",
            "  warnings.warn(msg, category=FutureWarning)\n"
          ],
          "name": "stderr"
        }
      ]
    },
    {
      "cell_type": "code",
      "metadata": {
        "id": "5vK_XOWxoqKB",
        "outputId": "ea3dfcfa-bf56-4e84-da9b-4ebf40fc5916",
        "colab": {
          "base_uri": "https://localhost:8080/"
        }
      },
      "source": [
        "param_grid = {'C':[0.1, 10, 100, 1000, 50], 'gamma':[1, 0.1, 0.01, 0.001, 0.0001, 0.005], 'kernel':['rbf']}\n",
        "grid_under = GridSearchCV(SVC(), param_grid, refit=True, verbose=3)\n",
        "grid_under.fit(X_resample, y_resample)"
      ],
      "execution_count": 17,
      "outputs": [
        {
          "output_type": "stream",
          "text": [
            "Fitting 5 folds for each of 30 candidates, totalling 150 fits\n",
            "[CV] C=0.1, gamma=1, kernel=rbf ......................................\n",
            "[CV] .......... C=0.1, gamma=1, kernel=rbf, score=0.582, total=   0.1s\n",
            "[CV] C=0.1, gamma=1, kernel=rbf ......................................\n",
            "[CV] .......... C=0.1, gamma=1, kernel=rbf, score=0.506, total=   0.1s\n",
            "[CV] C=0.1, gamma=1, kernel=rbf ......................................\n"
          ],
          "name": "stdout"
        },
        {
          "output_type": "stream",
          "text": [
            "[Parallel(n_jobs=1)]: Using backend SequentialBackend with 1 concurrent workers.\n",
            "[Parallel(n_jobs=1)]: Done   1 out of   1 | elapsed:    0.1s remaining:    0.0s\n",
            "[Parallel(n_jobs=1)]: Done   2 out of   2 | elapsed:    0.2s remaining:    0.0s\n"
          ],
          "name": "stderr"
        },
        {
          "output_type": "stream",
          "text": [
            "[CV] .......... C=0.1, gamma=1, kernel=rbf, score=0.585, total=   0.1s\n",
            "[CV] C=0.1, gamma=1, kernel=rbf ......................................\n",
            "[CV] .......... C=0.1, gamma=1, kernel=rbf, score=0.601, total=   0.1s\n",
            "[CV] C=0.1, gamma=1, kernel=rbf ......................................\n",
            "[CV] .......... C=0.1, gamma=1, kernel=rbf, score=0.513, total=   0.1s\n",
            "[CV] C=0.1, gamma=0.1, kernel=rbf ....................................\n",
            "[CV] ........ C=0.1, gamma=0.1, kernel=rbf, score=0.646, total=   0.1s\n",
            "[CV] C=0.1, gamma=0.1, kernel=rbf ....................................\n",
            "[CV] ........ C=0.1, gamma=0.1, kernel=rbf, score=0.566, total=   0.1s\n",
            "[CV] C=0.1, gamma=0.1, kernel=rbf ....................................\n",
            "[CV] ........ C=0.1, gamma=0.1, kernel=rbf, score=0.646, total=   0.1s\n",
            "[CV] C=0.1, gamma=0.1, kernel=rbf ....................................\n",
            "[CV] ........ C=0.1, gamma=0.1, kernel=rbf, score=0.538, total=   0.1s\n",
            "[CV] C=0.1, gamma=0.1, kernel=rbf ....................................\n",
            "[CV] ........ C=0.1, gamma=0.1, kernel=rbf, score=0.595, total=   0.1s\n",
            "[CV] C=0.1, gamma=0.01, kernel=rbf ...................................\n",
            "[CV] ....... C=0.1, gamma=0.01, kernel=rbf, score=0.611, total=   0.1s\n",
            "[CV] C=0.1, gamma=0.01, kernel=rbf ...................................\n",
            "[CV] ....... C=0.1, gamma=0.01, kernel=rbf, score=0.595, total=   0.1s\n",
            "[CV] C=0.1, gamma=0.01, kernel=rbf ...................................\n",
            "[CV] ....... C=0.1, gamma=0.01, kernel=rbf, score=0.620, total=   0.1s\n",
            "[CV] C=0.1, gamma=0.01, kernel=rbf ...................................\n",
            "[CV] ....... C=0.1, gamma=0.01, kernel=rbf, score=0.551, total=   0.1s\n",
            "[CV] C=0.1, gamma=0.01, kernel=rbf ...................................\n",
            "[CV] ....... C=0.1, gamma=0.01, kernel=rbf, score=0.589, total=   0.1s\n",
            "[CV] C=0.1, gamma=0.001, kernel=rbf ..................................\n",
            "[CV] ...... C=0.1, gamma=0.001, kernel=rbf, score=0.576, total=   0.1s\n",
            "[CV] C=0.1, gamma=0.001, kernel=rbf ..................................\n",
            "[CV] ...... C=0.1, gamma=0.001, kernel=rbf, score=0.585, total=   0.1s\n",
            "[CV] C=0.1, gamma=0.001, kernel=rbf ..................................\n",
            "[CV] ...... C=0.1, gamma=0.001, kernel=rbf, score=0.579, total=   0.1s\n",
            "[CV] C=0.1, gamma=0.001, kernel=rbf ..................................\n",
            "[CV] ...... C=0.1, gamma=0.001, kernel=rbf, score=0.589, total=   0.1s\n",
            "[CV] C=0.1, gamma=0.001, kernel=rbf ..................................\n",
            "[CV] ...... C=0.1, gamma=0.001, kernel=rbf, score=0.573, total=   0.1s\n",
            "[CV] C=0.1, gamma=0.0001, kernel=rbf .................................\n",
            "[CV] ..... C=0.1, gamma=0.0001, kernel=rbf, score=0.535, total=   0.1s\n",
            "[CV] C=0.1, gamma=0.0001, kernel=rbf .................................\n",
            "[CV] ..... C=0.1, gamma=0.0001, kernel=rbf, score=0.535, total=   0.1s\n",
            "[CV] C=0.1, gamma=0.0001, kernel=rbf .................................\n",
            "[CV] ..... C=0.1, gamma=0.0001, kernel=rbf, score=0.525, total=   0.1s\n",
            "[CV] C=0.1, gamma=0.0001, kernel=rbf .................................\n",
            "[CV] ..... C=0.1, gamma=0.0001, kernel=rbf, score=0.554, total=   0.1s\n",
            "[CV] C=0.1, gamma=0.0001, kernel=rbf .................................\n",
            "[CV] ..... C=0.1, gamma=0.0001, kernel=rbf, score=0.576, total=   0.1s\n",
            "[CV] C=0.1, gamma=0.005, kernel=rbf ..................................\n",
            "[CV] ...... C=0.1, gamma=0.005, kernel=rbf, score=0.595, total=   0.1s\n",
            "[CV] C=0.1, gamma=0.005, kernel=rbf ..................................\n",
            "[CV] ...... C=0.1, gamma=0.005, kernel=rbf, score=0.598, total=   0.1s\n",
            "[CV] C=0.1, gamma=0.005, kernel=rbf ..................................\n",
            "[CV] ...... C=0.1, gamma=0.005, kernel=rbf, score=0.604, total=   0.1s\n",
            "[CV] C=0.1, gamma=0.005, kernel=rbf ..................................\n",
            "[CV] ...... C=0.1, gamma=0.005, kernel=rbf, score=0.560, total=   0.1s\n",
            "[CV] C=0.1, gamma=0.005, kernel=rbf ..................................\n",
            "[CV] ...... C=0.1, gamma=0.005, kernel=rbf, score=0.566, total=   0.1s\n",
            "[CV] C=10, gamma=1, kernel=rbf .......................................\n",
            "[CV] ........... C=10, gamma=1, kernel=rbf, score=0.630, total=   0.1s\n",
            "[CV] C=10, gamma=1, kernel=rbf .......................................\n",
            "[CV] ........... C=10, gamma=1, kernel=rbf, score=0.573, total=   0.1s\n",
            "[CV] C=10, gamma=1, kernel=rbf .......................................\n",
            "[CV] ........... C=10, gamma=1, kernel=rbf, score=0.620, total=   0.1s\n",
            "[CV] C=10, gamma=1, kernel=rbf .......................................\n",
            "[CV] ........... C=10, gamma=1, kernel=rbf, score=0.595, total=   0.1s\n",
            "[CV] C=10, gamma=1, kernel=rbf .......................................\n",
            "[CV] ........... C=10, gamma=1, kernel=rbf, score=0.589, total=   0.1s\n",
            "[CV] C=10, gamma=0.1, kernel=rbf .....................................\n",
            "[CV] ......... C=10, gamma=0.1, kernel=rbf, score=0.658, total=   0.1s\n",
            "[CV] C=10, gamma=0.1, kernel=rbf .....................................\n",
            "[CV] ......... C=10, gamma=0.1, kernel=rbf, score=0.652, total=   0.1s\n",
            "[CV] C=10, gamma=0.1, kernel=rbf .....................................\n",
            "[CV] ......... C=10, gamma=0.1, kernel=rbf, score=0.630, total=   0.1s\n",
            "[CV] C=10, gamma=0.1, kernel=rbf .....................................\n",
            "[CV] ......... C=10, gamma=0.1, kernel=rbf, score=0.649, total=   0.1s\n",
            "[CV] C=10, gamma=0.1, kernel=rbf .....................................\n",
            "[CV] ......... C=10, gamma=0.1, kernel=rbf, score=0.620, total=   0.1s\n",
            "[CV] C=10, gamma=0.01, kernel=rbf ....................................\n",
            "[CV] ........ C=10, gamma=0.01, kernel=rbf, score=0.674, total=   0.1s\n",
            "[CV] C=10, gamma=0.01, kernel=rbf ....................................\n",
            "[CV] ........ C=10, gamma=0.01, kernel=rbf, score=0.655, total=   0.1s\n",
            "[CV] C=10, gamma=0.01, kernel=rbf ....................................\n",
            "[CV] ........ C=10, gamma=0.01, kernel=rbf, score=0.671, total=   0.1s\n",
            "[CV] C=10, gamma=0.01, kernel=rbf ....................................\n",
            "[CV] ........ C=10, gamma=0.01, kernel=rbf, score=0.649, total=   0.1s\n",
            "[CV] C=10, gamma=0.01, kernel=rbf ....................................\n",
            "[CV] ........ C=10, gamma=0.01, kernel=rbf, score=0.627, total=   0.1s\n",
            "[CV] C=10, gamma=0.001, kernel=rbf ...................................\n",
            "[CV] ....... C=10, gamma=0.001, kernel=rbf, score=0.674, total=   0.1s\n",
            "[CV] C=10, gamma=0.001, kernel=rbf ...................................\n",
            "[CV] ....... C=10, gamma=0.001, kernel=rbf, score=0.693, total=   0.1s\n",
            "[CV] C=10, gamma=0.001, kernel=rbf ...................................\n",
            "[CV] ....... C=10, gamma=0.001, kernel=rbf, score=0.709, total=   0.1s\n",
            "[CV] C=10, gamma=0.001, kernel=rbf ...................................\n",
            "[CV] ....... C=10, gamma=0.001, kernel=rbf, score=0.655, total=   0.1s\n",
            "[CV] C=10, gamma=0.001, kernel=rbf ...................................\n",
            "[CV] ....... C=10, gamma=0.001, kernel=rbf, score=0.630, total=   0.1s\n",
            "[CV] C=10, gamma=0.0001, kernel=rbf ..................................\n",
            "[CV] ...... C=10, gamma=0.0001, kernel=rbf, score=0.636, total=   0.1s\n",
            "[CV] C=10, gamma=0.0001, kernel=rbf ..................................\n",
            "[CV] ...... C=10, gamma=0.0001, kernel=rbf, score=0.699, total=   0.1s\n",
            "[CV] C=10, gamma=0.0001, kernel=rbf ..................................\n",
            "[CV] ...... C=10, gamma=0.0001, kernel=rbf, score=0.699, total=   0.1s\n",
            "[CV] C=10, gamma=0.0001, kernel=rbf ..................................\n",
            "[CV] ...... C=10, gamma=0.0001, kernel=rbf, score=0.646, total=   0.1s\n",
            "[CV] C=10, gamma=0.0001, kernel=rbf ..................................\n",
            "[CV] ...... C=10, gamma=0.0001, kernel=rbf, score=0.630, total=   0.1s\n",
            "[CV] C=10, gamma=0.005, kernel=rbf ...................................\n",
            "[CV] ....... C=10, gamma=0.005, kernel=rbf, score=0.646, total=   0.1s\n",
            "[CV] C=10, gamma=0.005, kernel=rbf ...................................\n",
            "[CV] ....... C=10, gamma=0.005, kernel=rbf, score=0.671, total=   0.1s\n",
            "[CV] C=10, gamma=0.005, kernel=rbf ...................................\n",
            "[CV] ....... C=10, gamma=0.005, kernel=rbf, score=0.665, total=   0.1s\n",
            "[CV] C=10, gamma=0.005, kernel=rbf ...................................\n",
            "[CV] ....... C=10, gamma=0.005, kernel=rbf, score=0.671, total=   0.1s\n",
            "[CV] C=10, gamma=0.005, kernel=rbf ...................................\n",
            "[CV] ....... C=10, gamma=0.005, kernel=rbf, score=0.611, total=   0.1s\n",
            "[CV] C=100, gamma=1, kernel=rbf ......................................\n",
            "[CV] .......... C=100, gamma=1, kernel=rbf, score=0.630, total=   0.1s\n",
            "[CV] C=100, gamma=1, kernel=rbf ......................................\n",
            "[CV] .......... C=100, gamma=1, kernel=rbf, score=0.573, total=   0.1s\n",
            "[CV] C=100, gamma=1, kernel=rbf ......................................\n",
            "[CV] .......... C=100, gamma=1, kernel=rbf, score=0.620, total=   0.1s\n",
            "[CV] C=100, gamma=1, kernel=rbf ......................................\n",
            "[CV] .......... C=100, gamma=1, kernel=rbf, score=0.595, total=   0.1s\n",
            "[CV] C=100, gamma=1, kernel=rbf ......................................\n",
            "[CV] .......... C=100, gamma=1, kernel=rbf, score=0.589, total=   0.1s\n",
            "[CV] C=100, gamma=0.1, kernel=rbf ....................................\n",
            "[CV] ........ C=100, gamma=0.1, kernel=rbf, score=0.661, total=   0.1s\n",
            "[CV] C=100, gamma=0.1, kernel=rbf ....................................\n",
            "[CV] ........ C=100, gamma=0.1, kernel=rbf, score=0.646, total=   0.1s\n",
            "[CV] C=100, gamma=0.1, kernel=rbf ....................................\n",
            "[CV] ........ C=100, gamma=0.1, kernel=rbf, score=0.630, total=   0.1s\n",
            "[CV] C=100, gamma=0.1, kernel=rbf ....................................\n",
            "[CV] ........ C=100, gamma=0.1, kernel=rbf, score=0.646, total=   0.1s\n",
            "[CV] C=100, gamma=0.1, kernel=rbf ....................................\n",
            "[CV] ........ C=100, gamma=0.1, kernel=rbf, score=0.608, total=   0.1s\n",
            "[CV] C=100, gamma=0.01, kernel=rbf ...................................\n",
            "[CV] ....... C=100, gamma=0.01, kernel=rbf, score=0.665, total=   0.2s\n",
            "[CV] C=100, gamma=0.01, kernel=rbf ...................................\n",
            "[CV] ....... C=100, gamma=0.01, kernel=rbf, score=0.649, total=   0.2s\n",
            "[CV] C=100, gamma=0.01, kernel=rbf ...................................\n",
            "[CV] ....... C=100, gamma=0.01, kernel=rbf, score=0.690, total=   0.2s\n",
            "[CV] C=100, gamma=0.01, kernel=rbf ...................................\n",
            "[CV] ....... C=100, gamma=0.01, kernel=rbf, score=0.623, total=   0.2s\n",
            "[CV] C=100, gamma=0.01, kernel=rbf ...................................\n",
            "[CV] ....... C=100, gamma=0.01, kernel=rbf, score=0.633, total=   0.2s\n",
            "[CV] C=100, gamma=0.001, kernel=rbf ..................................\n",
            "[CV] ...... C=100, gamma=0.001, kernel=rbf, score=0.665, total=   0.1s\n",
            "[CV] C=100, gamma=0.001, kernel=rbf ..................................\n",
            "[CV] ...... C=100, gamma=0.001, kernel=rbf, score=0.687, total=   0.2s\n",
            "[CV] C=100, gamma=0.001, kernel=rbf ..................................\n",
            "[CV] ...... C=100, gamma=0.001, kernel=rbf, score=0.699, total=   0.2s\n",
            "[CV] C=100, gamma=0.001, kernel=rbf ..................................\n",
            "[CV] ...... C=100, gamma=0.001, kernel=rbf, score=0.652, total=   0.1s\n",
            "[CV] C=100, gamma=0.001, kernel=rbf ..................................\n",
            "[CV] ...... C=100, gamma=0.001, kernel=rbf, score=0.620, total=   0.2s\n",
            "[CV] C=100, gamma=0.0001, kernel=rbf .................................\n",
            "[CV] ..... C=100, gamma=0.0001, kernel=rbf, score=0.658, total=   0.1s\n",
            "[CV] C=100, gamma=0.0001, kernel=rbf .................................\n",
            "[CV] ..... C=100, gamma=0.0001, kernel=rbf, score=0.722, total=   0.1s\n",
            "[CV] C=100, gamma=0.0001, kernel=rbf .................................\n",
            "[CV] ..... C=100, gamma=0.0001, kernel=rbf, score=0.703, total=   0.1s\n",
            "[CV] C=100, gamma=0.0001, kernel=rbf .................................\n",
            "[CV] ..... C=100, gamma=0.0001, kernel=rbf, score=0.655, total=   0.1s\n",
            "[CV] C=100, gamma=0.0001, kernel=rbf .................................\n",
            "[CV] ..... C=100, gamma=0.0001, kernel=rbf, score=0.642, total=   0.1s\n",
            "[CV] C=100, gamma=0.005, kernel=rbf ..................................\n",
            "[CV] ...... C=100, gamma=0.005, kernel=rbf, score=0.684, total=   0.2s\n",
            "[CV] C=100, gamma=0.005, kernel=rbf ..................................\n",
            "[CV] ...... C=100, gamma=0.005, kernel=rbf, score=0.658, total=   0.2s\n",
            "[CV] C=100, gamma=0.005, kernel=rbf ..................................\n",
            "[CV] ...... C=100, gamma=0.005, kernel=rbf, score=0.677, total=   0.2s\n",
            "[CV] C=100, gamma=0.005, kernel=rbf ..................................\n",
            "[CV] ...... C=100, gamma=0.005, kernel=rbf, score=0.646, total=   0.2s\n",
            "[CV] C=100, gamma=0.005, kernel=rbf ..................................\n",
            "[CV] ...... C=100, gamma=0.005, kernel=rbf, score=0.617, total=   0.2s\n",
            "[CV] C=1000, gamma=1, kernel=rbf .....................................\n",
            "[CV] ......... C=1000, gamma=1, kernel=rbf, score=0.630, total=   0.1s\n",
            "[CV] C=1000, gamma=1, kernel=rbf .....................................\n",
            "[CV] ......... C=1000, gamma=1, kernel=rbf, score=0.573, total=   0.1s\n",
            "[CV] C=1000, gamma=1, kernel=rbf .....................................\n",
            "[CV] ......... C=1000, gamma=1, kernel=rbf, score=0.620, total=   0.1s\n",
            "[CV] C=1000, gamma=1, kernel=rbf .....................................\n",
            "[CV] ......... C=1000, gamma=1, kernel=rbf, score=0.595, total=   0.1s\n",
            "[CV] C=1000, gamma=1, kernel=rbf .....................................\n",
            "[CV] ......... C=1000, gamma=1, kernel=rbf, score=0.589, total=   0.1s\n",
            "[CV] C=1000, gamma=0.1, kernel=rbf ...................................\n",
            "[CV] ....... C=1000, gamma=0.1, kernel=rbf, score=0.661, total=   0.1s\n",
            "[CV] C=1000, gamma=0.1, kernel=rbf ...................................\n",
            "[CV] ....... C=1000, gamma=0.1, kernel=rbf, score=0.646, total=   0.1s\n",
            "[CV] C=1000, gamma=0.1, kernel=rbf ...................................\n",
            "[CV] ....... C=1000, gamma=0.1, kernel=rbf, score=0.630, total=   0.1s\n",
            "[CV] C=1000, gamma=0.1, kernel=rbf ...................................\n",
            "[CV] ....... C=1000, gamma=0.1, kernel=rbf, score=0.646, total=   0.1s\n",
            "[CV] C=1000, gamma=0.1, kernel=rbf ...................................\n",
            "[CV] ....... C=1000, gamma=0.1, kernel=rbf, score=0.608, total=   0.1s\n",
            "[CV] C=1000, gamma=0.01, kernel=rbf ..................................\n",
            "[CV] ...... C=1000, gamma=0.01, kernel=rbf, score=0.655, total=   0.6s\n",
            "[CV] C=1000, gamma=0.01, kernel=rbf ..................................\n",
            "[CV] ...... C=1000, gamma=0.01, kernel=rbf, score=0.646, total=   0.5s\n",
            "[CV] C=1000, gamma=0.01, kernel=rbf ..................................\n",
            "[CV] ...... C=1000, gamma=0.01, kernel=rbf, score=0.665, total=   0.5s\n",
            "[CV] C=1000, gamma=0.01, kernel=rbf ..................................\n",
            "[CV] ...... C=1000, gamma=0.01, kernel=rbf, score=0.627, total=   0.5s\n",
            "[CV] C=1000, gamma=0.01, kernel=rbf ..................................\n",
            "[CV] ...... C=1000, gamma=0.01, kernel=rbf, score=0.623, total=   0.5s\n",
            "[CV] C=1000, gamma=0.001, kernel=rbf .................................\n",
            "[CV] ..... C=1000, gamma=0.001, kernel=rbf, score=0.655, total=   0.6s\n",
            "[CV] C=1000, gamma=0.001, kernel=rbf .................................\n",
            "[CV] ..... C=1000, gamma=0.001, kernel=rbf, score=0.684, total=   0.6s\n",
            "[CV] C=1000, gamma=0.001, kernel=rbf .................................\n",
            "[CV] ..... C=1000, gamma=0.001, kernel=rbf, score=0.677, total=   0.7s\n",
            "[CV] C=1000, gamma=0.001, kernel=rbf .................................\n",
            "[CV] ..... C=1000, gamma=0.001, kernel=rbf, score=0.646, total=   0.5s\n",
            "[CV] C=1000, gamma=0.001, kernel=rbf .................................\n",
            "[CV] ..... C=1000, gamma=0.001, kernel=rbf, score=0.627, total=   0.7s\n",
            "[CV] C=1000, gamma=0.0001, kernel=rbf ................................\n",
            "[CV] .... C=1000, gamma=0.0001, kernel=rbf, score=0.668, total=   0.2s\n",
            "[CV] C=1000, gamma=0.0001, kernel=rbf ................................\n",
            "[CV] .... C=1000, gamma=0.0001, kernel=rbf, score=0.703, total=   0.2s\n",
            "[CV] C=1000, gamma=0.0001, kernel=rbf ................................\n",
            "[CV] .... C=1000, gamma=0.0001, kernel=rbf, score=0.728, total=   0.2s\n",
            "[CV] C=1000, gamma=0.0001, kernel=rbf ................................\n",
            "[CV] .... C=1000, gamma=0.0001, kernel=rbf, score=0.649, total=   0.2s\n",
            "[CV] C=1000, gamma=0.0001, kernel=rbf ................................\n",
            "[CV] .... C=1000, gamma=0.0001, kernel=rbf, score=0.646, total=   0.2s\n",
            "[CV] C=1000, gamma=0.005, kernel=rbf .................................\n",
            "[CV] ..... C=1000, gamma=0.005, kernel=rbf, score=0.690, total=   0.8s\n",
            "[CV] C=1000, gamma=0.005, kernel=rbf .................................\n",
            "[CV] ..... C=1000, gamma=0.005, kernel=rbf, score=0.652, total=   0.9s\n",
            "[CV] C=1000, gamma=0.005, kernel=rbf .................................\n",
            "[CV] ..... C=1000, gamma=0.005, kernel=rbf, score=0.658, total=   0.9s\n",
            "[CV] C=1000, gamma=0.005, kernel=rbf .................................\n",
            "[CV] ..... C=1000, gamma=0.005, kernel=rbf, score=0.620, total=   1.0s\n",
            "[CV] C=1000, gamma=0.005, kernel=rbf .................................\n",
            "[CV] ..... C=1000, gamma=0.005, kernel=rbf, score=0.646, total=   0.7s\n",
            "[CV] C=50, gamma=1, kernel=rbf .......................................\n",
            "[CV] ........... C=50, gamma=1, kernel=rbf, score=0.630, total=   0.1s\n",
            "[CV] C=50, gamma=1, kernel=rbf .......................................\n",
            "[CV] ........... C=50, gamma=1, kernel=rbf, score=0.573, total=   0.1s\n",
            "[CV] C=50, gamma=1, kernel=rbf .......................................\n",
            "[CV] ........... C=50, gamma=1, kernel=rbf, score=0.620, total=   0.1s\n",
            "[CV] C=50, gamma=1, kernel=rbf .......................................\n",
            "[CV] ........... C=50, gamma=1, kernel=rbf, score=0.595, total=   0.1s\n",
            "[CV] C=50, gamma=1, kernel=rbf .......................................\n",
            "[CV] ........... C=50, gamma=1, kernel=rbf, score=0.589, total=   0.1s\n",
            "[CV] C=50, gamma=0.1, kernel=rbf .....................................\n",
            "[CV] ......... C=50, gamma=0.1, kernel=rbf, score=0.661, total=   0.1s\n",
            "[CV] C=50, gamma=0.1, kernel=rbf .....................................\n",
            "[CV] ......... C=50, gamma=0.1, kernel=rbf, score=0.646, total=   0.1s\n",
            "[CV] C=50, gamma=0.1, kernel=rbf .....................................\n",
            "[CV] ......... C=50, gamma=0.1, kernel=rbf, score=0.630, total=   0.1s\n",
            "[CV] C=50, gamma=0.1, kernel=rbf .....................................\n",
            "[CV] ......... C=50, gamma=0.1, kernel=rbf, score=0.646, total=   0.1s\n",
            "[CV] C=50, gamma=0.1, kernel=rbf .....................................\n",
            "[CV] ......... C=50, gamma=0.1, kernel=rbf, score=0.608, total=   0.1s\n",
            "[CV] C=50, gamma=0.01, kernel=rbf ....................................\n",
            "[CV] ........ C=50, gamma=0.01, kernel=rbf, score=0.684, total=   0.2s\n",
            "[CV] C=50, gamma=0.01, kernel=rbf ....................................\n",
            "[CV] ........ C=50, gamma=0.01, kernel=rbf, score=0.658, total=   0.2s\n",
            "[CV] C=50, gamma=0.01, kernel=rbf ....................................\n",
            "[CV] ........ C=50, gamma=0.01, kernel=rbf, score=0.687, total=   0.2s\n",
            "[CV] C=50, gamma=0.01, kernel=rbf ....................................\n",
            "[CV] ........ C=50, gamma=0.01, kernel=rbf, score=0.633, total=   0.2s\n",
            "[CV] C=50, gamma=0.01, kernel=rbf ....................................\n",
            "[CV] ........ C=50, gamma=0.01, kernel=rbf, score=0.630, total=   0.1s\n",
            "[CV] C=50, gamma=0.001, kernel=rbf ...................................\n",
            "[CV] ....... C=50, gamma=0.001, kernel=rbf, score=0.668, total=   0.1s\n",
            "[CV] C=50, gamma=0.001, kernel=rbf ...................................\n",
            "[CV] ....... C=50, gamma=0.001, kernel=rbf, score=0.687, total=   0.1s\n",
            "[CV] C=50, gamma=0.001, kernel=rbf ...................................\n",
            "[CV] ....... C=50, gamma=0.001, kernel=rbf, score=0.687, total=   0.1s\n",
            "[CV] C=50, gamma=0.001, kernel=rbf ...................................\n",
            "[CV] ....... C=50, gamma=0.001, kernel=rbf, score=0.661, total=   0.1s\n",
            "[CV] C=50, gamma=0.001, kernel=rbf ...................................\n",
            "[CV] ....... C=50, gamma=0.001, kernel=rbf, score=0.627, total=   0.1s\n",
            "[CV] C=50, gamma=0.0001, kernel=rbf ..................................\n",
            "[CV] ...... C=50, gamma=0.0001, kernel=rbf, score=0.649, total=   0.1s\n",
            "[CV] C=50, gamma=0.0001, kernel=rbf ..................................\n",
            "[CV] ...... C=50, gamma=0.0001, kernel=rbf, score=0.728, total=   0.1s\n",
            "[CV] C=50, gamma=0.0001, kernel=rbf ..................................\n",
            "[CV] ...... C=50, gamma=0.0001, kernel=rbf, score=0.693, total=   0.1s\n",
            "[CV] C=50, gamma=0.0001, kernel=rbf ..................................\n",
            "[CV] ...... C=50, gamma=0.0001, kernel=rbf, score=0.655, total=   0.1s\n",
            "[CV] C=50, gamma=0.0001, kernel=rbf ..................................\n",
            "[CV] ...... C=50, gamma=0.0001, kernel=rbf, score=0.642, total=   0.1s\n",
            "[CV] C=50, gamma=0.005, kernel=rbf ...................................\n",
            "[CV] ....... C=50, gamma=0.005, kernel=rbf, score=0.665, total=   0.1s\n",
            "[CV] C=50, gamma=0.005, kernel=rbf ...................................\n",
            "[CV] ....... C=50, gamma=0.005, kernel=rbf, score=0.671, total=   0.2s\n",
            "[CV] C=50, gamma=0.005, kernel=rbf ...................................\n",
            "[CV] ....... C=50, gamma=0.005, kernel=rbf, score=0.677, total=   0.2s\n",
            "[CV] C=50, gamma=0.005, kernel=rbf ...................................\n",
            "[CV] ....... C=50, gamma=0.005, kernel=rbf, score=0.623, total=   0.2s\n",
            "[CV] C=50, gamma=0.005, kernel=rbf ...................................\n",
            "[CV] ....... C=50, gamma=0.005, kernel=rbf, score=0.614, total=   0.1s\n"
          ],
          "name": "stdout"
        },
        {
          "output_type": "stream",
          "text": [
            "[Parallel(n_jobs=1)]: Done 150 out of 150 | elapsed:   26.5s finished\n"
          ],
          "name": "stderr"
        },
        {
          "output_type": "execute_result",
          "data": {
            "text/plain": [
              "GridSearchCV(cv=None, error_score=nan,\n",
              "             estimator=SVC(C=1.0, break_ties=False, cache_size=200,\n",
              "                           class_weight=None, coef0=0.0,\n",
              "                           decision_function_shape='ovr', degree=3,\n",
              "                           gamma='scale', kernel='rbf', max_iter=-1,\n",
              "                           probability=False, random_state=None, shrinking=True,\n",
              "                           tol=0.001, verbose=False),\n",
              "             iid='deprecated', n_jobs=None,\n",
              "             param_grid={'C': [0.1, 10, 100, 1000, 50],\n",
              "                         'gamma': [1, 0.1, 0.01, 0.001, 0.0001, 0.005],\n",
              "                         'kernel': ['rbf']},\n",
              "             pre_dispatch='2*n_jobs', refit=True, return_train_score=False,\n",
              "             scoring=None, verbose=3)"
            ]
          },
          "metadata": {
            "tags": []
          },
          "execution_count": 17
        }
      ]
    },
    {
      "cell_type": "code",
      "metadata": {
        "id": "6gAw4tZeoxGn",
        "outputId": "bc5be7c3-97d6-443d-f9e7-283bc5ce4bb2",
        "colab": {
          "base_uri": "https://localhost:8080/"
        }
      },
      "source": [
        "print(grid_under.best_params_)\n",
        "grid_under_predictions = grid_under.predict(X_Test)\n",
        "print(confusion_matrix(y_test, grid_under_predictions))\n",
        "print(classification_report(y_test, grid_under_predictions))"
      ],
      "execution_count": 18,
      "outputs": [
        {
          "output_type": "stream",
          "text": [
            "{'C': 1000, 'gamma': 0.0001, 'kernel': 'rbf'}\n",
            "[[218 115]\n",
            " [373 944]]\n",
            "              precision    recall  f1-score   support\n",
            "\n",
            "           0       0.37      0.65      0.47       333\n",
            "           1       0.89      0.72      0.79      1317\n",
            "\n",
            "    accuracy                           0.70      1650\n",
            "   macro avg       0.63      0.69      0.63      1650\n",
            "weighted avg       0.79      0.70      0.73      1650\n",
            "\n"
          ],
          "name": "stdout"
        }
      ]
    },
    {
      "cell_type": "markdown",
      "metadata": {
        "id": "rDN6iH0MquF2"
      },
      "source": [
        "**Worse than the first model where there was no balancing**"
      ]
    },
    {
      "cell_type": "markdown",
      "metadata": {
        "id": "c8rbbuBxo6wE"
      },
      "source": [
        "#### Overbalanced"
      ]
    },
    {
      "cell_type": "code",
      "metadata": {
        "id": "KH-mvziNo9Z3"
      },
      "source": [
        "from imblearn.over_sampling import SMOTE"
      ],
      "execution_count": 16,
      "outputs": []
    },
    {
      "cell_type": "code",
      "metadata": {
        "id": "jBlPL3fypBWP",
        "outputId": "16b8c786-38e3-4d7a-d605-c40762150dce",
        "colab": {
          "base_uri": "https://localhost:8080/"
        }
      },
      "source": [
        "sm = SMOTE(random_state=12, sampling_strategy='auto')\n",
        "X_over, y_over = sm.fit_sample(X_train, y_train)"
      ],
      "execution_count": 19,
      "outputs": [
        {
          "output_type": "stream",
          "text": [
            "/usr/local/lib/python3.6/dist-packages/sklearn/utils/deprecation.py:87: FutureWarning: Function safe_indexing is deprecated; safe_indexing is deprecated in version 0.22 and will be removed in version 0.24.\n",
            "  warnings.warn(msg, category=FutureWarning)\n"
          ],
          "name": "stderr"
        }
      ]
    },
    {
      "cell_type": "code",
      "metadata": {
        "id": "m8pR2HrBpMnJ",
        "outputId": "74864197-f18e-4bd0-f7f7-1072b317d8ca",
        "colab": {
          "base_uri": "https://localhost:8080/"
        }
      },
      "source": [
        "param_grid = {'C':[0.1, 10, 100, 1000, 50], 'gamma':[1, 0.1, 0.01, 0.001, 0.0001, 0.005], 'kernel':['rbf']}\n",
        "grid_over = GridSearchCV(SVC(), param_grid, refit=True, verbose=3)\n",
        "grid_over.fit(X_over, y_over)"
      ],
      "execution_count": 20,
      "outputs": [
        {
          "output_type": "stream",
          "text": [
            "Fitting 5 folds for each of 30 candidates, totalling 150 fits\n",
            "[CV] C=0.1, gamma=1, kernel=rbf ......................................\n"
          ],
          "name": "stdout"
        },
        {
          "output_type": "stream",
          "text": [
            "[Parallel(n_jobs=1)]: Using backend SequentialBackend with 1 concurrent workers.\n"
          ],
          "name": "stderr"
        },
        {
          "output_type": "stream",
          "text": [
            "[CV] .......... C=0.1, gamma=1, kernel=rbf, score=0.590, total=   1.5s\n",
            "[CV] C=0.1, gamma=1, kernel=rbf ......................................\n"
          ],
          "name": "stdout"
        },
        {
          "output_type": "stream",
          "text": [
            "[Parallel(n_jobs=1)]: Done   1 out of   1 | elapsed:    1.5s remaining:    0.0s\n"
          ],
          "name": "stderr"
        },
        {
          "output_type": "stream",
          "text": [
            "[CV] .......... C=0.1, gamma=1, kernel=rbf, score=0.539, total=   1.4s\n",
            "[CV] C=0.1, gamma=1, kernel=rbf ......................................\n"
          ],
          "name": "stdout"
        },
        {
          "output_type": "stream",
          "text": [
            "[Parallel(n_jobs=1)]: Done   2 out of   2 | elapsed:    2.9s remaining:    0.0s\n"
          ],
          "name": "stderr"
        },
        {
          "output_type": "stream",
          "text": [
            "[CV] .......... C=0.1, gamma=1, kernel=rbf, score=0.518, total=   1.4s\n",
            "[CV] C=0.1, gamma=1, kernel=rbf ......................................\n",
            "[CV] .......... C=0.1, gamma=1, kernel=rbf, score=0.521, total=   1.4s\n",
            "[CV] C=0.1, gamma=1, kernel=rbf ......................................\n",
            "[CV] .......... C=0.1, gamma=1, kernel=rbf, score=0.532, total=   1.4s\n",
            "[CV] C=0.1, gamma=0.1, kernel=rbf ....................................\n",
            "[CV] ........ C=0.1, gamma=0.1, kernel=rbf, score=0.694, total=   1.7s\n",
            "[CV] C=0.1, gamma=0.1, kernel=rbf ....................................\n",
            "[CV] ........ C=0.1, gamma=0.1, kernel=rbf, score=0.724, total=   1.7s\n",
            "[CV] C=0.1, gamma=0.1, kernel=rbf ....................................\n",
            "[CV] ........ C=0.1, gamma=0.1, kernel=rbf, score=0.718, total=   1.7s\n",
            "[CV] C=0.1, gamma=0.1, kernel=rbf ....................................\n",
            "[CV] ........ C=0.1, gamma=0.1, kernel=rbf, score=0.696, total=   1.7s\n",
            "[CV] C=0.1, gamma=0.1, kernel=rbf ....................................\n",
            "[CV] ........ C=0.1, gamma=0.1, kernel=rbf, score=0.724, total=   1.7s\n",
            "[CV] C=0.1, gamma=0.01, kernel=rbf ...................................\n",
            "[CV] ....... C=0.1, gamma=0.01, kernel=rbf, score=0.677, total=   1.4s\n",
            "[CV] C=0.1, gamma=0.01, kernel=rbf ...................................\n",
            "[CV] ....... C=0.1, gamma=0.01, kernel=rbf, score=0.661, total=   1.4s\n",
            "[CV] C=0.1, gamma=0.01, kernel=rbf ...................................\n",
            "[CV] ....... C=0.1, gamma=0.01, kernel=rbf, score=0.656, total=   1.4s\n",
            "[CV] C=0.1, gamma=0.01, kernel=rbf ...................................\n",
            "[CV] ....... C=0.1, gamma=0.01, kernel=rbf, score=0.652, total=   1.4s\n",
            "[CV] C=0.1, gamma=0.01, kernel=rbf ...................................\n",
            "[CV] ....... C=0.1, gamma=0.01, kernel=rbf, score=0.669, total=   1.4s\n",
            "[CV] C=0.1, gamma=0.001, kernel=rbf ..................................\n",
            "[CV] ...... C=0.1, gamma=0.001, kernel=rbf, score=0.616, total=   1.4s\n",
            "[CV] C=0.1, gamma=0.001, kernel=rbf ..................................\n",
            "[CV] ...... C=0.1, gamma=0.001, kernel=rbf, score=0.624, total=   1.4s\n",
            "[CV] C=0.1, gamma=0.001, kernel=rbf ..................................\n",
            "[CV] ...... C=0.1, gamma=0.001, kernel=rbf, score=0.599, total=   1.4s\n",
            "[CV] C=0.1, gamma=0.001, kernel=rbf ..................................\n",
            "[CV] ...... C=0.1, gamma=0.001, kernel=rbf, score=0.607, total=   1.4s\n",
            "[CV] C=0.1, gamma=0.001, kernel=rbf ..................................\n",
            "[CV] ...... C=0.1, gamma=0.001, kernel=rbf, score=0.619, total=   1.5s\n",
            "[CV] C=0.1, gamma=0.0001, kernel=rbf .................................\n",
            "[CV] ..... C=0.1, gamma=0.0001, kernel=rbf, score=0.572, total=   1.4s\n",
            "[CV] C=0.1, gamma=0.0001, kernel=rbf .................................\n",
            "[CV] ..... C=0.1, gamma=0.0001, kernel=rbf, score=0.556, total=   1.4s\n",
            "[CV] C=0.1, gamma=0.0001, kernel=rbf .................................\n",
            "[CV] ..... C=0.1, gamma=0.0001, kernel=rbf, score=0.576, total=   1.4s\n",
            "[CV] C=0.1, gamma=0.0001, kernel=rbf .................................\n",
            "[CV] ..... C=0.1, gamma=0.0001, kernel=rbf, score=0.557, total=   1.4s\n",
            "[CV] C=0.1, gamma=0.0001, kernel=rbf .................................\n",
            "[CV] ..... C=0.1, gamma=0.0001, kernel=rbf, score=0.570, total=   1.5s\n",
            "[CV] C=0.1, gamma=0.005, kernel=rbf ..................................\n",
            "[CV] ...... C=0.1, gamma=0.005, kernel=rbf, score=0.656, total=   1.4s\n",
            "[CV] C=0.1, gamma=0.005, kernel=rbf ..................................\n",
            "[CV] ...... C=0.1, gamma=0.005, kernel=rbf, score=0.629, total=   1.4s\n",
            "[CV] C=0.1, gamma=0.005, kernel=rbf ..................................\n",
            "[CV] ...... C=0.1, gamma=0.005, kernel=rbf, score=0.626, total=   1.4s\n",
            "[CV] C=0.1, gamma=0.005, kernel=rbf ..................................\n",
            "[CV] ...... C=0.1, gamma=0.005, kernel=rbf, score=0.635, total=   1.4s\n",
            "[CV] C=0.1, gamma=0.005, kernel=rbf ..................................\n",
            "[CV] ...... C=0.1, gamma=0.005, kernel=rbf, score=0.655, total=   1.4s\n",
            "[CV] C=10, gamma=1, kernel=rbf .......................................\n",
            "[CV] ........... C=10, gamma=1, kernel=rbf, score=0.899, total=   1.5s\n",
            "[CV] C=10, gamma=1, kernel=rbf .......................................\n",
            "[CV] ........... C=10, gamma=1, kernel=rbf, score=0.884, total=   1.5s\n",
            "[CV] C=10, gamma=1, kernel=rbf .......................................\n",
            "[CV] ........... C=10, gamma=1, kernel=rbf, score=0.899, total=   1.5s\n",
            "[CV] C=10, gamma=1, kernel=rbf .......................................\n",
            "[CV] ........... C=10, gamma=1, kernel=rbf, score=0.888, total=   1.4s\n",
            "[CV] C=10, gamma=1, kernel=rbf .......................................\n",
            "[CV] ........... C=10, gamma=1, kernel=rbf, score=0.878, total=   1.5s\n",
            "[CV] C=10, gamma=0.1, kernel=rbf .....................................\n",
            "[CV] ......... C=10, gamma=0.1, kernel=rbf, score=0.889, total=   1.8s\n",
            "[CV] C=10, gamma=0.1, kernel=rbf .....................................\n",
            "[CV] ......... C=10, gamma=0.1, kernel=rbf, score=0.884, total=   1.9s\n",
            "[CV] C=10, gamma=0.1, kernel=rbf .....................................\n",
            "[CV] ......... C=10, gamma=0.1, kernel=rbf, score=0.893, total=   2.0s\n",
            "[CV] C=10, gamma=0.1, kernel=rbf .....................................\n",
            "[CV] ......... C=10, gamma=0.1, kernel=rbf, score=0.894, total=   1.9s\n",
            "[CV] C=10, gamma=0.1, kernel=rbf .....................................\n",
            "[CV] ......... C=10, gamma=0.1, kernel=rbf, score=0.899, total=   2.0s\n",
            "[CV] C=10, gamma=0.01, kernel=rbf ....................................\n",
            "[CV] ........ C=10, gamma=0.01, kernel=rbf, score=0.792, total=   1.1s\n",
            "[CV] C=10, gamma=0.01, kernel=rbf ....................................\n",
            "[CV] ........ C=10, gamma=0.01, kernel=rbf, score=0.800, total=   1.1s\n",
            "[CV] C=10, gamma=0.01, kernel=rbf ....................................\n",
            "[CV] ........ C=10, gamma=0.01, kernel=rbf, score=0.823, total=   1.2s\n",
            "[CV] C=10, gamma=0.01, kernel=rbf ....................................\n",
            "[CV] ........ C=10, gamma=0.01, kernel=rbf, score=0.827, total=   1.2s\n",
            "[CV] C=10, gamma=0.01, kernel=rbf ....................................\n",
            "[CV] ........ C=10, gamma=0.01, kernel=rbf, score=0.839, total=   1.2s\n",
            "[CV] C=10, gamma=0.001, kernel=rbf ...................................\n",
            "[CV] ....... C=10, gamma=0.001, kernel=rbf, score=0.713, total=   1.3s\n",
            "[CV] C=10, gamma=0.001, kernel=rbf ...................................\n",
            "[CV] ....... C=10, gamma=0.001, kernel=rbf, score=0.700, total=   1.3s\n",
            "[CV] C=10, gamma=0.001, kernel=rbf ...................................\n",
            "[CV] ....... C=10, gamma=0.001, kernel=rbf, score=0.727, total=   1.3s\n",
            "[CV] C=10, gamma=0.001, kernel=rbf ...................................\n",
            "[CV] ....... C=10, gamma=0.001, kernel=rbf, score=0.713, total=   1.3s\n",
            "[CV] C=10, gamma=0.001, kernel=rbf ...................................\n",
            "[CV] ....... C=10, gamma=0.001, kernel=rbf, score=0.742, total=   1.3s\n",
            "[CV] C=10, gamma=0.0001, kernel=rbf ..................................\n",
            "[CV] ...... C=10, gamma=0.0001, kernel=rbf, score=0.696, total=   1.4s\n",
            "[CV] C=10, gamma=0.0001, kernel=rbf ..................................\n",
            "[CV] ...... C=10, gamma=0.0001, kernel=rbf, score=0.690, total=   1.3s\n",
            "[CV] C=10, gamma=0.0001, kernel=rbf ..................................\n",
            "[CV] ...... C=10, gamma=0.0001, kernel=rbf, score=0.703, total=   1.4s\n",
            "[CV] C=10, gamma=0.0001, kernel=rbf ..................................\n",
            "[CV] ...... C=10, gamma=0.0001, kernel=rbf, score=0.691, total=   1.3s\n",
            "[CV] C=10, gamma=0.0001, kernel=rbf ..................................\n",
            "[CV] ...... C=10, gamma=0.0001, kernel=rbf, score=0.709, total=   1.4s\n",
            "[CV] C=10, gamma=0.005, kernel=rbf ...................................\n",
            "[CV] ....... C=10, gamma=0.005, kernel=rbf, score=0.746, total=   1.2s\n",
            "[CV] C=10, gamma=0.005, kernel=rbf ...................................\n",
            "[CV] ....... C=10, gamma=0.005, kernel=rbf, score=0.763, total=   1.3s\n",
            "[CV] C=10, gamma=0.005, kernel=rbf ...................................\n",
            "[CV] ....... C=10, gamma=0.005, kernel=rbf, score=0.776, total=   1.3s\n",
            "[CV] C=10, gamma=0.005, kernel=rbf ...................................\n",
            "[CV] ....... C=10, gamma=0.005, kernel=rbf, score=0.788, total=   1.3s\n",
            "[CV] C=10, gamma=0.005, kernel=rbf ...................................\n",
            "[CV] ....... C=10, gamma=0.005, kernel=rbf, score=0.804, total=   1.3s\n",
            "[CV] C=100, gamma=1, kernel=rbf ......................................\n",
            "[CV] .......... C=100, gamma=1, kernel=rbf, score=0.899, total=   1.5s\n",
            "[CV] C=100, gamma=1, kernel=rbf ......................................\n",
            "[CV] .......... C=100, gamma=1, kernel=rbf, score=0.884, total=   1.4s\n",
            "[CV] C=100, gamma=1, kernel=rbf ......................................\n",
            "[CV] .......... C=100, gamma=1, kernel=rbf, score=0.899, total=   1.5s\n",
            "[CV] C=100, gamma=1, kernel=rbf ......................................\n",
            "[CV] .......... C=100, gamma=1, kernel=rbf, score=0.888, total=   1.4s\n",
            "[CV] C=100, gamma=1, kernel=rbf ......................................\n",
            "[CV] .......... C=100, gamma=1, kernel=rbf, score=0.878, total=   1.5s\n",
            "[CV] C=100, gamma=0.1, kernel=rbf ....................................\n",
            "[CV] ........ C=100, gamma=0.1, kernel=rbf, score=0.888, total=   2.0s\n",
            "[CV] C=100, gamma=0.1, kernel=rbf ....................................\n",
            "[CV] ........ C=100, gamma=0.1, kernel=rbf, score=0.881, total=   2.1s\n",
            "[CV] C=100, gamma=0.1, kernel=rbf ....................................\n",
            "[CV] ........ C=100, gamma=0.1, kernel=rbf, score=0.892, total=   2.0s\n",
            "[CV] C=100, gamma=0.1, kernel=rbf ....................................\n",
            "[CV] ........ C=100, gamma=0.1, kernel=rbf, score=0.895, total=   1.9s\n",
            "[CV] C=100, gamma=0.1, kernel=rbf ....................................\n",
            "[CV] ........ C=100, gamma=0.1, kernel=rbf, score=0.901, total=   2.0s\n",
            "[CV] C=100, gamma=0.01, kernel=rbf ...................................\n",
            "[CV] ....... C=100, gamma=0.01, kernel=rbf, score=0.834, total=   2.0s\n",
            "[CV] C=100, gamma=0.01, kernel=rbf ...................................\n",
            "[CV] ....... C=100, gamma=0.01, kernel=rbf, score=0.836, total=   2.1s\n",
            "[CV] C=100, gamma=0.01, kernel=rbf ...................................\n",
            "[CV] ....... C=100, gamma=0.01, kernel=rbf, score=0.872, total=   2.1s\n",
            "[CV] C=100, gamma=0.01, kernel=rbf ...................................\n",
            "[CV] ....... C=100, gamma=0.01, kernel=rbf, score=0.860, total=   2.2s\n",
            "[CV] C=100, gamma=0.01, kernel=rbf ...................................\n",
            "[CV] ....... C=100, gamma=0.01, kernel=rbf, score=0.873, total=   2.2s\n",
            "[CV] C=100, gamma=0.001, kernel=rbf ..................................\n",
            "[CV] ...... C=100, gamma=0.001, kernel=rbf, score=0.727, total=   1.9s\n",
            "[CV] C=100, gamma=0.001, kernel=rbf ..................................\n",
            "[CV] ...... C=100, gamma=0.001, kernel=rbf, score=0.731, total=   2.0s\n",
            "[CV] C=100, gamma=0.001, kernel=rbf ..................................\n",
            "[CV] ...... C=100, gamma=0.001, kernel=rbf, score=0.752, total=   2.0s\n",
            "[CV] C=100, gamma=0.001, kernel=rbf ..................................\n",
            "[CV] ...... C=100, gamma=0.001, kernel=rbf, score=0.748, total=   1.9s\n",
            "[CV] C=100, gamma=0.001, kernel=rbf ..................................\n",
            "[CV] ...... C=100, gamma=0.001, kernel=rbf, score=0.764, total=   2.1s\n",
            "[CV] C=100, gamma=0.0001, kernel=rbf .................................\n",
            "[CV] ..... C=100, gamma=0.0001, kernel=rbf, score=0.695, total=   1.5s\n",
            "[CV] C=100, gamma=0.0001, kernel=rbf .................................\n",
            "[CV] ..... C=100, gamma=0.0001, kernel=rbf, score=0.685, total=   1.5s\n",
            "[CV] C=100, gamma=0.0001, kernel=rbf .................................\n",
            "[CV] ..... C=100, gamma=0.0001, kernel=rbf, score=0.716, total=   1.5s\n",
            "[CV] C=100, gamma=0.0001, kernel=rbf .................................\n",
            "[CV] ..... C=100, gamma=0.0001, kernel=rbf, score=0.705, total=   1.5s\n",
            "[CV] C=100, gamma=0.0001, kernel=rbf .................................\n",
            "[CV] ..... C=100, gamma=0.0001, kernel=rbf, score=0.719, total=   1.6s\n",
            "[CV] C=100, gamma=0.005, kernel=rbf ..................................\n",
            "[CV] ...... C=100, gamma=0.005, kernel=rbf, score=0.791, total=   2.0s\n",
            "[CV] C=100, gamma=0.005, kernel=rbf ..................................\n",
            "[CV] ...... C=100, gamma=0.005, kernel=rbf, score=0.799, total=   2.2s\n",
            "[CV] C=100, gamma=0.005, kernel=rbf ..................................\n",
            "[CV] ...... C=100, gamma=0.005, kernel=rbf, score=0.827, total=   2.2s\n",
            "[CV] C=100, gamma=0.005, kernel=rbf ..................................\n",
            "[CV] ...... C=100, gamma=0.005, kernel=rbf, score=0.841, total=   2.2s\n",
            "[CV] C=100, gamma=0.005, kernel=rbf ..................................\n",
            "[CV] ...... C=100, gamma=0.005, kernel=rbf, score=0.843, total=   2.2s\n",
            "[CV] C=1000, gamma=1, kernel=rbf .....................................\n",
            "[CV] ......... C=1000, gamma=1, kernel=rbf, score=0.899, total=   1.5s\n",
            "[CV] C=1000, gamma=1, kernel=rbf .....................................\n",
            "[CV] ......... C=1000, gamma=1, kernel=rbf, score=0.884, total=   1.4s\n",
            "[CV] C=1000, gamma=1, kernel=rbf .....................................\n",
            "[CV] ......... C=1000, gamma=1, kernel=rbf, score=0.899, total=   1.5s\n",
            "[CV] C=1000, gamma=1, kernel=rbf .....................................\n",
            "[CV] ......... C=1000, gamma=1, kernel=rbf, score=0.888, total=   1.5s\n",
            "[CV] C=1000, gamma=1, kernel=rbf .....................................\n",
            "[CV] ......... C=1000, gamma=1, kernel=rbf, score=0.878, total=   1.5s\n",
            "[CV] C=1000, gamma=0.1, kernel=rbf ...................................\n",
            "[CV] ....... C=1000, gamma=0.1, kernel=rbf, score=0.887, total=   2.0s\n",
            "[CV] C=1000, gamma=0.1, kernel=rbf ...................................\n",
            "[CV] ....... C=1000, gamma=0.1, kernel=rbf, score=0.882, total=   2.0s\n",
            "[CV] C=1000, gamma=0.1, kernel=rbf ...................................\n",
            "[CV] ....... C=1000, gamma=0.1, kernel=rbf, score=0.894, total=   2.1s\n",
            "[CV] C=1000, gamma=0.1, kernel=rbf ...................................\n",
            "[CV] ....... C=1000, gamma=0.1, kernel=rbf, score=0.895, total=   2.0s\n",
            "[CV] C=1000, gamma=0.1, kernel=rbf ...................................\n",
            "[CV] ....... C=1000, gamma=0.1, kernel=rbf, score=0.900, total=   2.0s\n",
            "[CV] C=1000, gamma=0.01, kernel=rbf ..................................\n",
            "[CV] ...... C=1000, gamma=0.01, kernel=rbf, score=0.851, total=   5.9s\n",
            "[CV] C=1000, gamma=0.01, kernel=rbf ..................................\n",
            "[CV] ...... C=1000, gamma=0.01, kernel=rbf, score=0.856, total=   6.3s\n",
            "[CV] C=1000, gamma=0.01, kernel=rbf ..................................\n",
            "[CV] ...... C=1000, gamma=0.01, kernel=rbf, score=0.888, total=   6.5s\n",
            "[CV] C=1000, gamma=0.01, kernel=rbf ..................................\n",
            "[CV] ...... C=1000, gamma=0.01, kernel=rbf, score=0.887, total=   5.9s\n",
            "[CV] C=1000, gamma=0.01, kernel=rbf ..................................\n",
            "[CV] ...... C=1000, gamma=0.01, kernel=rbf, score=0.878, total=   7.2s\n",
            "[CV] C=1000, gamma=0.001, kernel=rbf .................................\n",
            "[CV] ..... C=1000, gamma=0.001, kernel=rbf, score=0.740, total=   6.5s\n",
            "[CV] C=1000, gamma=0.001, kernel=rbf .................................\n",
            "[CV] ..... C=1000, gamma=0.001, kernel=rbf, score=0.756, total=   6.5s\n",
            "[CV] C=1000, gamma=0.001, kernel=rbf .................................\n",
            "[CV] ..... C=1000, gamma=0.001, kernel=rbf, score=0.774, total=   6.6s\n",
            "[CV] C=1000, gamma=0.001, kernel=rbf .................................\n",
            "[CV] ..... C=1000, gamma=0.001, kernel=rbf, score=0.778, total=   6.5s\n",
            "[CV] C=1000, gamma=0.001, kernel=rbf .................................\n",
            "[CV] ..... C=1000, gamma=0.001, kernel=rbf, score=0.791, total=   6.4s\n",
            "[CV] C=1000, gamma=0.0001, kernel=rbf ................................\n",
            "[CV] .... C=1000, gamma=0.0001, kernel=rbf, score=0.712, total=   2.4s\n",
            "[CV] C=1000, gamma=0.0001, kernel=rbf ................................\n",
            "[CV] .... C=1000, gamma=0.0001, kernel=rbf, score=0.702, total=   2.7s\n",
            "[CV] C=1000, gamma=0.0001, kernel=rbf ................................\n",
            "[CV] .... C=1000, gamma=0.0001, kernel=rbf, score=0.725, total=   2.6s\n",
            "[CV] C=1000, gamma=0.0001, kernel=rbf ................................\n",
            "[CV] .... C=1000, gamma=0.0001, kernel=rbf, score=0.712, total=   2.4s\n",
            "[CV] C=1000, gamma=0.0001, kernel=rbf ................................\n",
            "[CV] .... C=1000, gamma=0.0001, kernel=rbf, score=0.737, total=   2.5s\n",
            "[CV] C=1000, gamma=0.005, kernel=rbf .................................\n",
            "[CV] ..... C=1000, gamma=0.005, kernel=rbf, score=0.814, total=   7.1s\n",
            "[CV] C=1000, gamma=0.005, kernel=rbf .................................\n",
            "[CV] ..... C=1000, gamma=0.005, kernel=rbf, score=0.835, total=   7.9s\n",
            "[CV] C=1000, gamma=0.005, kernel=rbf .................................\n",
            "[CV] ..... C=1000, gamma=0.005, kernel=rbf, score=0.877, total=   8.3s\n",
            "[CV] C=1000, gamma=0.005, kernel=rbf .................................\n",
            "[CV] ..... C=1000, gamma=0.005, kernel=rbf, score=0.867, total=   9.5s\n",
            "[CV] C=1000, gamma=0.005, kernel=rbf .................................\n",
            "[CV] ..... C=1000, gamma=0.005, kernel=rbf, score=0.863, total=   9.1s\n",
            "[CV] C=50, gamma=1, kernel=rbf .......................................\n",
            "[CV] ........... C=50, gamma=1, kernel=rbf, score=0.899, total=   1.5s\n",
            "[CV] C=50, gamma=1, kernel=rbf .......................................\n",
            "[CV] ........... C=50, gamma=1, kernel=rbf, score=0.884, total=   1.5s\n",
            "[CV] C=50, gamma=1, kernel=rbf .......................................\n",
            "[CV] ........... C=50, gamma=1, kernel=rbf, score=0.899, total=   1.5s\n",
            "[CV] C=50, gamma=1, kernel=rbf .......................................\n",
            "[CV] ........... C=50, gamma=1, kernel=rbf, score=0.888, total=   1.4s\n",
            "[CV] C=50, gamma=1, kernel=rbf .......................................\n",
            "[CV] ........... C=50, gamma=1, kernel=rbf, score=0.878, total=   1.5s\n",
            "[CV] C=50, gamma=0.1, kernel=rbf .....................................\n",
            "[CV] ......... C=50, gamma=0.1, kernel=rbf, score=0.889, total=   1.9s\n",
            "[CV] C=50, gamma=0.1, kernel=rbf .....................................\n",
            "[CV] ......... C=50, gamma=0.1, kernel=rbf, score=0.882, total=   1.9s\n",
            "[CV] C=50, gamma=0.1, kernel=rbf .....................................\n",
            "[CV] ......... C=50, gamma=0.1, kernel=rbf, score=0.893, total=   2.0s\n",
            "[CV] C=50, gamma=0.1, kernel=rbf .....................................\n",
            "[CV] ......... C=50, gamma=0.1, kernel=rbf, score=0.895, total=   2.0s\n",
            "[CV] C=50, gamma=0.1, kernel=rbf .....................................\n",
            "[CV] ......... C=50, gamma=0.1, kernel=rbf, score=0.899, total=   2.0s\n",
            "[CV] C=50, gamma=0.01, kernel=rbf ....................................\n",
            "[CV] ........ C=50, gamma=0.01, kernel=rbf, score=0.818, total=   1.6s\n",
            "[CV] C=50, gamma=0.01, kernel=rbf ....................................\n",
            "[CV] ........ C=50, gamma=0.01, kernel=rbf, score=0.823, total=   1.6s\n",
            "[CV] C=50, gamma=0.01, kernel=rbf ....................................\n",
            "[CV] ........ C=50, gamma=0.01, kernel=rbf, score=0.862, total=   1.7s\n",
            "[CV] C=50, gamma=0.01, kernel=rbf ....................................\n",
            "[CV] ........ C=50, gamma=0.01, kernel=rbf, score=0.852, total=   1.7s\n",
            "[CV] C=50, gamma=0.01, kernel=rbf ....................................\n",
            "[CV] ........ C=50, gamma=0.01, kernel=rbf, score=0.868, total=   1.7s\n",
            "[CV] C=50, gamma=0.001, kernel=rbf ...................................\n",
            "[CV] ....... C=50, gamma=0.001, kernel=rbf, score=0.726, total=   1.6s\n",
            "[CV] C=50, gamma=0.001, kernel=rbf ...................................\n",
            "[CV] ....... C=50, gamma=0.001, kernel=rbf, score=0.718, total=   1.7s\n",
            "[CV] C=50, gamma=0.001, kernel=rbf ...................................\n",
            "[CV] ....... C=50, gamma=0.001, kernel=rbf, score=0.751, total=   1.7s\n",
            "[CV] C=50, gamma=0.001, kernel=rbf ...................................\n",
            "[CV] ....... C=50, gamma=0.001, kernel=rbf, score=0.738, total=   1.7s\n",
            "[CV] C=50, gamma=0.001, kernel=rbf ...................................\n",
            "[CV] ....... C=50, gamma=0.001, kernel=rbf, score=0.757, total=   1.7s\n",
            "[CV] C=50, gamma=0.0001, kernel=rbf ..................................\n",
            "[CV] ...... C=50, gamma=0.0001, kernel=rbf, score=0.693, total=   1.4s\n",
            "[CV] C=50, gamma=0.0001, kernel=rbf ..................................\n",
            "[CV] ...... C=50, gamma=0.0001, kernel=rbf, score=0.684, total=   1.4s\n",
            "[CV] C=50, gamma=0.0001, kernel=rbf ..................................\n",
            "[CV] ...... C=50, gamma=0.0001, kernel=rbf, score=0.712, total=   1.5s\n",
            "[CV] C=50, gamma=0.0001, kernel=rbf ..................................\n",
            "[CV] ...... C=50, gamma=0.0001, kernel=rbf, score=0.703, total=   1.4s\n",
            "[CV] C=50, gamma=0.0001, kernel=rbf ..................................\n",
            "[CV] ...... C=50, gamma=0.0001, kernel=rbf, score=0.718, total=   1.4s\n",
            "[CV] C=50, gamma=0.005, kernel=rbf ...................................\n",
            "[CV] ....... C=50, gamma=0.005, kernel=rbf, score=0.779, total=   1.6s\n",
            "[CV] C=50, gamma=0.005, kernel=rbf ...................................\n",
            "[CV] ....... C=50, gamma=0.005, kernel=rbf, score=0.788, total=   1.7s\n",
            "[CV] C=50, gamma=0.005, kernel=rbf ...................................\n",
            "[CV] ....... C=50, gamma=0.005, kernel=rbf, score=0.818, total=   1.7s\n",
            "[CV] C=50, gamma=0.005, kernel=rbf ...................................\n",
            "[CV] ....... C=50, gamma=0.005, kernel=rbf, score=0.826, total=   1.8s\n",
            "[CV] C=50, gamma=0.005, kernel=rbf ...................................\n",
            "[CV] ....... C=50, gamma=0.005, kernel=rbf, score=0.829, total=   1.8s\n"
          ],
          "name": "stdout"
        },
        {
          "output_type": "stream",
          "text": [
            "[Parallel(n_jobs=1)]: Done 150 out of 150 | elapsed:  5.5min finished\n"
          ],
          "name": "stderr"
        },
        {
          "output_type": "execute_result",
          "data": {
            "text/plain": [
              "GridSearchCV(cv=None, error_score=nan,\n",
              "             estimator=SVC(C=1.0, break_ties=False, cache_size=200,\n",
              "                           class_weight=None, coef0=0.0,\n",
              "                           decision_function_shape='ovr', degree=3,\n",
              "                           gamma='scale', kernel='rbf', max_iter=-1,\n",
              "                           probability=False, random_state=None, shrinking=True,\n",
              "                           tol=0.001, verbose=False),\n",
              "             iid='deprecated', n_jobs=None,\n",
              "             param_grid={'C': [0.1, 10, 100, 1000, 50],\n",
              "                         'gamma': [1, 0.1, 0.01, 0.001, 0.0001, 0.005],\n",
              "                         'kernel': ['rbf']},\n",
              "             pre_dispatch='2*n_jobs', refit=True, return_train_score=False,\n",
              "             scoring=None, verbose=3)"
            ]
          },
          "metadata": {
            "tags": []
          },
          "execution_count": 20
        }
      ]
    },
    {
      "cell_type": "code",
      "metadata": {
        "id": "-gplvvCepUaK",
        "outputId": "0fad302a-ffe8-4482-88a8-bf6f0db5241c",
        "colab": {
          "base_uri": "https://localhost:8080/"
        }
      },
      "source": [
        "print(grid_over.best_params_)\n",
        "grid_over_predictions = grid_over.predict(X_Test)\n",
        "print(confusion_matrix(y_test, grid_over_predictions))\n",
        "print(classification_report(y_test, grid_over_predictions))"
      ],
      "execution_count": 21,
      "outputs": [
        {
          "output_type": "stream",
          "text": [
            "{'C': 10, 'gamma': 0.1, 'kernel': 'rbf'}\n",
            "[[ 148  185]\n",
            " [ 209 1108]]\n",
            "              precision    recall  f1-score   support\n",
            "\n",
            "           0       0.41      0.44      0.43       333\n",
            "           1       0.86      0.84      0.85      1317\n",
            "\n",
            "    accuracy                           0.76      1650\n",
            "   macro avg       0.64      0.64      0.64      1650\n",
            "weighted avg       0.77      0.76      0.76      1650\n",
            "\n"
          ],
          "name": "stdout"
        }
      ]
    },
    {
      "cell_type": "markdown",
      "metadata": {
        "id": "ppy1BJ1dq3bf"
      },
      "source": [
        "**Worse than the first model where there was no balancing**"
      ]
    },
    {
      "cell_type": "code",
      "metadata": {
        "id": "7PWa8zqaq6OD"
      },
      "source": [
        ""
      ],
      "execution_count": null,
      "outputs": []
    },
    {
      "cell_type": "markdown",
      "metadata": {
        "id": "gQnmuMz5rAlL"
      },
      "source": [
        "### Predict new observation data"
      ]
    },
    {
      "cell_type": "markdown",
      "metadata": {
        "id": "G5-9XqIvrFEY"
      },
      "source": [
        "#### Get the observation data"
      ]
    },
    {
      "cell_type": "code",
      "metadata": {
        "id": "2BiRD-9lrDrs"
      },
      "source": [
        "df_obs = pd.read_csv('https://github.com/wintonw/ISE364/raw/master/Midterm/new_obs.csv')"
      ],
      "execution_count": 49,
      "outputs": []
    },
    {
      "cell_type": "markdown",
      "metadata": {
        "id": "fRXuEVgzrRqH"
      },
      "source": [
        "#### Check for abnormalities "
      ]
    },
    {
      "cell_type": "code",
      "metadata": {
        "id": "zXYOn3-_rRF6",
        "outputId": "6e5b7c1d-f1d6-478f-ae1d-f7909040b825",
        "colab": {
          "base_uri": "https://localhost:8080/",
          "height": 204
        }
      },
      "source": [
        "df_obs.head()"
      ],
      "execution_count": 23,
      "outputs": [
        {
          "output_type": "execute_result",
          "data": {
            "text/html": [
              "<div>\n",
              "<style scoped>\n",
              "    .dataframe tbody tr th:only-of-type {\n",
              "        vertical-align: middle;\n",
              "    }\n",
              "\n",
              "    .dataframe tbody tr th {\n",
              "        vertical-align: top;\n",
              "    }\n",
              "\n",
              "    .dataframe thead th {\n",
              "        text-align: right;\n",
              "    }\n",
              "</style>\n",
              "<table border=\"1\" class=\"dataframe\">\n",
              "  <thead>\n",
              "    <tr style=\"text-align: right;\">\n",
              "      <th></th>\n",
              "      <th>V0</th>\n",
              "      <th>V1</th>\n",
              "      <th>V2</th>\n",
              "      <th>V3</th>\n",
              "      <th>V4</th>\n",
              "      <th>V5</th>\n",
              "      <th>V6</th>\n",
              "      <th>V7</th>\n",
              "      <th>V8</th>\n",
              "      <th>V9</th>\n",
              "      <th>V10</th>\n",
              "      <th>V11</th>\n",
              "    </tr>\n",
              "  </thead>\n",
              "  <tbody>\n",
              "    <tr>\n",
              "      <th>0</th>\n",
              "      <td>A</td>\n",
              "      <td>5.7</td>\n",
              "      <td>0.21</td>\n",
              "      <td>0.25</td>\n",
              "      <td>1.1</td>\n",
              "      <td>0.035</td>\n",
              "      <td>26.0</td>\n",
              "      <td>81.0</td>\n",
              "      <td>0.99020</td>\n",
              "      <td>3.31</td>\n",
              "      <td>0.52</td>\n",
              "      <td>11.4</td>\n",
              "    </tr>\n",
              "    <tr>\n",
              "      <th>1</th>\n",
              "      <td>B</td>\n",
              "      <td>8.7</td>\n",
              "      <td>0.78</td>\n",
              "      <td>0.51</td>\n",
              "      <td>1.7</td>\n",
              "      <td>0.415</td>\n",
              "      <td>12.0</td>\n",
              "      <td>66.0</td>\n",
              "      <td>0.99623</td>\n",
              "      <td>3.00</td>\n",
              "      <td>1.17</td>\n",
              "      <td>9.2</td>\n",
              "    </tr>\n",
              "    <tr>\n",
              "      <th>2</th>\n",
              "      <td>A</td>\n",
              "      <td>7.3</td>\n",
              "      <td>0.26</td>\n",
              "      <td>0.53</td>\n",
              "      <td>12.7</td>\n",
              "      <td>0.047</td>\n",
              "      <td>60.5</td>\n",
              "      <td>156.0</td>\n",
              "      <td>0.99840</td>\n",
              "      <td>3.06</td>\n",
              "      <td>0.45</td>\n",
              "      <td>9.1</td>\n",
              "    </tr>\n",
              "    <tr>\n",
              "      <th>3</th>\n",
              "      <td>A</td>\n",
              "      <td>6.9</td>\n",
              "      <td>0.40</td>\n",
              "      <td>0.37</td>\n",
              "      <td>8.9</td>\n",
              "      <td>0.053</td>\n",
              "      <td>36.0</td>\n",
              "      <td>148.0</td>\n",
              "      <td>0.99600</td>\n",
              "      <td>3.16</td>\n",
              "      <td>0.50</td>\n",
              "      <td>9.3</td>\n",
              "    </tr>\n",
              "    <tr>\n",
              "      <th>4</th>\n",
              "      <td>A</td>\n",
              "      <td>7.0</td>\n",
              "      <td>0.22</td>\n",
              "      <td>0.26</td>\n",
              "      <td>2.8</td>\n",
              "      <td>0.036</td>\n",
              "      <td>44.0</td>\n",
              "      <td>132.0</td>\n",
              "      <td>0.99078</td>\n",
              "      <td>3.34</td>\n",
              "      <td>0.41</td>\n",
              "      <td>12.0</td>\n",
              "    </tr>\n",
              "  </tbody>\n",
              "</table>\n",
              "</div>"
            ],
            "text/plain": [
              "  V0   V1    V2    V3    V4     V5    V6     V7       V8    V9   V10   V11\n",
              "0  A  5.7  0.21  0.25   1.1  0.035  26.0   81.0  0.99020  3.31  0.52  11.4\n",
              "1  B  8.7  0.78  0.51   1.7  0.415  12.0   66.0  0.99623  3.00  1.17   9.2\n",
              "2  A  7.3  0.26  0.53  12.7  0.047  60.5  156.0  0.99840  3.06  0.45   9.1\n",
              "3  A  6.9  0.40  0.37   8.9  0.053  36.0  148.0  0.99600  3.16  0.50   9.3\n",
              "4  A  7.0  0.22  0.26   2.8  0.036  44.0  132.0  0.99078  3.34  0.41  12.0"
            ]
          },
          "metadata": {
            "tags": []
          },
          "execution_count": 23
        }
      ]
    },
    {
      "cell_type": "code",
      "metadata": {
        "id": "TtnHxxYJrVG8",
        "outputId": "b927a0e0-3b17-4ffa-cce8-4846b9d2b9ab",
        "colab": {
          "base_uri": "https://localhost:8080/",
          "height": 297
        }
      },
      "source": [
        "df_obs.describe()"
      ],
      "execution_count": 24,
      "outputs": [
        {
          "output_type": "execute_result",
          "data": {
            "text/html": [
              "<div>\n",
              "<style scoped>\n",
              "    .dataframe tbody tr th:only-of-type {\n",
              "        vertical-align: middle;\n",
              "    }\n",
              "\n",
              "    .dataframe tbody tr th {\n",
              "        vertical-align: top;\n",
              "    }\n",
              "\n",
              "    .dataframe thead th {\n",
              "        text-align: right;\n",
              "    }\n",
              "</style>\n",
              "<table border=\"1\" class=\"dataframe\">\n",
              "  <thead>\n",
              "    <tr style=\"text-align: right;\">\n",
              "      <th></th>\n",
              "      <th>V1</th>\n",
              "      <th>V2</th>\n",
              "      <th>V3</th>\n",
              "      <th>V4</th>\n",
              "      <th>V5</th>\n",
              "      <th>V6</th>\n",
              "      <th>V7</th>\n",
              "      <th>V8</th>\n",
              "      <th>V9</th>\n",
              "      <th>V10</th>\n",
              "      <th>V11</th>\n",
              "    </tr>\n",
              "  </thead>\n",
              "  <tbody>\n",
              "    <tr>\n",
              "      <th>count</th>\n",
              "      <td>1000.000000</td>\n",
              "      <td>1000.000000</td>\n",
              "      <td>1000.000000</td>\n",
              "      <td>1000.000000</td>\n",
              "      <td>1000.000000</td>\n",
              "      <td>1000.000000</td>\n",
              "      <td>1000.000000</td>\n",
              "      <td>1000.000000</td>\n",
              "      <td>1000.000000</td>\n",
              "      <td>1000.000000</td>\n",
              "      <td>1000.000000</td>\n",
              "    </tr>\n",
              "    <tr>\n",
              "      <th>mean</th>\n",
              "      <td>7.190100</td>\n",
              "      <td>0.331410</td>\n",
              "      <td>0.316770</td>\n",
              "      <td>5.356800</td>\n",
              "      <td>0.054337</td>\n",
              "      <td>30.248500</td>\n",
              "      <td>114.252500</td>\n",
              "      <td>0.994431</td>\n",
              "      <td>3.219200</td>\n",
              "      <td>0.526280</td>\n",
              "      <td>10.607023</td>\n",
              "    </tr>\n",
              "    <tr>\n",
              "      <th>std</th>\n",
              "      <td>1.318262</td>\n",
              "      <td>0.162915</td>\n",
              "      <td>0.138092</td>\n",
              "      <td>4.591515</td>\n",
              "      <td>0.035120</td>\n",
              "      <td>17.175724</td>\n",
              "      <td>54.262113</td>\n",
              "      <td>0.003007</td>\n",
              "      <td>0.163504</td>\n",
              "      <td>0.147138</td>\n",
              "      <td>1.224684</td>\n",
              "    </tr>\n",
              "    <tr>\n",
              "      <th>min</th>\n",
              "      <td>3.900000</td>\n",
              "      <td>0.080000</td>\n",
              "      <td>0.000000</td>\n",
              "      <td>0.800000</td>\n",
              "      <td>0.013000</td>\n",
              "      <td>3.000000</td>\n",
              "      <td>7.000000</td>\n",
              "      <td>0.987130</td>\n",
              "      <td>2.840000</td>\n",
              "      <td>0.230000</td>\n",
              "      <td>8.400000</td>\n",
              "    </tr>\n",
              "    <tr>\n",
              "      <th>25%</th>\n",
              "      <td>6.400000</td>\n",
              "      <td>0.220000</td>\n",
              "      <td>0.250000</td>\n",
              "      <td>1.800000</td>\n",
              "      <td>0.036000</td>\n",
              "      <td>17.000000</td>\n",
              "      <td>79.000000</td>\n",
              "      <td>0.991888</td>\n",
              "      <td>3.100000</td>\n",
              "      <td>0.420000</td>\n",
              "      <td>9.500000</td>\n",
              "    </tr>\n",
              "    <tr>\n",
              "      <th>50%</th>\n",
              "      <td>7.000000</td>\n",
              "      <td>0.290000</td>\n",
              "      <td>0.300000</td>\n",
              "      <td>2.900000</td>\n",
              "      <td>0.046000</td>\n",
              "      <td>29.000000</td>\n",
              "      <td>115.500000</td>\n",
              "      <td>0.994525</td>\n",
              "      <td>3.210000</td>\n",
              "      <td>0.500000</td>\n",
              "      <td>10.500000</td>\n",
              "    </tr>\n",
              "    <tr>\n",
              "      <th>75%</th>\n",
              "      <td>7.700000</td>\n",
              "      <td>0.390000</td>\n",
              "      <td>0.380000</td>\n",
              "      <td>8.025000</td>\n",
              "      <td>0.060000</td>\n",
              "      <td>40.000000</td>\n",
              "      <td>151.250000</td>\n",
              "      <td>0.996800</td>\n",
              "      <td>3.322500</td>\n",
              "      <td>0.600000</td>\n",
              "      <td>11.400000</td>\n",
              "    </tr>\n",
              "    <tr>\n",
              "      <th>max</th>\n",
              "      <td>15.600000</td>\n",
              "      <td>1.580000</td>\n",
              "      <td>0.760000</td>\n",
              "      <td>19.500000</td>\n",
              "      <td>0.422000</td>\n",
              "      <td>124.000000</td>\n",
              "      <td>243.000000</td>\n",
              "      <td>1.003200</td>\n",
              "      <td>3.900000</td>\n",
              "      <td>1.360000</td>\n",
              "      <td>14.200000</td>\n",
              "    </tr>\n",
              "  </tbody>\n",
              "</table>\n",
              "</div>"
            ],
            "text/plain": [
              "                V1           V2  ...          V10          V11\n",
              "count  1000.000000  1000.000000  ...  1000.000000  1000.000000\n",
              "mean      7.190100     0.331410  ...     0.526280    10.607023\n",
              "std       1.318262     0.162915  ...     0.147138     1.224684\n",
              "min       3.900000     0.080000  ...     0.230000     8.400000\n",
              "25%       6.400000     0.220000  ...     0.420000     9.500000\n",
              "50%       7.000000     0.290000  ...     0.500000    10.500000\n",
              "75%       7.700000     0.390000  ...     0.600000    11.400000\n",
              "max      15.600000     1.580000  ...     1.360000    14.200000\n",
              "\n",
              "[8 rows x 11 columns]"
            ]
          },
          "metadata": {
            "tags": []
          },
          "execution_count": 24
        }
      ]
    },
    {
      "cell_type": "code",
      "metadata": {
        "id": "1j--_d-1rW-X",
        "outputId": "1e498248-0cc7-444c-ab28-26e31c204fd6",
        "colab": {
          "base_uri": "https://localhost:8080/"
        }
      },
      "source": [
        "df_obs.info()"
      ],
      "execution_count": 37,
      "outputs": [
        {
          "output_type": "stream",
          "text": [
            "<class 'pandas.core.frame.DataFrame'>\n",
            "RangeIndex: 1000 entries, 0 to 999\n",
            "Data columns (total 13 columns):\n",
            " #   Column  Non-Null Count  Dtype  \n",
            "---  ------  --------------  -----  \n",
            " 0   V1      1000 non-null   float64\n",
            " 1   V2      1000 non-null   float64\n",
            " 2   V3      1000 non-null   float64\n",
            " 3   V4      1000 non-null   float64\n",
            " 4   V5      1000 non-null   float64\n",
            " 5   V6      1000 non-null   float64\n",
            " 6   V7      1000 non-null   float64\n",
            " 7   V8      1000 non-null   float64\n",
            " 8   V9      1000 non-null   float64\n",
            " 9   V10     1000 non-null   float64\n",
            " 10  V11     1000 non-null   float64\n",
            " 11  V0      1000 non-null   uint8  \n",
            " 12  0       1000 non-null   int64  \n",
            "dtypes: float64(11), int64(1), uint8(1)\n",
            "memory usage: 94.9 KB\n"
          ],
          "name": "stdout"
        }
      ]
    },
    {
      "cell_type": "markdown",
      "metadata": {
        "id": "00XxbeZ_reue"
      },
      "source": [
        "#### Format obs data for predictions"
      ]
    },
    {
      "cell_type": "code",
      "metadata": {
        "id": "toJJ43qlrbxm"
      },
      "source": [
        "V0_obs = pd.get_dummies(df_obs['V0'], drop_first=True)\n",
        "df_obs.drop(['V0'], axis=1, inplace=True)\n",
        "df_obs = pd.concat([df_obs, V0_obs], axis=1)\n",
        "df_obs.rename(columns={\"B\": \"V0\"}, inplace=True)"
      ],
      "execution_count": 50,
      "outputs": []
    },
    {
      "cell_type": "markdown",
      "metadata": {
        "id": "GU0I34UrrkjS"
      },
      "source": [
        "#### Predict"
      ]
    },
    {
      "cell_type": "code",
      "metadata": {
        "id": "eRv-_MTnrilw"
      },
      "source": [
        "obs_predictions = grid.predict(df_obs)"
      ],
      "execution_count": 34,
      "outputs": []
    },
    {
      "cell_type": "markdown",
      "metadata": {
        "id": "dlyEdQ-yr9iS"
      },
      "source": [
        "#### Save the prediction to the same obs csv"
      ]
    },
    {
      "cell_type": "code",
      "metadata": {
        "id": "LqmQScDSr8ft"
      },
      "source": [
        "df_obs = pd.concat([df_obs, pd.Series(obs_predictions, name='target')], axis=1)"
      ],
      "execution_count": 51,
      "outputs": []
    },
    {
      "cell_type": "code",
      "metadata": {
        "id": "i6uQibsJtgOa",
        "outputId": "34df469a-0ea5-4d93-b2ee-3f963f507363",
        "colab": {
          "base_uri": "https://localhost:8080/",
          "height": 419
        }
      },
      "source": [
        "df_obs"
      ],
      "execution_count": 53,
      "outputs": [
        {
          "output_type": "execute_result",
          "data": {
            "text/html": [
              "<div>\n",
              "<style scoped>\n",
              "    .dataframe tbody tr th:only-of-type {\n",
              "        vertical-align: middle;\n",
              "    }\n",
              "\n",
              "    .dataframe tbody tr th {\n",
              "        vertical-align: top;\n",
              "    }\n",
              "\n",
              "    .dataframe thead th {\n",
              "        text-align: right;\n",
              "    }\n",
              "</style>\n",
              "<table border=\"1\" class=\"dataframe\">\n",
              "  <thead>\n",
              "    <tr style=\"text-align: right;\">\n",
              "      <th></th>\n",
              "      <th>V1</th>\n",
              "      <th>V2</th>\n",
              "      <th>V3</th>\n",
              "      <th>V4</th>\n",
              "      <th>V5</th>\n",
              "      <th>V6</th>\n",
              "      <th>V7</th>\n",
              "      <th>V8</th>\n",
              "      <th>V9</th>\n",
              "      <th>V10</th>\n",
              "      <th>V11</th>\n",
              "      <th>V0</th>\n",
              "      <th>target</th>\n",
              "    </tr>\n",
              "  </thead>\n",
              "  <tbody>\n",
              "    <tr>\n",
              "      <th>0</th>\n",
              "      <td>5.7</td>\n",
              "      <td>0.21</td>\n",
              "      <td>0.25</td>\n",
              "      <td>1.1</td>\n",
              "      <td>0.035</td>\n",
              "      <td>26.0</td>\n",
              "      <td>81.0</td>\n",
              "      <td>0.99020</td>\n",
              "      <td>3.31</td>\n",
              "      <td>0.52</td>\n",
              "      <td>11.4</td>\n",
              "      <td>0</td>\n",
              "      <td>1</td>\n",
              "    </tr>\n",
              "    <tr>\n",
              "      <th>1</th>\n",
              "      <td>8.7</td>\n",
              "      <td>0.78</td>\n",
              "      <td>0.51</td>\n",
              "      <td>1.7</td>\n",
              "      <td>0.415</td>\n",
              "      <td>12.0</td>\n",
              "      <td>66.0</td>\n",
              "      <td>0.99623</td>\n",
              "      <td>3.00</td>\n",
              "      <td>1.17</td>\n",
              "      <td>9.2</td>\n",
              "      <td>1</td>\n",
              "      <td>1</td>\n",
              "    </tr>\n",
              "    <tr>\n",
              "      <th>2</th>\n",
              "      <td>7.3</td>\n",
              "      <td>0.26</td>\n",
              "      <td>0.53</td>\n",
              "      <td>12.7</td>\n",
              "      <td>0.047</td>\n",
              "      <td>60.5</td>\n",
              "      <td>156.0</td>\n",
              "      <td>0.99840</td>\n",
              "      <td>3.06</td>\n",
              "      <td>0.45</td>\n",
              "      <td>9.1</td>\n",
              "      <td>0</td>\n",
              "      <td>1</td>\n",
              "    </tr>\n",
              "    <tr>\n",
              "      <th>3</th>\n",
              "      <td>6.9</td>\n",
              "      <td>0.40</td>\n",
              "      <td>0.37</td>\n",
              "      <td>8.9</td>\n",
              "      <td>0.053</td>\n",
              "      <td>36.0</td>\n",
              "      <td>148.0</td>\n",
              "      <td>0.99600</td>\n",
              "      <td>3.16</td>\n",
              "      <td>0.50</td>\n",
              "      <td>9.3</td>\n",
              "      <td>0</td>\n",
              "      <td>1</td>\n",
              "    </tr>\n",
              "    <tr>\n",
              "      <th>4</th>\n",
              "      <td>7.0</td>\n",
              "      <td>0.22</td>\n",
              "      <td>0.26</td>\n",
              "      <td>2.8</td>\n",
              "      <td>0.036</td>\n",
              "      <td>44.0</td>\n",
              "      <td>132.0</td>\n",
              "      <td>0.99078</td>\n",
              "      <td>3.34</td>\n",
              "      <td>0.41</td>\n",
              "      <td>12.0</td>\n",
              "      <td>0</td>\n",
              "      <td>1</td>\n",
              "    </tr>\n",
              "    <tr>\n",
              "      <th>...</th>\n",
              "      <td>...</td>\n",
              "      <td>...</td>\n",
              "      <td>...</td>\n",
              "      <td>...</td>\n",
              "      <td>...</td>\n",
              "      <td>...</td>\n",
              "      <td>...</td>\n",
              "      <td>...</td>\n",
              "      <td>...</td>\n",
              "      <td>...</td>\n",
              "      <td>...</td>\n",
              "      <td>...</td>\n",
              "      <td>...</td>\n",
              "    </tr>\n",
              "    <tr>\n",
              "      <th>995</th>\n",
              "      <td>5.7</td>\n",
              "      <td>0.21</td>\n",
              "      <td>0.24</td>\n",
              "      <td>2.3</td>\n",
              "      <td>0.047</td>\n",
              "      <td>60.0</td>\n",
              "      <td>189.0</td>\n",
              "      <td>0.99500</td>\n",
              "      <td>3.65</td>\n",
              "      <td>0.72</td>\n",
              "      <td>10.1</td>\n",
              "      <td>0</td>\n",
              "      <td>1</td>\n",
              "    </tr>\n",
              "    <tr>\n",
              "      <th>996</th>\n",
              "      <td>7.0</td>\n",
              "      <td>0.12</td>\n",
              "      <td>0.29</td>\n",
              "      <td>10.3</td>\n",
              "      <td>0.039</td>\n",
              "      <td>41.0</td>\n",
              "      <td>98.0</td>\n",
              "      <td>0.99564</td>\n",
              "      <td>3.19</td>\n",
              "      <td>0.38</td>\n",
              "      <td>9.8</td>\n",
              "      <td>0</td>\n",
              "      <td>1</td>\n",
              "    </tr>\n",
              "    <tr>\n",
              "      <th>997</th>\n",
              "      <td>11.6</td>\n",
              "      <td>0.41</td>\n",
              "      <td>0.54</td>\n",
              "      <td>1.5</td>\n",
              "      <td>0.095</td>\n",
              "      <td>22.0</td>\n",
              "      <td>41.0</td>\n",
              "      <td>0.99735</td>\n",
              "      <td>3.02</td>\n",
              "      <td>0.76</td>\n",
              "      <td>9.9</td>\n",
              "      <td>1</td>\n",
              "      <td>0</td>\n",
              "    </tr>\n",
              "    <tr>\n",
              "      <th>998</th>\n",
              "      <td>6.3</td>\n",
              "      <td>0.27</td>\n",
              "      <td>0.37</td>\n",
              "      <td>7.9</td>\n",
              "      <td>0.047</td>\n",
              "      <td>58.0</td>\n",
              "      <td>215.0</td>\n",
              "      <td>0.99542</td>\n",
              "      <td>3.19</td>\n",
              "      <td>0.48</td>\n",
              "      <td>9.5</td>\n",
              "      <td>0</td>\n",
              "      <td>1</td>\n",
              "    </tr>\n",
              "    <tr>\n",
              "      <th>999</th>\n",
              "      <td>7.8</td>\n",
              "      <td>0.76</td>\n",
              "      <td>0.04</td>\n",
              "      <td>2.3</td>\n",
              "      <td>0.092</td>\n",
              "      <td>15.0</td>\n",
              "      <td>54.0</td>\n",
              "      <td>0.99700</td>\n",
              "      <td>3.26</td>\n",
              "      <td>0.65</td>\n",
              "      <td>9.8</td>\n",
              "      <td>1</td>\n",
              "      <td>1</td>\n",
              "    </tr>\n",
              "  </tbody>\n",
              "</table>\n",
              "<p>1000 rows × 13 columns</p>\n",
              "</div>"
            ],
            "text/plain": [
              "       V1    V2    V3    V4     V5    V6  ...       V8    V9   V10   V11  V0  target\n",
              "0     5.7  0.21  0.25   1.1  0.035  26.0  ...  0.99020  3.31  0.52  11.4   0       1\n",
              "1     8.7  0.78  0.51   1.7  0.415  12.0  ...  0.99623  3.00  1.17   9.2   1       1\n",
              "2     7.3  0.26  0.53  12.7  0.047  60.5  ...  0.99840  3.06  0.45   9.1   0       1\n",
              "3     6.9  0.40  0.37   8.9  0.053  36.0  ...  0.99600  3.16  0.50   9.3   0       1\n",
              "4     7.0  0.22  0.26   2.8  0.036  44.0  ...  0.99078  3.34  0.41  12.0   0       1\n",
              "..    ...   ...   ...   ...    ...   ...  ...      ...   ...   ...   ...  ..     ...\n",
              "995   5.7  0.21  0.24   2.3  0.047  60.0  ...  0.99500  3.65  0.72  10.1   0       1\n",
              "996   7.0  0.12  0.29  10.3  0.039  41.0  ...  0.99564  3.19  0.38   9.8   0       1\n",
              "997  11.6  0.41  0.54   1.5  0.095  22.0  ...  0.99735  3.02  0.76   9.9   1       0\n",
              "998   6.3  0.27  0.37   7.9  0.047  58.0  ...  0.99542  3.19  0.48   9.5   0       1\n",
              "999   7.8  0.76  0.04   2.3  0.092  15.0  ...  0.99700  3.26  0.65   9.8   1       1\n",
              "\n",
              "[1000 rows x 13 columns]"
            ]
          },
          "metadata": {
            "tags": []
          },
          "execution_count": 53
        }
      ]
    },
    {
      "cell_type": "code",
      "metadata": {
        "id": "jrAj7glEsjQb"
      },
      "source": [
        "df_obs.to_csv('predictions.csv')"
      ],
      "execution_count": 54,
      "outputs": []
    }
  ]
}